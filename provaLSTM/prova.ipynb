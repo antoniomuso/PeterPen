{
 "cells": [
  {
   "cell_type": "code",
   "execution_count": 1,
   "metadata": {},
   "outputs": [
    {
     "name": "stderr",
     "output_type": "stream",
     "text": [
      "/Users/giovanni/anaconda3/lib/python3.6/site-packages/h5py/__init__.py:36: FutureWarning: Conversion of the second argument of issubdtype from `float` to `np.floating` is deprecated. In future, it will be treated as `np.float64 == np.dtype(float).type`.\n",
      "  from ._conv import register_converters as _register_converters\n",
      "Using TensorFlow backend.\n"
     ]
    }
   ],
   "source": [
    "import pandas as pd\n",
    "import numpy as np\n",
    "import json\n",
    "import keras\n",
    "from keras.layers import Dense, LSTM\n",
    "from keras.models import Sequential, load_model"
   ]
  },
  {
   "cell_type": "code",
   "execution_count": 2,
   "metadata": {},
   "outputs": [],
   "source": [
    "with open('../dati/lines.json', 'r') as f:\n",
    "    data_lines = json.load(f)\n",
    "\n",
    "with open('../dati/lines_2.json', 'r') as f:\n",
    "    data_lines += json.load(f)\n",
    "\n",
    "for elem in range(len(data_lines)):\n",
    "    for arr in range(len(data_lines[elem])):\n",
    "        tmp = []\n",
    "        for f in range(7):\n",
    "            tmp.append(data_lines[elem][arr][f])\n",
    "        data_lines[elem][arr] = tmp"
   ]
  },
  {
   "cell_type": "code",
   "execution_count": 3,
   "metadata": {},
   "outputs": [],
   "source": [
    "with open('../dati/circles.json', 'r') as f:\n",
    "    data_circles = json.load(f)\n",
    "\n",
    "for elem in range(len(data_circles)):\n",
    "    for arr in range(len(data_circles[elem])):\n",
    "        tmp = []\n",
    "        for f in range(7):\n",
    "            tmp.append(data_circles[elem][arr][f])\n",
    "        data_circles[elem][arr] = tmp\n",
    "        "
   ]
  },
  {
   "cell_type": "code",
   "execution_count": 4,
   "metadata": {},
   "outputs": [],
   "source": [
    "with open('../dati/lines.json', 'r') as f:\n",
    "    data_lines = json.load(f)\n",
    "\n",
    "with open('../dati/lines_2.json', 'r') as f:\n",
    "    data_lines += json.load(f)\n",
    "    \n",
    "\n",
    "def generator(data, labels):\n",
    "    assert len(data) == len(labels)\n",
    "    while True:\n",
    "        for elem in range(len(data)):\n",
    "            word_array = []\n",
    "            for arr in range(len(data[elem])):\n",
    "                tmp = []\n",
    "                for f in range(7):\n",
    "                    tmp.append(data[elem][arr][f])\n",
    "                word_array.append(tmp)\n",
    "            yield np.reshape(np.array(word_array), (1, len(word_array), 7)), [labels[elem]]\n",
    "\n",
    "g_lines = generator(data_lines, [1] * len(data_lines))"
   ]
  },
  {
   "cell_type": "code",
   "execution_count": 5,
   "metadata": {},
   "outputs": [],
   "source": [
    "with open('../dati/circles.json', 'r') as f:\n",
    "    data_circles = json.load(f)\n",
    "    \n",
    "g_circles = generator(data_circles, [0] * len(data_circles))"
   ]
  },
  {
   "cell_type": "code",
   "execution_count": 6,
   "metadata": {},
   "outputs": [],
   "source": [
    "with open('../dati/dario.json', 'r') as f:\n",
    "    data_d = json.load(f)\n",
    "g_dario = generator(data_d[:-3], [1] * 7)\n",
    "g_dario_test = generator(data_d[-3:], [1] * 3)"
   ]
  },
  {
   "cell_type": "code",
   "execution_count": 7,
   "metadata": {},
   "outputs": [],
   "source": [
    "with open('../dati/antonio.json', 'r') as f:\n",
    "    data_a = json.load(f)\n",
    "    \n",
    "g_antonio = generator(data_a[:-3], [0] * 8)\n",
    "g_antonio_test = generator(data_a[-3:], [0] * 3)"
   ]
  },
  {
   "cell_type": "code",
   "execution_count": 8,
   "metadata": {},
   "outputs": [],
   "source": [
    "with open('../dati/taraz.json', 'r') as f:\n",
    "    data_t = json.load(f)\n",
    "    \n",
    "g_taraz = generator(data_t[:-3], [0] * 7)\n",
    "g_taraz_test = generator(data_t[-3:], [0] * 3)"
   ]
  },
  {
   "cell_type": "code",
   "execution_count": 9,
   "metadata": {},
   "outputs": [],
   "source": [
    "with open('../dati/giovanni.json', 'r') as f:\n",
    "    data_g = json.load(f)\n",
    "    \n",
    "g_giovanni = generator(data_g[:-3], [0] * 5)\n",
    "g_giovanni_test = generator(data_g[-3:], [0] * 3)"
   ]
  },
  {
   "cell_type": "code",
   "execution_count": 10,
   "metadata": {},
   "outputs": [],
   "source": [
    "def mix_generator(g1, g2):\n",
    "    while True:\n",
    "        yield next(g1)\n",
    "        yield next(g2)\n",
    "\n",
    "g_mix = mix_generator(g_lines, g_circles)\n",
    "g_dario_giovanni = mix_generator(g_dario, g_giovanni)\n",
    "g_dario_antonio = mix_generator(g_dario, g_antonio)\n",
    "g_dario_taraz = mix_generator(g_dario, g_taraz)\n",
    "g_dario_giovanni_antonio = mix_generator(g_dario_giovanni, g_dario_antonio)\n",
    "g_dario_tutti = mix_generator(g_dario_giovanni_antonio, g_dario_taraz)"
   ]
  },
  {
   "cell_type": "code",
   "execution_count": 11,
   "metadata": {},
   "outputs": [],
   "source": [
    "def generator_one_against_all(path_genuine, paths_impostors):\n",
    "    with open(path_genuine, 'r') as f:\n",
    "        genuine_data = json.load(f)\n",
    "        \n",
    "    train_ratio = round(len(genuine_data) / 5)\n",
    "    assert len(genuine_data[:-train_ratio]) + len(genuine_data[-train_ratio:]) == len(genuine_data)\n",
    "    genuine_generator = generator(genuine_data[:-train_ratio], [1] * (len(genuine_data) - train_ratio))\n",
    "    genuine_generator_test = generator(genuine_data[-train_ratio:], [1] * train_ratio)\n",
    "    \n",
    "    generator_all = genuine_generator\n",
    "    generator_all_test = genuine_generator_test\n",
    "    \n",
    "    for path in paths_impostors:\n",
    "        with open(path, 'r') as f:\n",
    "            impostor_data = json.load(f)\n",
    "        train_ratio = round(len(impostor_data) / 5)\n",
    "        assert len(impostor_data[:-train_ratio]) + len(impostor_data[-train_ratio:]) == len(impostor_data)\n",
    "        generator_all = mix_generator(generator_all, generator(impostor_data[:-train_ratio], [0] * (len(impostor_data) - train_ratio)))\n",
    "        generator_all_test = mix_generator(generator_all_test, generator(impostor_data[-train_ratio:], [0] * train_ratio))\n",
    "        \n",
    "    return generator_all, generator_all_test\n",
    "\n",
    "impostors = ['../dati/giovanni.json', '../dati/taraz.json']\n",
    "g_dario_impostors, g_dario_impostors_test = generator_one_against_all('../dati/dario.json', impostors)"
   ]
  },
  {
   "cell_type": "code",
   "execution_count": 12,
   "metadata": {},
   "outputs": [],
   "source": [
    "model_dario = Sequential()\n",
    "model_dario.add(LSTM(batch_size=1, input_shape=(None, 7), units=200, activation=\"sigmoid\", return_sequences=False, recurrent_activation=\"hard_sigmoid\"))\n",
    "model_dario.add(Dense(1, activation='sigmoid'))"
   ]
  },
  {
   "cell_type": "code",
   "execution_count": 13,
   "metadata": {},
   "outputs": [],
   "source": [
    "model_dario.compile(loss='binary_crossentropy', optimizer='rmsprop', metrics=['accuracy'])"
   ]
  },
  {
   "cell_type": "code",
   "execution_count": 14,
   "metadata": {},
   "outputs": [
    {
     "name": "stdout",
     "output_type": "stream",
     "text": [
      "Epoch 1/20\n",
      "42/42 [==============================] - 7s 161ms/step - loss: 0.5940 - acc: 0.7143\n",
      "Epoch 2/20\n",
      "42/42 [==============================] - 6s 144ms/step - loss: 0.4778 - acc: 0.7619\n",
      "Epoch 3/20\n",
      "42/42 [==============================] - 6s 144ms/step - loss: 0.4662 - acc: 0.7381\n",
      "Epoch 4/20\n",
      "42/42 [==============================] - 6s 143ms/step - loss: 0.4466 - acc: 0.7619\n",
      "Epoch 5/20\n",
      "42/42 [==============================] - 6s 145ms/step - loss: 0.4263 - acc: 0.7857\n",
      "Epoch 6/20\n",
      "42/42 [==============================] - 6s 146ms/step - loss: 0.3702 - acc: 0.8571\n",
      "Epoch 7/20\n",
      "42/42 [==============================] - 6s 143ms/step - loss: 0.4002 - acc: 0.8333\n",
      "Epoch 8/20\n",
      "42/42 [==============================] - 6s 144ms/step - loss: 0.3223 - acc: 0.9048\n",
      "Epoch 9/20\n",
      "42/42 [==============================] - 6s 145ms/step - loss: 0.3321 - acc: 0.8810\n",
      "Epoch 10/20\n",
      "42/42 [==============================] - 6s 144ms/step - loss: 0.3292 - acc: 0.8571\n",
      "Epoch 11/20\n",
      "42/42 [==============================] - 6s 143ms/step - loss: 0.2906 - acc: 0.9286\n",
      "Epoch 12/20\n",
      "42/42 [==============================] - 6s 145ms/step - loss: 0.2662 - acc: 0.9286\n",
      "Epoch 13/20\n",
      "42/42 [==============================] - 6s 144ms/step - loss: 0.2977 - acc: 0.9286\n",
      "Epoch 14/20\n",
      "42/42 [==============================] - 6s 146ms/step - loss: 0.2387 - acc: 0.9524\n",
      "Epoch 15/20\n",
      "42/42 [==============================] - 6s 143ms/step - loss: 0.2296 - acc: 0.9286\n",
      "Epoch 16/20\n",
      "42/42 [==============================] - 6s 143ms/step - loss: 0.2103 - acc: 0.9524\n",
      "Epoch 17/20\n",
      "42/42 [==============================] - 6s 145ms/step - loss: 0.2558 - acc: 0.9286\n",
      "Epoch 18/20\n",
      "42/42 [==============================] - 6s 149ms/step - loss: 0.1983 - acc: 0.9286\n",
      "Epoch 19/20\n",
      "42/42 [==============================] - 6s 144ms/step - loss: 0.1857 - acc: 0.9524\n",
      "Epoch 20/20\n",
      "42/42 [==============================] - 6s 147ms/step - loss: 0.2212 - acc: 0.9286\n"
     ]
    }
   ],
   "source": [
    "hist = model_dario.fit_generator(g_dario_impostors, epochs=20, steps_per_epoch=42)"
   ]
  },
  {
   "cell_type": "code",
   "execution_count": 15,
   "metadata": {},
   "outputs": [
    {
     "name": "stdout",
     "output_type": "stream",
     "text": [
      "6/6 [==============================] - 0s 39ms/step\n"
     ]
    },
    {
     "data": {
      "text/plain": [
       "[0.4539774948110183, 0.8333333333333334]"
      ]
     },
     "execution_count": 15,
     "metadata": {},
     "output_type": "execute_result"
    }
   ],
   "source": [
    "model_dario.evaluate_generator(g_dario_impostors_test, verbose=1, steps=6)"
   ]
  },
  {
   "cell_type": "code",
   "execution_count": null,
   "metadata": {},
   "outputs": [
    {
     "name": "stdout",
     "output_type": "stream",
     "text": [
      "3/3 [==============================] - 0s 24ms/step\n"
     ]
    }
   ],
   "source": [
    "out_dario = model_dario.evaluate_generator(g_dario_test, verbose=1, steps=3)\n",
    "out_giovanni = model_dario.evaluate_generator(g_giovanni_test, verbose=1, steps=3)\n",
    "out_taraz = model_dario.evaluate_generator(g_taraz_test, verbose=1, steps=3)\n",
    "\n",
    "out_dario, out_giovanni, out_taraz"
   ]
  },
  {
   "cell_type": "code",
   "execution_count": null,
   "metadata": {},
   "outputs": [],
   "source": [
    "model_dario.save(\"model_dario.h5\")\n",
    "del model_dario"
   ]
  },
  {
   "cell_type": "code",
   "execution_count": null,
   "metadata": {},
   "outputs": [],
   "source": [
    "model_dario_reloaded = load_model(\"model_dario.h5\")"
   ]
  },
  {
   "cell_type": "code",
   "execution_count": null,
   "metadata": {},
   "outputs": [],
   "source": [
    "out_dario_reloaded = model_dario_reloaded.evaluate_generator(g_dario_test, verbose=1, steps=3)\n",
    "\n",
    "out_dario_reloaded"
   ]
  },
  {
   "cell_type": "code",
   "execution_count": null,
   "metadata": {},
   "outputs": [],
   "source": [
    "# QUA SOTTO C'È ROBA VECCHIA"
   ]
  },
  {
   "cell_type": "markdown",
   "metadata": {},
   "source": [
    "with open('lines.json', 'r') as f:\n",
    "    data = json.load(f)\n",
    "    \n",
    "X_train = []\n",
    "y_train = []\n",
    "for i in range(len(data)):\n",
    "    dfl = pd.DataFrame(data = data[i])\n",
    "    for j in range(len(dfl)):\n",
    "        X_train.append(dfl.iloc[j].values)\n",
    "        y_train.append(0)           # lines\n",
    " \n",
    "\n",
    "with open('circles.json', 'r') as f:\n",
    "    data = json.load(f)\n",
    "\n",
    "dfc = pd.DataFrame(data = data)    \n",
    "for i in range(len(data)):\n",
    "    dfc = pd.DataFrame(data = data[i])\n",
    "    for j in range(len(dfc)):\n",
    "        X_train.append(dfc.iloc[j].values)\n",
    "        y_train.append(1)           # circles\n",
    "    \n",
    "    \n",
    "with open('mix.json', 'r') as f:\n",
    "    data = json.load(f)\n",
    "\n",
    "df = pd.DataFrame(data = data)    \n",
    "mix = []\n",
    "for i in range(len(df)):\n",
    "    mix.append(pd.DataFrame(data = data[i]))\n",
    "\n",
    "\n",
    "X_train = pd.DataFrame(X_train).values\n",
    "y_train1 = np.array(y_train[:158])\n",
    "X_train = np.reshape(X_train, (1, X_train.shape[0], 7))\n",
    "\n",
    "X_train1 = np.reshape(X_train1, (1, -1, 7))\n",
    "y_train1 = np.reshape(y_train1, (1, y_train1.shape[0], 1))\n",
    "print(X_train.shape)\n",
    "print(y_train)"
   ]
  },
  {
   "cell_type": "markdown",
   "metadata": {},
   "source": [
    "model = Sequential()\n",
    "model.add(LSTM(batch_size=1, input_shape=(None, 7), units=200, activation=\"sigmoid\", return_sequences=True, recurrent_activation=\"hard_sigmoid\"))\n",
    "model.add(Dense(1, activation='sigmoid'))"
   ]
  },
  {
   "cell_type": "markdown",
   "metadata": {},
   "source": [
    "model.compile(loss='binary_crossentropy', optimizer='rmsprop', metrics=['accuracy'])"
   ]
  },
  {
   "cell_type": "markdown",
   "metadata": {},
   "source": [
    "print(X_train1.shape)"
   ]
  },
  {
   "cell_type": "markdown",
   "metadata": {
    "scrolled": true
   },
   "source": [
    "hist = model.fit(X_train1, y_train1, batch_size=1, epochs=10, verbose=1)"
   ]
  },
  {
   "cell_type": "code",
   "execution_count": null,
   "metadata": {},
   "outputs": [],
   "source": []
  }
 ],
 "metadata": {
  "kernelspec": {
   "display_name": "Python 3",
   "language": "python",
   "name": "python3"
  },
  "language_info": {
   "codemirror_mode": {
    "name": "ipython",
    "version": 3
   },
   "file_extension": ".py",
   "mimetype": "text/x-python",
   "name": "python",
   "nbconvert_exporter": "python",
   "pygments_lexer": "ipython3",
   "version": "3.6.5"
  }
 },
 "nbformat": 4,
 "nbformat_minor": 2
}
