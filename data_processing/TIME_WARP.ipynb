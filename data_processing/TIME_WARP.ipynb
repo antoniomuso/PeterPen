{
 "cells": [
  {
   "cell_type": "code",
   "execution_count": 4,
   "metadata": {},
   "outputs": [],
   "source": [
    "import pandas as pd\n",
    "import json\n",
    "import numpy as np\n",
    "from dtw import dtw"
   ]
  },
  {
   "cell_type": "code",
   "execution_count": 5,
   "metadata": {},
   "outputs": [],
   "source": [
    "#algoritmo principale\n",
    "def DTWDistance(signalA, signalB, channel):\n",
    "    n,m = len(signalA), len(signalB)\n",
    "    DTW = np.zeros(shape=(n, m))\n",
    "    for i in range(0,n):\n",
    "        DTW[i,0] = np.finfo(dtype=float).max\n",
    "    for i in range(0,m):\n",
    "        DTW[0,i] = np.finfo(dtype=float).max\n",
    "    DTW[0,0] = 0\n",
    "    \n",
    "    for i in range(1,n):\n",
    "        for j in range(1,m):\n",
    "            const = abs(signalA[i][channel] - signalB[j][channel])\n",
    "            DTW[i,j] = const + min(DTW[i-1, j], DTW[i, j-1], DTW[i-1, j-1])\n",
    "    \n",
    "    return DTW[n - 1, m - 1]"
   ]
  },
  {
   "cell_type": "code",
   "execution_count": 6,
   "metadata": {},
   "outputs": [],
   "source": [
    "#Algoritmo di scaling\n",
    "def new_scale_df(data_frame, gyro, accl, pres):\n",
    "    \n",
    "    def scale(value, max_, min_):\n",
    "        return (value - min_) / (max_ - min_)\n",
    "        \n",
    "    copy = data_frame.copy() \n",
    "    \n",
    "    for wIndex in range(len(copy)):\n",
    "        for vIndex in range(len(copy[wIndex])):\n",
    "            copy[wIndex][vIndex][0] = scale(copy[wIndex][vIndex][0], accl, -accl)\n",
    "            copy[wIndex][vIndex][1] = scale(copy[wIndex][vIndex][1], accl, -accl)\n",
    "            copy[wIndex][vIndex][2] = scale(copy[wIndex][vIndex][2], accl, -accl)\n",
    "            copy[wIndex][vIndex][3] = scale(copy[wIndex][vIndex][3], pres, 0)\n",
    "            copy[wIndex][vIndex][4] = scale(copy[wIndex][vIndex][4], gyro, -gyro)\n",
    "            copy[wIndex][vIndex][5] = scale(copy[wIndex][vIndex][5], gyro, -gyro)\n",
    "            copy[wIndex][vIndex][6] = scale(copy[wIndex][vIndex][6], gyro, -gyro)\n",
    "    \n",
    "    return copy"
   ]
  },
  {
   "cell_type": "code",
   "execution_count": 7,
   "metadata": {},
   "outputs": [],
   "source": [
    "with open('./giovanni_new.json', 'r') as f:\n",
    "    data_giovanni = json.load(f)\n",
    "with open('./dario_new.json', 'r') as f:\n",
    "    data_dario = json.load(f)"
   ]
  },
  {
   "cell_type": "code",
   "execution_count": 8,
   "metadata": {},
   "outputs": [],
   "source": [
    "scaled_giovanni = new_scale_df(data_giovanni, 250, 2, 1024)\n",
    "scaled_dario = new_scale_df(data_dario, 250, 2, 1024)"
   ]
  },
  {
   "cell_type": "code",
   "execution_count": 17,
   "metadata": {},
   "outputs": [
    {
     "name": "stdout",
     "output_type": "stream",
     "text": [
      "0.001393935575290482 0.0008340617796671061\n"
     ]
    }
   ],
   "source": [
    "#for i in range(7):\n",
    "#    print('indice: ', i)\n",
    "#    print('gio vs dario',DTWDistance(scaled_giovanni[1], scaled_dario[1],i))\n",
    "#    print('gio vs dario',DTWDistance(scaled_giovanni[2], scaled_dario[2],i))\n",
    "#    print('gio vs gio',DTWDistance(scaled_giovanni[1], scaled_giovanni[2],i))\n",
    "#    print('dario vs dario', DTWDistance(scaled_dario[1], scaled_dario[2],i))\n",
    "l2_norm = lambda x, y: (x[0] - y[0]) ** 2\n",
    "d1, cost_matrix, acc_cost_matrix, path = dtw(scaled_giovanni[1], scaled_dario[1], dist=l2_norm)\n",
    "d2, cost_matrix, acc_cost_matrix, path = dtw(scaled_giovanni[1], scaled_giovanni[2], dist=l2_norm)\n",
    "print(d1, d2)"
   ]
  },
  {
   "cell_type": "code",
   "execution_count": null,
   "metadata": {},
   "outputs": [],
   "source": []
  }
 ],
 "metadata": {
  "kernelspec": {
   "display_name": "Python 3",
   "language": "python",
   "name": "python3"
  },
  "language_info": {
   "codemirror_mode": {
    "name": "ipython",
    "version": 3
   },
   "file_extension": ".py",
   "mimetype": "text/x-python",
   "name": "python",
   "nbconvert_exporter": "python",
   "pygments_lexer": "ipython3",
   "version": "3.6.6"
  }
 },
 "nbformat": 4,
 "nbformat_minor": 2
}
