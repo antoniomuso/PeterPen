{
 "cells": [
  {
   "cell_type": "code",
   "execution_count": 10,
   "metadata": {},
   "outputs": [],
   "source": [
    "import pandas as pd\n",
    "import json\n",
    "import numpy as np\n",
    "import sys\n",
    "from dtw import dtw"
   ]
  },
  {
   "cell_type": "code",
   "execution_count": 11,
   "metadata": {},
   "outputs": [],
   "source": [
    "#algoritmo principale\n",
    "def DTWDistance(signalA, signalB, channel):\n",
    "    n,m = len(signalA), len(signalB)\n",
    "    DTW = np.zeros(shape=(n, m))\n",
    "    for i in range(0,n):\n",
    "        DTW[i,0] = np.finfo(dtype=float).max\n",
    "    for i in range(0,m):\n",
    "        DTW[0,i] = np.finfo(dtype=float).max\n",
    "    DTW[0,0] = 0\n",
    "    \n",
    "    for i in range(1,n):\n",
    "        for j in range(1,m):\n",
    "            const = abs(signalA[i][channel] - signalB[j][channel])\n",
    "            DTW[i,j] = const + min(DTW[i-1, j], DTW[i, j-1], DTW[i-1, j-1])\n",
    "    \n",
    "    return DTW[n - 1, m - 1]"
   ]
  },
  {
   "cell_type": "code",
   "execution_count": 12,
   "metadata": {},
   "outputs": [],
   "source": [
    "#Algoritmo di scaling\n",
    "def new_scale_df(data_frame, gyro, accl, pres):\n",
    "    \n",
    "    def scale(value, max_, min_):\n",
    "        return (value - min_) / (max_ - min_)\n",
    "        \n",
    "    copy = data_frame.copy() \n",
    "    \n",
    "    for wIndex in range(len(copy)):\n",
    "        for vIndex in range(len(copy[wIndex])):\n",
    "            copy[wIndex][vIndex][0] = scale(copy[wIndex][vIndex][0], accl, -accl)\n",
    "            copy[wIndex][vIndex][1] = scale(copy[wIndex][vIndex][1], accl, -accl)\n",
    "            copy[wIndex][vIndex][2] = scale(copy[wIndex][vIndex][2], accl, -accl)\n",
    "            copy[wIndex][vIndex][3] = scale(copy[wIndex][vIndex][3], pres, 0)\n",
    "            copy[wIndex][vIndex][4] = scale(copy[wIndex][vIndex][4], gyro, -gyro)\n",
    "            copy[wIndex][vIndex][5] = scale(copy[wIndex][vIndex][5], gyro, -gyro)\n",
    "            copy[wIndex][vIndex][6] = scale(copy[wIndex][vIndex][6], gyro, -gyro)\n",
    "    \n",
    "    return copy"
   ]
  },
  {
   "cell_type": "code",
   "execution_count": 13,
   "metadata": {},
   "outputs": [],
   "source": [
    "def new_shift_df(data_frame, gyro, accl, pres):\n",
    "    \n",
    "    def shift(value, shifter):\n",
    "        return value + shifter\n",
    "    \n",
    "    copy = data_frame.copy()\n",
    "    \n",
    "    for wIndex in range(len(copy)):\n",
    "        for vIndex in range(len(copy[wIndex])):\n",
    "            copy[wIndex][vIndex][0] = shift(copy[wIndex][vIndex][0], accl)\n",
    "            copy[wIndex][vIndex][1] = shift(copy[wIndex][vIndex][1], accl)\n",
    "            copy[wIndex][vIndex][2] = shift(copy[wIndex][vIndex][2], accl)\n",
    "            copy[wIndex][vIndex][4] = shift(copy[wIndex][vIndex][4], gyro)\n",
    "            copy[wIndex][vIndex][5] = shift(copy[wIndex][vIndex][5], gyro)\n",
    "            copy[wIndex][vIndex][6] = shift(copy[wIndex][vIndex][6], gyro)\n",
    "    \n",
    "    return copy"
   ]
  },
  {
   "cell_type": "code",
   "execution_count": 14,
   "metadata": {},
   "outputs": [],
   "source": [
    "with open('../dati/scrittura_di_computer/scaled/Dario_scaled.json', 'r') as f:\n",
    "    data_giovanni = json.load(f)\n",
    "with open('../dati/scrittura_di_computer/scaled/Antonio_scaled.json', 'r') as f:\n",
    "    data_dario = json.load(f)"
   ]
  },
  {
   "cell_type": "code",
   "execution_count": 19,
   "metadata": {},
   "outputs": [
    {
     "ename": "ModuleNotFoundError",
     "evalue": "No module named 'mlpy'",
     "output_type": "error",
     "traceback": [
      "\u001b[0;31m---------------------------------------------------------------------------\u001b[0m",
      "\u001b[0;31mModuleNotFoundError\u001b[0m                       Traceback (most recent call last)",
      "\u001b[0;32m<ipython-input-19-b4a058c68aee>\u001b[0m in \u001b[0;36m<module>\u001b[0;34m\u001b[0m\n\u001b[1;32m      2\u001b[0m \u001b[0;31m#scaled_dario = new_scale_df(data_dario, 250, 2, 1024)\u001b[0m\u001b[0;34m\u001b[0m\u001b[0;34m\u001b[0m\u001b[0;34m\u001b[0m\u001b[0m\n\u001b[1;32m      3\u001b[0m \u001b[0;34m\u001b[0m\u001b[0m\n\u001b[0;32m----> 4\u001b[0;31m \u001b[0;32mfrom\u001b[0m \u001b[0mmlpy\u001b[0m \u001b[0;32mimport\u001b[0m \u001b[0;34m*\u001b[0m\u001b[0;34m\u001b[0m\u001b[0;34m\u001b[0m\u001b[0m\n\u001b[0m\u001b[1;32m      5\u001b[0m \u001b[0mmyir\u001b[0m \u001b[0;34m=\u001b[0m \u001b[0mIrelief\u001b[0m\u001b[0;34m(\u001b[0m\u001b[0;34m)\u001b[0m\u001b[0;34m\u001b[0m\u001b[0;34m\u001b[0m\u001b[0m\n",
      "\u001b[0;31mModuleNotFoundError\u001b[0m: No module named 'mlpy'"
     ]
    }
   ],
   "source": [
    "#scaled_giovanni = new_scale_df(data_giovanni, 250, 2, 1024)\n",
    "#scaled_dario = new_scale_df(data_dario, 250, 2, 1024)\n",
    "\n"
   ]
  },
  {
   "cell_type": "code",
   "execution_count": 16,
   "metadata": {},
   "outputs": [
    {
     "name": "stdout",
     "output_type": "stream",
     "text": [
      "indice:  0\n",
      "giovanni vs dario 0.0048783296249999995\n",
      "giovanni vs dario 0.0034944435000000026\n",
      "giovanni vs giovanni 0.0026201786249999966\n",
      "dario vs dario 0.0025949397499999993\n",
      "indice:  1\n",
      "giovanni vs dario 0.004203702\n",
      "giovanni vs dario 0.003087586625000002\n",
      "giovanni vs giovanni 0.003247955874999998\n",
      "dario vs dario 0.00301758025\n",
      "indice:  2\n",
      "giovanni vs dario 0.004450192624999997\n",
      "giovanni vs dario 0.002997985125\n",
      "giovanni vs giovanni 0.003350098\n",
      "dario vs dario 0.003321319000000002\n",
      "indice:  3\n",
      "giovanni vs dario 0.01031103515625\n",
      "giovanni vs dario 0.0071611328125\n",
      "giovanni vs giovanni 0.00657275390625\n",
      "dario vs dario 0.003517578125\n",
      "indice:  4\n",
      "giovanni vs dario 0.0021460762959999995\n",
      "giovanni vs dario 0.0018170381170000006\n",
      "giovanni vs giovanni 2.540456200000002e-05\n",
      "dario vs dario 3.0900728999999796e-05\n",
      "indice:  5\n",
      "giovanni vs dario 0.003351045822999999\n",
      "giovanni vs dario 0.002710083995999999\n",
      "giovanni vs giovanni 0.0033607786500000005\n",
      "dario vs dario 0.0021697175829999997\n",
      "indice:  6\n",
      "giovanni vs dario 0.004467610739999999\n",
      "giovanni vs dario 0.0034311984809999984\n",
      "giovanni vs giovanni 0.0033853893350000003\n",
      "dario vs dario 0.0027373587759999996\n"
     ]
    },
    {
     "data": {
      "text/plain": [
       "[0.03380799226525, 0.024699468656500002, 0.022562558953249993, 0.017389394213]"
      ]
     },
     "execution_count": 16,
     "metadata": {},
     "output_type": "execute_result"
    }
   ],
   "source": [
    "\n",
    "\n",
    "\n",
    "\n",
    "value = [0,0,0,0]\n",
    "for i in range(7):\n",
    "    print('indice: ', i)\n",
    "    l2_norm = lambda x, y: abs(x[i] - y[i])\n",
    "    d1, _ , _ , _ = dtw(data_giovanni[1], data_dario[1], dist=l2_norm)\n",
    "    print('giovanni vs dario',d1)\n",
    "    d2, _ , _ , _ = dtw(data_giovanni[2], data_dario[2], dist=l2_norm)\n",
    "    print('giovanni vs dario',d2)\n",
    "    d3, _ , _ , _ = dtw(data_giovanni[1], data_giovanni[2], dist=l2_norm)\n",
    "    print('giovanni vs giovanni',d3)\n",
    "    d4, _ , _ , _ = dtw(data_dario[1], data_dario[2], dist=l2_norm)\n",
    "    print('dario vs dario',d4)\n",
    "    value[0] += d1\n",
    "    value[1] += d2\n",
    "    value[2] += d3\n",
    "    value[3] += d4\n",
    "value\n",
    "    \n",
    "\n",
    "#l2_norm = lambda x, y: (x[0] - y[0]) ** 2\n",
    "#d1, cost_matrix, acc_cost_matrix, path = dtw(scaled_giovanni[1], scaled_dario[1], dist=l2_norm)\n",
    "#d2, _ , _ , _ = dtw(scaled_giovanni[1], scaled_giovanni[2], dist=l2_norm)\n",
    "#print(d1, d2)"
   ]
  },
  {
   "cell_type": "code",
   "execution_count": 17,
   "metadata": {},
   "outputs": [],
   "source": [
    "\n",
    "\n",
    "\n",
    "\n",
    "\n",
    "# escludiamo la pressione per ora perché è costante nel tempo e tende a diminuire le distanze fra due utenti"
   ]
  },
  {
   "cell_type": "code",
   "execution_count": 18,
   "metadata": {},
   "outputs": [
    {
     "ename": "NameError",
     "evalue": "name 'scaled_dario' is not defined",
     "output_type": "error",
     "traceback": [
      "\u001b[0;31m---------------------------------------------------------------------------\u001b[0m",
      "\u001b[0;31mNameError\u001b[0m                                 Traceback (most recent call last)",
      "\u001b[0;32m<ipython-input-18-c1bcbe270f7d>\u001b[0m in \u001b[0;36m<module>\u001b[0;34m\u001b[0m\n\u001b[0;32m----> 1\u001b[0;31m \u001b[0mmatrix\u001b[0m \u001b[0;34m=\u001b[0m \u001b[0mnp\u001b[0m\u001b[0;34m.\u001b[0m\u001b[0mzeros\u001b[0m\u001b[0;34m(\u001b[0m\u001b[0mshape\u001b[0m\u001b[0;34m=\u001b[0m\u001b[0;34m(\u001b[0m\u001b[0mlen\u001b[0m\u001b[0;34m(\u001b[0m\u001b[0mscaled_dario\u001b[0m\u001b[0;34m)\u001b[0m\u001b[0;34m,\u001b[0m\u001b[0mlen\u001b[0m\u001b[0;34m(\u001b[0m\u001b[0mscaled_dario\u001b[0m\u001b[0;34m)\u001b[0m \u001b[0;34m+\u001b[0m \u001b[0mlen\u001b[0m\u001b[0;34m(\u001b[0m\u001b[0mscaled_giovanni\u001b[0m\u001b[0;34m)\u001b[0m\u001b[0;34m)\u001b[0m\u001b[0;34m)\u001b[0m\u001b[0;34m\u001b[0m\u001b[0;34m\u001b[0m\u001b[0m\n\u001b[0m\u001b[1;32m      2\u001b[0m \u001b[0;34m\u001b[0m\u001b[0m\n\u001b[1;32m      3\u001b[0m \u001b[0;32mfor\u001b[0m \u001b[0mi\u001b[0m \u001b[0;32min\u001b[0m \u001b[0mrange\u001b[0m\u001b[0;34m(\u001b[0m\u001b[0mlen\u001b[0m\u001b[0;34m(\u001b[0m\u001b[0mscaled_dario\u001b[0m\u001b[0;34m)\u001b[0m\u001b[0;34m)\u001b[0m\u001b[0;34m:\u001b[0m\u001b[0;34m\u001b[0m\u001b[0;34m\u001b[0m\u001b[0m\n\u001b[1;32m      4\u001b[0m     \u001b[0;32mfor\u001b[0m \u001b[0mj\u001b[0m \u001b[0;32min\u001b[0m \u001b[0mrange\u001b[0m\u001b[0;34m(\u001b[0m\u001b[0mlen\u001b[0m\u001b[0;34m(\u001b[0m\u001b[0mscaled_dario\u001b[0m\u001b[0;34m)\u001b[0m\u001b[0;34m)\u001b[0m\u001b[0;34m:\u001b[0m\u001b[0;34m\u001b[0m\u001b[0;34m\u001b[0m\u001b[0m\n\u001b[1;32m      5\u001b[0m         \u001b[0;32mfor\u001b[0m \u001b[0ms\u001b[0m \u001b[0;32min\u001b[0m \u001b[0mrange\u001b[0m\u001b[0;34m(\u001b[0m\u001b[0;36m7\u001b[0m\u001b[0;34m)\u001b[0m\u001b[0;34m:\u001b[0m\u001b[0;34m\u001b[0m\u001b[0;34m\u001b[0m\u001b[0m\n",
      "\u001b[0;31mNameError\u001b[0m: name 'scaled_dario' is not defined"
     ]
    }
   ],
   "source": [
    "matrix = np.zeros(shape=(len(scaled_dario),len(scaled_dario) + len(scaled_giovanni)))\n",
    "\n",
    "for i in range(len(scaled_dario)):\n",
    "    for j in range(len(scaled_dario)):\n",
    "        for s in range(7):\n",
    "            if s == 3: continue\n",
    "            l2_norm = lambda x, y: abs(x[s] - y[s]) \n",
    "            d, _ , _ , _ = dtw(scaled_dario[i], scaled_dario[j], dist=l2_norm)\n",
    "            matrix[i, j] += d\n",
    "    for j in range(len(scaled_giovanni)):\n",
    "        for s in range(7):\n",
    "            if s == 3: continue\n",
    "            l2_norm = lambda x, y: abs(x[s] - y[s])\n",
    "            d, _ , _ , _ = dtw(scaled_dario[i], scaled_giovanni[j], dist=l2_norm)\n",
    "            matrix[i, j + len(scaled_dario)] += d\n",
    "    print(i)\n",
    "            \n",
    "matrix    "
   ]
  },
  {
   "cell_type": "code",
   "execution_count": null,
   "metadata": {},
   "outputs": [],
   "source": [
    "shifted_dario = new_scale_df(data_dario, 250, 2, 1024)\n",
    "shifted_giovanni = new_scale_df(data_giovanni, 250, 2, 1024)"
   ]
  },
  {
   "cell_type": "code",
   "execution_count": null,
   "metadata": {},
   "outputs": [],
   "source": [
    "matrix = np.zeros(shape=(len(shifted_dario),len(shifted_dario) + len(shifted_giovanni)))\n",
    "\n",
    "for i in range(len(shifted_dario)):\n",
    "    for j in range(len(shifted_dario)):\n",
    "        l2_norm = lambda x, y: abs((sum(x) - x[3]) - (sum(y) - y[3])) \n",
    "        d, _ , _ , _ = dtw(shifted_dario[i], shifted_dario[j], dist=l2_norm)\n",
    "        matrix[i, j] = d\n",
    "    for j in range(len(shifted_giovanni)):\n",
    "        l2_norm = lambda x, y: abs((sum(x) - x[3]) - (sum(y) - y[3]))\n",
    "        d, _ , _ , _ = dtw(shifted_dario[i], shifted_giovanni[j], dist=l2_norm)\n",
    "        matrix[i, j + len(shifted_dario)] = d\n",
    "    print(i)\n",
    "            \n",
    "matrix"
   ]
  },
  {
   "cell_type": "code",
   "execution_count": null,
   "metadata": {},
   "outputs": [],
   "source": [
    "matrix = np.zeros(shape=(len(scaled_dario),len(scaled_dario) + len(scaled_giovanni)))\n",
    "matrix.fill(sys.maxsize)\n",
    "\n",
    "for i in range(len(scaled_dario)):\n",
    "    for j in range(len(scaled_dario)):\n",
    "        for s in range(7):\n",
    "            l2_norm = lambda x, y: abs(x[s] - y[s]) \n",
    "            d, _ , _ , _ = dtw(scaled_dario[i], scaled_dario[j], dist=l2_norm)\n",
    "            matrix[i, j] = min(matrix[i, j], d)\n",
    "    for j in range(len(scaled_giovanni)):\n",
    "        for s in range(7):\n",
    "            l2_norm = lambda x, y: abs(x[s] - y[s])\n",
    "            d, _ , _ , _ = dtw(scaled_dario[i], scaled_giovanni[j], dist=l2_norm)\n",
    "            matrix[i, j + len(scaled_dario)] = min(matrix[i, j + len(scaled_dario)], d)\n",
    "    print(i)\n",
    "            \n",
    "matrix    "
   ]
  },
  {
   "cell_type": "code",
   "execution_count": null,
   "metadata": {},
   "outputs": [],
   "source": [
    "d = pd.DataFrame(matrix)\n",
    "for i in range(len(matrix)):\n",
    "    print(i,':',(matrix[i]).argmax(), max(matrix[i]))"
   ]
  },
  {
   "cell_type": "code",
   "execution_count": null,
   "metadata": {},
   "outputs": [],
   "source": [
    "d"
   ]
  },
  {
   "cell_type": "code",
   "execution_count": null,
   "metadata": {},
   "outputs": [],
   "source": [
    "min_values, max_values = [], []\n",
    "for i in range(len(matrix)):\n",
    "    minv, maxv = (sys.maxsize, -1), (-sys.maxsize, -1)\n",
    "    for j in range(len(matrix[i])):\n",
    "        if i == j: \n",
    "            continue\n",
    "        minv = (matrix[i][j], j) if minv[0] > matrix[i][j] else minv\n",
    "        maxv = (matrix[i][j], j) if maxv[0] < matrix[i][j] else maxv\n",
    "    min_values.append(minv)\n",
    "    max_values.append(maxv)\n",
    "    \n",
    "for i in range(len(min_values)):\n",
    "    print(\"index \", i, \" min value: \", min_values[i])\n",
    "        "
   ]
  }
 ],
 "metadata": {
  "kernelspec": {
   "display_name": "Python 3",
   "language": "python",
   "name": "python3"
  },
  "language_info": {
   "codemirror_mode": {
    "name": "ipython",
    "version": 3
   },
   "file_extension": ".py",
   "mimetype": "text/x-python",
   "name": "python",
   "nbconvert_exporter": "python",
   "pygments_lexer": "ipython3",
   "version": "3.6.8"
  }
 },
 "nbformat": 4,
 "nbformat_minor": 2
}
