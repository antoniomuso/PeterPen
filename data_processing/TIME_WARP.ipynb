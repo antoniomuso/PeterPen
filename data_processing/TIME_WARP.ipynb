{
 "cells": [
  {
   "cell_type": "code",
   "execution_count": 21,
   "metadata": {},
   "outputs": [],
   "source": [
    "import pandas as pd\n",
    "import json\n",
    "import numpy as np\n",
    "import sys\n",
    "from dtw import dtw\n",
    "import os\n",
    "import random\n",
    "from sklearn.metrics import *\n",
    "from fastdtw import fastdtw\n",
    "from scipy.spatial.distance import euclidean\n",
    "from cydtw import dtw, dtw_path\n",
    "\n",
    "\n",
    "\n"
   ]
  },
  {
   "cell_type": "code",
   "execution_count": 22,
   "metadata": {},
   "outputs": [],
   "source": [
    "#algoritmo principale\n",
    "def DTWDistance(signalA, signalB, channel):\n",
    "    n,m = len(signalA), len(signalB)\n",
    "    DTW = np.zeros(shape=(n, m))\n",
    "    for i in range(0,n):\n",
    "        DTW[i,0] = np.finfo(dtype=float).max\n",
    "    for i in range(0,m):\n",
    "        DTW[0,i] = np.finfo(dtype=float).max\n",
    "    DTW[0,0] = 0\n",
    "    \n",
    "    for i in range(1,n):\n",
    "        for j in range(1,m):\n",
    "            const = abs(signalA[i][channel] - signalB[j][channel])\n",
    "            DTW[i,j] = const + min(DTW[i-1, j], DTW[i, j-1], DTW[i-1, j-1])\n",
    "    \n",
    "    return DTW[n - 1, m - 1]"
   ]
  },
  {
   "cell_type": "code",
   "execution_count": 23,
   "metadata": {},
   "outputs": [],
   "source": [
    "#Algoritmo di scaling\n",
    "def new_scale_df(data_frame, gyro, accl, pres):\n",
    "    \n",
    "    def scale(value, max_, min_):\n",
    "        return (value - min_) / (max_ - min_)\n",
    "        \n",
    "    copy = data_frame.copy() \n",
    "    \n",
    "    for wIndex in range(len(copy)):\n",
    "        for vIndex in range(len(copy[wIndex])):\n",
    "            copy[wIndex][vIndex][0] = scale(copy[wIndex][vIndex][0], accl, -accl)\n",
    "            copy[wIndex][vIndex][1] = scale(copy[wIndex][vIndex][1], accl, -accl)\n",
    "            copy[wIndex][vIndex][2] = scale(copy[wIndex][vIndex][2], accl, -accl)\n",
    "            copy[wIndex][vIndex][3] = scale(copy[wIndex][vIndex][3], pres, 0)\n",
    "            copy[wIndex][vIndex][4] = scale(copy[wIndex][vIndex][4], gyro, -gyro)\n",
    "            copy[wIndex][vIndex][5] = scale(copy[wIndex][vIndex][5], gyro, -gyro)\n",
    "            copy[wIndex][vIndex][6] = scale(copy[wIndex][vIndex][6], gyro, -gyro)\n",
    "    \n",
    "    return copy"
   ]
  },
  {
   "cell_type": "code",
   "execution_count": 24,
   "metadata": {},
   "outputs": [],
   "source": [
    "def new_shift_df(data_frame, gyro, accl, pres):\n",
    "    \n",
    "    def shift(value, shifter):\n",
    "        return value + shifter\n",
    "    \n",
    "    copy = data_frame.copy()\n",
    "    \n",
    "    for wIndex in range(len(copy)):\n",
    "        for vIndex in range(len(copy[wIndex])):\n",
    "            copy[wIndex][vIndex][0] = shift(copy[wIndex][vIndex][0], accl)\n",
    "            copy[wIndex][vIndex][1] = shift(copy[wIndex][vIndex][1], accl)\n",
    "            copy[wIndex][vIndex][2] = shift(copy[wIndex][vIndex][2], accl)\n",
    "            copy[wIndex][vIndex][4] = shift(copy[wIndex][vIndex][4], gyro)\n",
    "            copy[wIndex][vIndex][5] = shift(copy[wIndex][vIndex][5], gyro)\n",
    "            copy[wIndex][vIndex][6] = shift(copy[wIndex][vIndex][6], gyro)\n",
    "    \n",
    "    return copy"
   ]
  },
  {
   "cell_type": "code",
   "execution_count": null,
   "metadata": {},
   "outputs": [],
   "source": [
    "with open('../dati/scrittura_di_computer/scaled/Dario_scaled.json', 'r') as f:\n",
    "    data_giovanni = json.load(f)\n",
    "with open('../dati/scrittura_di_computer/scaled/Antonio_scaled.json', 'r') as f:\n",
    "    data_dario = json.load(f)"
   ]
  },
  {
   "cell_type": "code",
   "execution_count": null,
   "metadata": {},
   "outputs": [],
   "source": [
    "file_recog = ['Dario_scaled.json']\n",
    "file_path = '../dati/scrittura_di_computer/scaled/'\n",
    "labelled_data_d, labelled_data_g = [], []\n",
    "\n",
    "for file in os.listdir(file_path):\n",
    "    if os.path.splitext(file)[1] != '.json': continue\n",
    "    if file in file_recog: continue\n",
    "    with open(os.path.join(file_path, file), 'r') as f:\n",
    "        data_g = json.load(f)\n",
    "    for i in range(len(data_g)):\n",
    "        labelled_data_g.append((data_g[i], 0))\n",
    "        \n",
    "for path in file_recog:       \n",
    "    with open(os.path.join(file_path, path), 'r') as f:\n",
    "        data_r = json.load(f)\n",
    "    for i in range(len(data_r)):\n",
    "        labelled_data_d.append((data_r[i], 1))\n",
    "    \n",
    "def xy_data(labelled_data):\n",
    "    x_data, y_labels = [], []\n",
    "    for i in labelled_data:\n",
    "        x_data.append(i[0])\n",
    "        y_labels.append(i[1])\n",
    "        \n",
    "    return np.array(x_data), np.array(y_labels)\n",
    "\n",
    "labelled_data_dg = labelled_data_d + labelled_data_g  \n",
    "random.shuffle(labelled_data_dg)\n",
    "\n",
    "data_dg, label_dg = xy_data(labelled_data_dg)\n"
   ]
  },
  {
   "cell_type": "code",
   "execution_count": null,
   "metadata": {
    "scrolled": true
   },
   "outputs": [],
   "source": [
    "\n",
    "with open(os.path.join(file_path, file_recog[0]), 'r') as f:\n",
    "    data = json.load(f)\n",
    "\n",
    "check_word = data[10]\n",
    "#l2_norm = lambda x, y: abs(x[i] - y[i])\n",
    "\n",
    "similarity_arr = []\n",
    "cost_matrix_arr = []\n",
    "acc_cost_matrix_arr = []\n",
    "for word in data_dg:\n",
    "    similarity = 1 / (1 + dtw(np.array(word), np.array(check_word)))\n",
    "    similarity_arr.append(similarity)"
   ]
  },
  {
   "cell_type": "code",
   "execution_count": null,
   "metadata": {},
   "outputs": [],
   "source": [
    "similarity_arr"
   ]
  },
  {
   "cell_type": "code",
   "execution_count": null,
   "metadata": {
    "scrolled": true
   },
   "outputs": [],
   "source": [
    "%matplotlib inline\n",
    "import matplotlib.pyplot as plt\n",
    "from sklearn import *\n",
    "\n",
    "\n",
    "fpr, tpr , th= roc_curve(label_dg, similarity_arr)\n",
    "fnr = 1 - tpr\n",
    "\n",
    "\n",
    "plt.plot(th, fpr)\n",
    "plt.plot(th, fnr)\n",
    "plt.title('Curve')\n",
    "plt.ylabel('value')\n",
    "plt.xlabel('threshold')\n",
    "plt.legend(['FPR', 'FNR'], loc='upper right')\n",
    "plt.savefig('FPR_FNR_curve.svg')\n",
    "\n",
    "roc_auc_score(label_dg, similarity_arr)\n",
    "\n",
    "th\n",
    "\n",
    "# escludiamo la pressione per ora perché è costante nel tempo e tende a diminuire le distanze fra due utenti"
   ]
  },
  {
   "cell_type": "code",
   "execution_count": null,
   "metadata": {},
   "outputs": [],
   "source": [
    "fpr, tpr , th= roc_curve(label_dg, similarity_arr)\n",
    "\n",
    "plt.plot( fpr, tpr)\n",
    "plt.title('Curve')\n",
    "plt.ylabel('tpr')\n",
    "plt.xlabel('fpr')\n",
    "plt.legend(['Value'], loc='lower right')\n",
    "plt.savefig('ROC_CURVE.svg')"
   ]
  },
  {
   "cell_type": "code",
   "execution_count": null,
   "metadata": {
    "scrolled": true
   },
   "outputs": [],
   "source": [
    "precision, recall, th = precision_recall_curve(label_dg, similarity_arr)\n",
    "arr = np.delete(precision, [ precision.shape[0]-1])\n",
    "arr_rec = np.delete(recall, [precision.shape[0]-1])\n",
    "\n",
    "\n",
    "plt.plot(th,arr)\n",
    "plt.plot(th,arr_rec)\n",
    "plt.title('Precision_Recall')\n",
    "plt.ylabel('value')\n",
    "plt.xlabel('threshold')\n",
    "plt.legend(['precision', 'recall'], loc='lower right')\n",
    "plt.savefig('precision_recall_curve.svg')\n",
    "\n",
    "#roc_auc_score(label_dg, media)"
   ]
  },
  {
   "cell_type": "code",
   "execution_count": null,
   "metadata": {},
   "outputs": [],
   "source": [
    "arr = np.delete(recall, 0)\n",
    "plt.plot(th,arr)\n",
    "plt.title('Recall Curve')\n",
    "plt.ylabel('recall')\n",
    "plt.xlabel('threshold')\n",
    "plt.legend(['curve'], loc='lower right')\n",
    "plt.savefig('recall_curve.svg')"
   ]
  },
  {
   "cell_type": "code",
   "execution_count": null,
   "metadata": {},
   "outputs": [],
   "source": [
    "matrix = np.zeros(shape=(len(scaled_dario),len(scaled_dario) + len(scaled_giovanni)))\n",
    "\n",
    "for i in range(len(scaled_dario)):\n",
    "    for j in range(len(scaled_dario)):\n",
    "        for s in range(7):\n",
    "            if s == 3: continue\n",
    "            l2_norm = lambda x, y: abs(x[s] - y[s]) \n",
    "            d, _ , _ , _ = dtw(scaled_dario[i], scaled_dario[j], dist=l2_norm)\n",
    "            matrix[i, j] += d\n",
    "    for j in range(len(scaled_giovanni)):\n",
    "        for s in range(7):\n",
    "            if s == 3: continue\n",
    "            l2_norm = lambda x, y: abs(x[s] - y[s])\n",
    "            d, _ , _ , _ = dtw(scaled_dario[i], scaled_giovanni[j], dist=l2_norm)\n",
    "            matrix[i, j + len(scaled_dario)] += d\n",
    "    print(i)\n",
    "            \n",
    "matrix    "
   ]
  },
  {
   "cell_type": "code",
   "execution_count": null,
   "metadata": {},
   "outputs": [],
   "source": [
    "shifted_dario = new_scale_df(data_dario, 250, 2, 1024)\n",
    "shifted_giovanni = new_scale_df(data_giovanni, 250, 2, 1024)"
   ]
  },
  {
   "cell_type": "code",
   "execution_count": null,
   "metadata": {},
   "outputs": [],
   "source": [
    "matrix = np.zeros(shape=(len(shifted_dario),len(shifted_dario) + len(shifted_giovanni)))\n",
    "\n",
    "for i in range(len(shifted_dario)):\n",
    "    for j in range(len(shifted_dario)):\n",
    "        l2_norm = lambda x, y: abs((sum(x) - x[3]) - (sum(y) - y[3])) \n",
    "        d, _ , _ , _ = dtw(shifted_dario[i], shifted_dario[j], dist=l2_norm)\n",
    "        matrix[i, j] = d\n",
    "    for j in range(len(shifted_giovanni)):\n",
    "        l2_norm = lambda x, y: abs((sum(x) - x[3]) - (sum(y) - y[3]))\n",
    "        d, _ , _ , _ = dtw(shifted_dario[i], shifted_giovanni[j], dist=l2_norm)\n",
    "        matrix[i, j + len(shifted_dario)] = d\n",
    "    print(i)\n",
    "            \n",
    "matrix"
   ]
  },
  {
   "cell_type": "code",
   "execution_count": null,
   "metadata": {},
   "outputs": [],
   "source": [
    "matrix = np.zeros(shape=(len(scaled_dario),len(scaled_dario) + len(scaled_giovanni)))\n",
    "matrix.fill(sys.maxsize)\n",
    "\n",
    "for i in range(len(scaled_dario)):\n",
    "    for j in range(len(scaled_dario)):\n",
    "        for s in range(7):\n",
    "            l2_norm = lambda x, y: abs(x[s] - y[s]) \n",
    "            d, _ , _ , _ = dtw(scaled_dario[i], scaled_dario[j], dist=l2_norm)\n",
    "            matrix[i, j] = min(matrix[i, j], d)\n",
    "    for j in range(len(scaled_giovanni)):\n",
    "        for s in range(7):\n",
    "            l2_norm = lambda x, y: abs(x[s] - y[s])\n",
    "            d, _ , _ , _ = dtw(scaled_dario[i], scaled_giovanni[j], dist=l2_norm)\n",
    "            matrix[i, j + len(scaled_dario)] = min(matrix[i, j + len(scaled_dario)], d)\n",
    "    print(i)\n",
    "            \n",
    "matrix    "
   ]
  },
  {
   "cell_type": "code",
   "execution_count": null,
   "metadata": {},
   "outputs": [],
   "source": [
    "d = pd.DataFrame(matrix)\n",
    "for i in range(len(matrix)):\n",
    "    print(i,':',(matrix[i]).argmax(), max(matrix[i]))"
   ]
  },
  {
   "cell_type": "code",
   "execution_count": null,
   "metadata": {},
   "outputs": [],
   "source": [
    "d"
   ]
  },
  {
   "cell_type": "code",
   "execution_count": null,
   "metadata": {},
   "outputs": [],
   "source": [
    "min_values, max_values = [], []\n",
    "for i in range(len(matrix)):\n",
    "    minv, maxv = (sys.maxsize, -1), (-sys.maxsize, -1)\n",
    "    for j in range(len(matrix[i])):\n",
    "        if i == j: \n",
    "            continue\n",
    "        minv = (matrix[i][j], j) if minv[0] > matrix[i][j] else minv\n",
    "        maxv = (matrix[i][j], j) if maxv[0] < matrix[i][j] else maxv\n",
    "    min_values.append(minv)\n",
    "    max_values.append(maxv)\n",
    "    \n",
    "for i in range(len(min_values)):\n",
    "    print(\"index \", i, \" min value: \", min_values[i])\n",
    "        "
   ]
  }
 ],
 "metadata": {
  "kernelspec": {
   "display_name": "Python 3",
   "language": "python",
   "name": "python3"
  },
  "language_info": {
   "codemirror_mode": {
    "name": "ipython",
    "version": 3
   },
   "file_extension": ".py",
   "mimetype": "text/x-python",
   "name": "python",
   "nbconvert_exporter": "python",
   "pygments_lexer": "ipython3",
   "version": "3.6.8"
  },
  "widgets": {
   "application/vnd.jupyter.widget-state+json": {
    "state": {},
    "version_major": 2,
    "version_minor": 0
   }
  }
 },
 "nbformat": 4,
 "nbformat_minor": 2
}
