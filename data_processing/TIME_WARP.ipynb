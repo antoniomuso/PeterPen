{
 "cells": [
  {
   "cell_type": "code",
   "execution_count": 1,
   "metadata": {},
   "outputs": [],
   "source": [
    "import pandas as pd\n",
    "import json\n",
    "import numpy as np"
   ]
  },
  {
   "cell_type": "code",
   "execution_count": 2,
   "metadata": {},
   "outputs": [],
   "source": [
    "#algoritmo principale\n",
    "def DTWDistance(signalA, signalB):\n",
    "    n,m = len(signalA), len(signalB)\n",
    "    DTW = np.zeros(shape=(n, m))\n",
    "    for i in range(0,n):\n",
    "        DTW[i,0] = np.finfo(dtype=float).max\n",
    "    for i in range(0,m):\n",
    "        DTW[0,i] = np.finfo(dtype=float).max\n",
    "    DTW[0,0] = 0\n",
    "    \n",
    "    for i in range(1,n):\n",
    "        for j in range(1,m):\n",
    "            const = abs(signalA[i] - signalB[j])\n",
    "            DTW[i,j] = const + min(DTW[i-1, j], DTW[i, j-1], DTW[i-1, j-1])\n",
    "    \n",
    "    return DTW[n - 1, m - 1]"
   ]
  },
  {
   "cell_type": "code",
   "execution_count": 5,
   "metadata": {},
   "outputs": [],
   "source": [
    "#Algoritmo di scaling\n",
    "def new_scale_df(data_frame, gyro, accl, pres):\n",
    "    \n",
    "    def scale(value, max_, min_):\n",
    "        value -= min_\n",
    "        value /= max_ - min_\n",
    "    \n",
    "    copy = data_frame.copy() \n",
    "    scale(copy.AcX, accl, -accl)\n",
    "    scale(copy.AcY, accl, -accl)\n",
    "    scale(copy.AcZ, accl, -accl)\n",
    "    scale(copy.GyX, gyro, -gyro)\n",
    "    scale(copy.GyY, gyro, -gyro)\n",
    "    scale(copy.GyZ, gyro, -gyro)\n",
    "    scale(copy.Pres, pres, 0)\n",
    "\n",
    "    return copy"
   ]
  },
  {
   "cell_type": "code",
   "execution_count": null,
   "metadata": {},
   "outputs": [],
   "source": [
    "with open('../provaLSTM/giovanni.json', 'r') as f:\n",
    "    giovanni_data = json.load(f)\n",
    "\n",
    "\n"
   ]
  },
  {
   "cell_type": "code",
   "execution_count": null,
   "metadata": {},
   "outputs": [],
   "source": []
  }
 ],
 "metadata": {
  "kernelspec": {
   "display_name": "Python 3",
   "language": "python",
   "name": "python3"
  },
  "language_info": {
   "codemirror_mode": {
    "name": "ipython",
    "version": 3
   },
   "file_extension": ".py",
   "mimetype": "text/x-python",
   "name": "python",
   "nbconvert_exporter": "python",
   "pygments_lexer": "ipython3",
   "version": "3.6.6"
  }
 },
 "nbformat": 4,
 "nbformat_minor": 2
}
