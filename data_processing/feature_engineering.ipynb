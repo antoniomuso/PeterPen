{
 "cells": [
  {
   "cell_type": "code",
   "execution_count": 1,
   "metadata": {},
   "outputs": [],
   "source": [
    "import numpy as np\n",
    "import pandas as pd\n",
    "import json\n",
    "import os"
   ]
  },
  {
   "cell_type": "code",
   "execution_count": 2,
   "metadata": {},
   "outputs": [],
   "source": [
    "def scale_pad_file(file, file_out):\n",
    "    def scale(value, max_, min_):\n",
    "        return (value - min_) / (max_ - min_)\n",
    "    \n",
    "    accl = 2\n",
    "    gyro = 250\n",
    "    \n",
    "    max_len = 1000\n",
    "    \n",
    "    with open(file, 'r') as f:\n",
    "        data = json.load(f)\n",
    "        \n",
    "    for wIndex in range(len(data)):\n",
    "        data[wIndex] = np.array(data[wIndex])\n",
    "        \n",
    "        for vIndex in range(len(data[wIndex])):\n",
    "            data[wIndex][vIndex][0] = scale(data[wIndex][vIndex][0], accl, -accl)\n",
    "            data[wIndex][vIndex][1] = scale(data[wIndex][vIndex][1], accl, -accl)\n",
    "            data[wIndex][vIndex][2] = scale(data[wIndex][vIndex][2], accl, -accl)\n",
    "            data[wIndex][vIndex][3] = scale(data[wIndex][vIndex][3], 1024, 0)\n",
    "            data[wIndex][vIndex][4] = scale(data[wIndex][vIndex][4], gyro, -gyro)\n",
    "            data[wIndex][vIndex][5] = scale(data[wIndex][vIndex][5], gyro, -gyro)\n",
    "            data[wIndex][vIndex][6] = scale(data[wIndex][vIndex][6], gyro, -gyro)\n",
    "            \n",
    "        data[wIndex] = np.reshape(data[wIndex], (len(data[wIndex]) * 7, ))\n",
    "        data[wIndex] = np.pad(data[wIndex], (0, max_len * 7 - len(data[wIndex])), 'constant')\n",
    "        data[wIndex] = np.reshape(data[wIndex], (max_len, 7))\n",
    "    \n",
    "    data = np.array(data)\n",
    "    \n",
    "    with open(file_out, 'w') as fw:\n",
    "        json.dump(data.tolist(), fw)\n"
   ]
  },
  {
   "cell_type": "code",
   "execution_count": 3,
   "metadata": {},
   "outputs": [],
   "source": [
    "def pad_file(file, file_out):\n",
    "    max_len = 1000\n",
    "    \n",
    "    with open(file, 'r') as f:\n",
    "        data = json.load(f)\n",
    "        \n",
    "    for wIndex in range(len(data)):\n",
    "        data[wIndex] = np.array(data[wIndex])\n",
    "        data[wIndex] = np.reshape(data[wIndex], (len(data[wIndex]) * 7, ))\n",
    "        data[wIndex] = np.pad(data[wIndex], (0, max_len * 7 - len(data[wIndex])), 'constant')\n",
    "        data[wIndex] = np.reshape(data[wIndex], (max_len, 7))\n",
    "    \n",
    "    data = np.array(data)\n",
    "    \n",
    "    with open(file_out, 'w') as fw:\n",
    "        json.dump(data.tolist(), fw)\n",
    "    "
   ]
  },
  {
   "cell_type": "code",
   "execution_count": 4,
   "metadata": {},
   "outputs": [],
   "source": [
    "file_dir = '../dati/scrittura_di_computer/'\n",
    "for f in os.listdir(file_dir):\n",
    "    if f.endswith('.json'):\n",
    "        scale_pad_file(os.path.join(file_dir, f), os.path.join(file_dir + 'scaled/', f)[:-5] + '_scaled.json')\n",
    "        pad_file(os.path.join(file_dir, f), os.path.join(file_dir + 'pad/', f)[:-5] + '_pad.json')\n",
    "        \n"
   ]
  }
 ],
 "metadata": {
  "kernelspec": {
   "display_name": "Python 3",
   "language": "python",
   "name": "python3"
  },
  "language_info": {
   "codemirror_mode": {
    "name": "ipython",
    "version": 3
   },
   "file_extension": ".py",
   "mimetype": "text/x-python",
   "name": "python",
   "nbconvert_exporter": "python",
   "pygments_lexer": "ipython3",
   "version": "3.6.8"
  }
 },
 "nbformat": 4,
 "nbformat_minor": 2
}
