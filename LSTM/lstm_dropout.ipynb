{
 "cells": [
  {
   "cell_type": "code",
   "execution_count": 1,
   "metadata": {},
   "outputs": [
    {
     "name": "stderr",
     "output_type": "stream",
     "text": [
      "Using TensorFlow backend.\n"
     ]
    }
   ],
   "source": [
    "import pandas as pd\n",
    "import numpy as np\n",
    "import json\n",
    "import keras\n",
    "import random\n",
    "from keras.layers import Dense, LSTM, Dropout\n",
    "from keras.models import Sequential, load_model\n",
    "from keras.utils import plot_model"
   ]
  },
  {
   "cell_type": "code",
   "execution_count": 2,
   "metadata": {},
   "outputs": [],
   "source": [
    "with open('../dati/pad/lines_pad.json', 'r') as f:\n",
    "    data_lines = json.load(f)\n",
    "\n",
    "with open('../dati/pad/lines_2_pad.json', 'r') as f:\n",
    "    data_lines += json.load(f)\n",
    "\n",
    "for elem in range(len(data_lines)):\n",
    "    for arr in range(len(data_lines[elem])):\n",
    "        tmp = []\n",
    "        for f in range(7):\n",
    "            tmp.append(data_lines[elem][arr][f])\n",
    "        data_lines[elem][arr] = tmp"
   ]
  },
  {
   "cell_type": "code",
   "execution_count": 3,
   "metadata": {},
   "outputs": [],
   "source": [
    "with open('../dati/pad/circles_pad.json', 'r') as f:\n",
    "    data_circles = json.load(f)\n",
    "\n",
    "for elem in range(len(data_circles)):\n",
    "    for arr in range(len(data_circles[elem])):\n",
    "        tmp = []\n",
    "        for f in range(7):\n",
    "            tmp.append(data_circles[elem][arr][f])\n",
    "        data_circles[elem][arr] = tmp\n",
    "        "
   ]
  },
  {
   "cell_type": "code",
   "execution_count": 4,
   "metadata": {},
   "outputs": [],
   "source": [
    "with open('../dati/pad/lines_pad.json', 'r') as f:\n",
    "    data_lines = json.load(f)\n",
    "\n",
    "with open('../dati/pad/lines_2_pad.json', 'r') as f:\n",
    "    data_lines += json.load(f)\n",
    "    \n",
    "\n",
    "def generator(data, labels):\n",
    "    assert len(data) == len(labels)\n",
    "    while True:\n",
    "        for elem in range(len(data)):\n",
    "            #word_array = []\n",
    "            #for arr in range(len(data[elem])):\n",
    "            #    tmp = []\n",
    "            #    for f in range(7):\n",
    "            #        tmp.append(data[elem][arr][f])\n",
    "            #    word_array.append(tmp)\n",
    "            yield np.array(data[elem]), np.array(labels[elem])\n",
    "\n",
    "g_lines = generator(data_lines, [1] * len(data_lines))"
   ]
  },
  {
   "cell_type": "code",
   "execution_count": 5,
   "metadata": {},
   "outputs": [],
   "source": [
    "with open('../dati/pad/circles_pad.json', 'r') as f:\n",
    "    data_circles = json.load(f)\n",
    "    \n",
    "g_circles = generator(data_circles, [0] * len(data_circles))"
   ]
  },
  {
   "cell_type": "code",
   "execution_count": 6,
   "metadata": {},
   "outputs": [],
   "source": [
    "with open('../dati/dati_con_penna/concatenati/pad/dario_1_concat_dario_2_pad.json', 'r') as f:\n",
    "    data_d = json.load(f)\n",
    "    \n",
    "g_dario = generator(data_d[:-3], [1] * 7)\n",
    "g_dario_test = generator(data_d[-3:], [1] * 3)"
   ]
  },
  {
   "cell_type": "code",
   "execution_count": 7,
   "metadata": {},
   "outputs": [],
   "source": [
    "with open('../dati/dati_con_penna/concatenati/pad/antonio_1_concat_antonio_2_pad.json', 'r') as f:\n",
    "    data_a = json.load(f)\n",
    "    \n",
    "g_antonio = generator(data_a[:-3], [0] * 8)\n",
    "g_antonio_test = generator(data_a[-3:], [0] * 3)"
   ]
  },
  {
   "cell_type": "code",
   "execution_count": 8,
   "metadata": {},
   "outputs": [],
   "source": [
    "with open('../dati/dati_con_penna/concatenati/pad/manuel_1_concat_manuel_2_pad.json', 'r') as f:\n",
    "    data_t = json.load(f)\n",
    "    \n",
    "g_taraz = generator(data_t[:-3], [0] * 7)\n",
    "g_taraz_test = generator(data_t[-3:], [0] * 3)"
   ]
  },
  {
   "cell_type": "code",
   "execution_count": 9,
   "metadata": {},
   "outputs": [],
   "source": [
    "with open('../dati/dati_con_penna/concatenati/pad/giovanni_1_concat_giovanni_2_pad.json', 'r') as f:\n",
    "    data_g = json.load(f)\n",
    "    \n",
    "g_giovanni = generator(data_g[:-3], [0] * 5)\n",
    "g_giovanni_test = generator(data_g[-3:], [0] * 3)"
   ]
  },
  {
   "cell_type": "code",
   "execution_count": 10,
   "metadata": {},
   "outputs": [],
   "source": [
    "labelled_data_d, labelled_data_g = [], []\n",
    "for i in range(len(data_d)):\n",
    "    labelled_data_d.append((data_d[i], 1))\n",
    "\n",
    "for i in range(len(data_g)):\n",
    "    labelled_data_g.append((data_g[i], 0))\n",
    "    \n",
    "for i in range(len(data_a)):\n",
    "    labelled_data_g.append((data_a[i], 0))\n",
    "\n",
    "for i in range(len(data_t)):\n",
    "    labelled_data_g.append((data_t[i], 0))"
   ]
  },
  {
   "cell_type": "code",
   "execution_count": 11,
   "metadata": {},
   "outputs": [],
   "source": [
    "labelled_data_dg = labelled_data_d + labelled_data_g  \n",
    "random.shuffle(labelled_data_dg)"
   ]
  },
  {
   "cell_type": "code",
   "execution_count": 12,
   "metadata": {},
   "outputs": [
    {
     "name": "stdout",
     "output_type": "stream",
     "text": [
      "(196, 600, 7)\n"
     ]
    }
   ],
   "source": [
    "def xy_data(labelled_data):\n",
    "    x_data, y_labels = [], []\n",
    "    for i in labelled_data:\n",
    "        x_data.append(i[0])\n",
    "        y_labels.append(i[1])\n",
    "        \n",
    "    return np.array(x_data), np.array(y_labels)\n",
    "\n",
    "data_dg, label_dg = xy_data(labelled_data_dg)\n",
    "print(data_dg.shape)"
   ]
  },
  {
   "cell_type": "code",
   "execution_count": 13,
   "metadata": {},
   "outputs": [],
   "source": [
    "def mix_generator(g1, g2, batch_size):\n",
    "    while True:\n",
    "        batch = []\n",
    "        label = []\n",
    "        for _ in range(batch_size // 2):\n",
    "            tmp = next(g1)\n",
    "            batch.append(tmp[0])\n",
    "            label.append(tmp[1])\n",
    "            tmp = next(g2)\n",
    "            batch.append(tmp[0])\n",
    "            label.append(tmp[1])\n",
    "        print(np.array(label).shape)\n",
    "        yield np.array(batch), np.array(label)\n",
    "\n",
    "g_mix = mix_generator(g_lines, g_circles, 10)\n",
    "g_dario_giovanni = mix_generator(g_dario, g_giovanni, 10)\n",
    "g_dario_antonio = mix_generator(g_dario, g_antonio, 10)\n",
    "g_dario_taraz = mix_generator(g_dario, g_taraz, 10)\n",
    "g_dario_giovanni_antonio = mix_generator(g_dario_giovanni, g_dario_antonio, 10)\n",
    "g_dario_tutti = mix_generator(g_dario_giovanni_antonio, g_dario_taraz, 10)"
   ]
  },
  {
   "cell_type": "code",
   "execution_count": 14,
   "metadata": {},
   "outputs": [],
   "source": [
    "def generator_one_against_all(path_genuine, paths_impostors, batch_size):\n",
    "    with open(path_genuine, 'r') as f:\n",
    "        genuine_data = json.load(f)\n",
    "        \n",
    "    train_ratio = round(len(genuine_data) / 5)\n",
    "    assert len(genuine_data[:-train_ratio]) + len(genuine_data[-train_ratio:]) == len(genuine_data)\n",
    "    genuine_generator = generator(genuine_data[:-train_ratio], [1] * (len(genuine_data) - train_ratio))\n",
    "    genuine_generator_test = generator(genuine_data[-train_ratio:], [1] * train_ratio)\n",
    "    \n",
    "    generator_all = genuine_generator\n",
    "    generator_all_test = genuine_generator_test\n",
    "    \n",
    "    for path in paths_impostors:\n",
    "        with open(path, 'r') as f:\n",
    "            impostor_data = json.load(f)\n",
    "        train_ratio = round(len(impostor_data) / 5)\n",
    "        assert len(impostor_data[:-train_ratio]) + len(impostor_data[-train_ratio:]) == len(impostor_data)\n",
    "        generator_all = mix_generator(generator_all, generator(impostor_data[:-train_ratio], [0] * (len(impostor_data) - train_ratio)), batch_size)\n",
    "        generator_all_test = mix_generator(generator_all_test, generator(impostor_data[-train_ratio:], [0] * train_ratio), batch_size)\n",
    "        \n",
    "    return generator_all, generator_all_test\n",
    "\n",
    "impostors = ['../dati/pad/giovanni_pad.json', '../dati/pad/taraz_pad.json']\n",
    "g_dario_impostors, g_dario_impostors_test = generator_one_against_all('../dati/pad/dario_pad.json', impostors, 10)"
   ]
  },
  {
   "cell_type": "code",
   "execution_count": 15,
   "metadata": {},
   "outputs": [],
   "source": [
    "model_dario = Sequential()\n",
    "model_dario.add(LSTM(input_shape=(600, 7), units=200, activation=\"sigmoid\", return_sequences=True, recurrent_activation=\"hard_sigmoid\"))\n",
    "model_dario.add(LSTM(units=200, activation=\"sigmoid\", return_sequences=False, recurrent_activation=\"hard_sigmoid\"))\n",
    "model_dario.add(Dropout(0.5))\n",
    "model_dario.add(Dense(1, activation='sigmoid'))"
   ]
  },
  {
   "cell_type": "code",
   "execution_count": 16,
   "metadata": {},
   "outputs": [],
   "source": [
    "model_dario.compile(loss='binary_crossentropy', optimizer='rmsprop', metrics=['accuracy', 'roc_curve'])"
   ]
  },
  {
   "cell_type": "code",
   "execution_count": 17,
   "metadata": {},
   "outputs": [],
   "source": [
    "plot_model(model_dario, show_shapes=True, to_file='lstm_dropout_model.png')"
   ]
  },
  {
   "cell_type": "code",
   "execution_count": 18,
   "metadata": {},
   "outputs": [],
   "source": [
    "#hist = model_dario.fit_generator(g_dario_impostors, epochs=5, steps_per_epoch=42)\n",
    "#!git add .\n",
    "#!git commit -m 'aggiunti primi grafici'\n",
    "#!git push "
   ]
  },
  {
   "cell_type": "code",
   "execution_count": 19,
   "metadata": {
    "scrolled": true
   },
   "outputs": [
    {
     "name": "stdout",
     "output_type": "stream",
     "text": [
      "Train on 131 samples, validate on 65 samples\n",
      "Epoch 1/131\n",
      "10/10 [==============================] - 26s 3s/step - loss: 0.5629 - acc: 0.7611 - val_loss: 0.6072 - val_acc: 0.6923\n",
      "Epoch 2/131\n",
      "10/10 [==============================] - 25s 3s/step - loss: 0.5141 - acc: 0.7771 - val_loss: 0.6379 - val_acc: 0.6923\n",
      "Epoch 3/131\n",
      "10/10 [==============================] - 25s 3s/step - loss: 0.4963 - acc: 0.7695 - val_loss: 0.6466 - val_acc: 0.6923\n",
      "Epoch 4/131\n",
      "10/10 [==============================] - 25s 3s/step - loss: 0.4838 - acc: 0.7725 - val_loss: 0.6867 - val_acc: 0.6923\n",
      "Epoch 5/131\n",
      "10/10 [==============================] - 25s 2s/step - loss: 0.4756 - acc: 0.7786 - val_loss: 0.6887 - val_acc: 0.6923\n",
      "Epoch 6/131\n",
      "10/10 [==============================] - 25s 3s/step - loss: 0.4702 - acc: 0.7756 - val_loss: 0.6876 - val_acc: 0.6923\n",
      "Epoch 7/131\n",
      "10/10 [==============================] - 25s 3s/step - loss: 0.4591 - acc: 0.7779 - val_loss: 0.7080 - val_acc: 0.6923\n",
      "Epoch 8/131\n",
      "10/10 [==============================] - 25s 3s/step - loss: 0.4508 - acc: 0.7847 - val_loss: 0.7046 - val_acc: 0.6923\n",
      "Epoch 9/131\n",
      "10/10 [==============================] - 25s 3s/step - loss: 0.4385 - acc: 0.7840 - val_loss: 0.6506 - val_acc: 0.6769\n",
      "Epoch 10/131\n",
      "10/10 [==============================] - 25s 3s/step - loss: 0.4267 - acc: 0.7878 - val_loss: 0.6542 - val_acc: 0.6769\n",
      "Epoch 11/131\n",
      "10/10 [==============================] - 25s 3s/step - loss: 0.4130 - acc: 0.7870 - val_loss: 0.6328 - val_acc: 0.6769\n",
      "Epoch 12/131\n",
      "10/10 [==============================] - 25s 3s/step - loss: 0.4173 - acc: 0.7748 - val_loss: 0.6212 - val_acc: 0.6769\n",
      "Epoch 13/131\n",
      "10/10 [==============================] - 25s 3s/step - loss: 0.3898 - acc: 0.7893 - val_loss: 0.6019 - val_acc: 0.7077\n",
      "Epoch 14/131\n",
      "10/10 [==============================] - 25s 3s/step - loss: 0.3795 - acc: 0.8046 - val_loss: 0.6072 - val_acc: 0.7077\n",
      "Epoch 15/131\n",
      "10/10 [==============================] - 25s 3s/step - loss: 0.3639 - acc: 0.8122 - val_loss: 0.5698 - val_acc: 0.6615\n",
      "Epoch 16/131\n",
      "10/10 [==============================] - 25s 3s/step - loss: 0.3701 - acc: 0.8176 - val_loss: 0.5662 - val_acc: 0.7231\n",
      "Epoch 17/131\n",
      "10/10 [==============================] - 26s 3s/step - loss: 0.3670 - acc: 0.8221 - val_loss: 0.5575 - val_acc: 0.7077\n",
      "Epoch 18/131\n",
      "10/10 [==============================] - 25s 3s/step - loss: 0.3613 - acc: 0.8298 - val_loss: 0.5408 - val_acc: 0.7077\n",
      "Epoch 19/131\n",
      "10/10 [==============================] - 25s 2s/step - loss: 0.3465 - acc: 0.8305 - val_loss: 0.5679 - val_acc: 0.7231\n",
      "Epoch 20/131\n",
      "10/10 [==============================] - 25s 3s/step - loss: 0.3564 - acc: 0.8382 - val_loss: 0.5732 - val_acc: 0.6923\n",
      "Epoch 21/131\n",
      "10/10 [==============================] - 25s 3s/step - loss: 0.3435 - acc: 0.8374 - val_loss: 0.5724 - val_acc: 0.7077\n",
      "Epoch 22/131\n",
      "10/10 [==============================] - 26s 3s/step - loss: 0.3339 - acc: 0.8527 - val_loss: 0.5662 - val_acc: 0.7231\n",
      "Epoch 23/131\n",
      "10/10 [==============================] - 26s 3s/step - loss: 0.3242 - acc: 0.8534 - val_loss: 0.5575 - val_acc: 0.7385\n",
      "Epoch 24/131\n",
      "10/10 [==============================] - 25s 3s/step - loss: 0.3025 - acc: 0.8817 - val_loss: 0.6273 - val_acc: 0.6923\n",
      "Epoch 25/131\n",
      "10/10 [==============================] - 25s 3s/step - loss: 0.3029 - acc: 0.8611 - val_loss: 0.5574 - val_acc: 0.6769\n",
      "Epoch 26/131\n",
      "10/10 [==============================] - 25s 3s/step - loss: 0.3100 - acc: 0.8481 - val_loss: 0.5189 - val_acc: 0.8000\n",
      "Epoch 27/131\n",
      "10/10 [==============================] - 25s 3s/step - loss: 0.3134 - acc: 0.8702 - val_loss: 0.5492 - val_acc: 0.8000\n",
      "Epoch 28/131\n",
      "10/10 [==============================] - 27s 3s/step - loss: 0.2795 - acc: 0.8740 - val_loss: 0.5334 - val_acc: 0.7385\n",
      "Epoch 29/131\n",
      "10/10 [==============================] - 26s 3s/step - loss: 0.2974 - acc: 0.8679 - val_loss: 0.5342 - val_acc: 0.7846\n",
      "Epoch 30/131\n",
      "10/10 [==============================] - 27s 3s/step - loss: 0.2900 - acc: 0.8710 - val_loss: 0.5042 - val_acc: 0.8000\n",
      "Epoch 31/131\n",
      "10/10 [==============================] - 26s 3s/step - loss: 0.2742 - acc: 0.8649 - val_loss: 0.5247 - val_acc: 0.8154\n",
      "Epoch 32/131\n",
      "10/10 [==============================] - 25s 3s/step - loss: 0.2881 - acc: 0.8679 - val_loss: 0.5396 - val_acc: 0.7385\n",
      "Epoch 33/131\n",
      "10/10 [==============================] - 25s 3s/step - loss: 0.2606 - acc: 0.8679 - val_loss: 0.5471 - val_acc: 0.7538\n",
      "Epoch 34/131\n",
      "10/10 [==============================] - 25s 3s/step - loss: 0.2923 - acc: 0.8710 - val_loss: 0.5782 - val_acc: 0.7846\n",
      "Epoch 35/131\n",
      "10/10 [==============================] - 25s 3s/step - loss: 0.2812 - acc: 0.8656 - val_loss: 0.5105 - val_acc: 0.8615\n",
      "Epoch 36/131\n",
      "10/10 [==============================] - 25s 3s/step - loss: 0.2782 - acc: 0.8679 - val_loss: 0.5398 - val_acc: 0.7692\n",
      "Epoch 37/131\n",
      "10/10 [==============================] - 25s 3s/step - loss: 0.2691 - acc: 0.9031 - val_loss: 0.5150 - val_acc: 0.8154\n",
      "Epoch 38/131\n",
      "10/10 [==============================] - 25s 3s/step - loss: 0.2461 - acc: 0.9115 - val_loss: 0.4964 - val_acc: 0.8000\n",
      "Epoch 39/131\n",
      "10/10 [==============================] - 25s 3s/step - loss: 0.2297 - acc: 0.8870 - val_loss: 0.5443 - val_acc: 0.7846\n",
      "Epoch 40/131\n",
      "10/10 [==============================] - 25s 3s/step - loss: 0.2469 - acc: 0.9092 - val_loss: 0.5013 - val_acc: 0.8462\n",
      "Epoch 41/131\n",
      "10/10 [==============================] - 25s 3s/step - loss: 0.2886 - acc: 0.9084 - val_loss: 0.5056 - val_acc: 0.8308\n",
      "Epoch 42/131\n",
      "10/10 [==============================] - 26s 3s/step - loss: 0.2159 - acc: 0.9084 - val_loss: 0.9936 - val_acc: 0.6769\n",
      "Epoch 43/131\n",
      "10/10 [==============================] - 25s 3s/step - loss: 0.2621 - acc: 0.9061 - val_loss: 0.4465 - val_acc: 0.8462\n",
      "Epoch 44/131\n",
      "10/10 [==============================] - 25s 3s/step - loss: 0.1923 - acc: 0.9397 - val_loss: 0.4483 - val_acc: 0.8308\n",
      "Epoch 45/131\n",
      "10/10 [==============================] - 25s 3s/step - loss: 0.2286 - acc: 0.9069 - val_loss: 0.4718 - val_acc: 0.8154\n",
      "Epoch 46/131\n",
      "10/10 [==============================] - 25s 3s/step - loss: 0.2533 - acc: 0.9206 - val_loss: 0.4868 - val_acc: 0.8462\n",
      "Epoch 47/131\n",
      "10/10 [==============================] - 25s 3s/step - loss: 0.1051 - acc: 0.9733 - val_loss: 0.4947 - val_acc: 0.8462\n",
      "Epoch 48/131\n",
      "10/10 [==============================] - 25s 3s/step - loss: 0.3195 - acc: 0.8901 - val_loss: 0.6016 - val_acc: 0.7692\n",
      "Epoch 49/131\n",
      "10/10 [==============================] - 25s 2s/step - loss: 0.1299 - acc: 0.9603 - val_loss: 0.4388 - val_acc: 0.8615\n",
      "Epoch 50/131\n",
      "10/10 [==============================] - 25s 3s/step - loss: 0.0527 - acc: 0.9916 - val_loss: 0.4076 - val_acc: 0.8923\n",
      "Epoch 51/131\n",
      "10/10 [==============================] - 25s 3s/step - loss: 0.2649 - acc: 0.9137 - val_loss: 0.4215 - val_acc: 0.8462\n",
      "Epoch 52/131\n",
      "10/10 [==============================] - 25s 3s/step - loss: 0.2228 - acc: 0.9206 - val_loss: 0.3796 - val_acc: 0.8615\n",
      "Epoch 53/131\n",
      "10/10 [==============================] - 25s 3s/step - loss: 0.0467 - acc: 0.9939 - val_loss: 0.5451 - val_acc: 0.8769\n",
      "Epoch 54/131\n",
      "10/10 [==============================] - 25s 3s/step - loss: 0.3593 - acc: 0.8840 - val_loss: 0.4436 - val_acc: 0.8462\n",
      "Epoch 55/131\n",
      "10/10 [==============================] - 25s 3s/step - loss: 0.0664 - acc: 0.9870 - val_loss: 0.4096 - val_acc: 0.8462\n",
      "Epoch 56/131\n",
      "10/10 [==============================] - 25s 2s/step - loss: 0.0265 - acc: 0.9939 - val_loss: 0.3424 - val_acc: 0.9385\n",
      "Epoch 57/131\n",
      "10/10 [==============================] - 25s 3s/step - loss: 0.0076 - acc: 1.0000 - val_loss: 0.3584 - val_acc: 0.9385\n",
      "Epoch 58/131\n",
      "10/10 [==============================] - 25s 3s/step - loss: 0.0806 - acc: 0.9809 - val_loss: 2.0563 - val_acc: 0.6923\n",
      "Epoch 59/131\n",
      "10/10 [==============================] - 25s 3s/step - loss: 0.5781 - acc: 0.8466 - val_loss: 0.3495 - val_acc: 0.9077\n",
      "Epoch 60/131\n",
      "10/10 [==============================] - 25s 3s/step - loss: 0.0396 - acc: 0.9977 - val_loss: 0.2940 - val_acc: 0.9231\n",
      "Epoch 61/131\n",
      "10/10 [==============================] - 25s 3s/step - loss: 0.0155 - acc: 1.0000 - val_loss: 0.3196 - val_acc: 0.9385\n",
      "Epoch 62/131\n",
      "10/10 [==============================] - 25s 3s/step - loss: 0.1357 - acc: 0.9718 - val_loss: 0.8424 - val_acc: 0.7385\n"
     ]
    },
    {
     "name": "stdout",
     "output_type": "stream",
     "text": [
      "Epoch 63/131\n",
      "10/10 [==============================] - 25s 3s/step - loss: 0.2967 - acc: 0.9031 - val_loss: 0.2925 - val_acc: 0.9231\n",
      "Epoch 64/131\n",
      "10/10 [==============================] - 25s 3s/step - loss: 0.0260 - acc: 0.9985 - val_loss: 0.2874 - val_acc: 0.9385\n",
      "Epoch 65/131\n",
      "10/10 [==============================] - 25s 3s/step - loss: 0.0097 - acc: 1.0000 - val_loss: 0.3270 - val_acc: 0.9385\n",
      "Epoch 66/131\n",
      "10/10 [==============================] - 25s 3s/step - loss: 0.0058 - acc: 1.0000 - val_loss: 0.4461 - val_acc: 0.9231\n",
      "Epoch 67/131\n",
      "10/10 [==============================] - 25s 2s/step - loss: 0.4597 - acc: 0.8924 - val_loss: 0.3421 - val_acc: 0.8923\n",
      "Epoch 68/131\n",
      "10/10 [==============================] - 25s 3s/step - loss: 0.0179 - acc: 1.0000 - val_loss: 0.3543 - val_acc: 0.9231\n",
      "Epoch 69/131\n",
      "10/10 [==============================] - 25s 2s/step - loss: 0.0090 - acc: 1.0000 - val_loss: 0.3934 - val_acc: 0.9231\n",
      "Epoch 70/131\n",
      "10/10 [==============================] - 25s 3s/step - loss: 0.0057 - acc: 1.0000 - val_loss: 0.4293 - val_acc: 0.9231\n",
      "Epoch 71/131\n",
      "10/10 [==============================] - 25s 3s/step - loss: 0.0037 - acc: 1.0000 - val_loss: 0.4659 - val_acc: 0.9231\n",
      "Epoch 72/131\n",
      "10/10 [==============================] - 25s 3s/step - loss: 0.0025 - acc: 1.0000 - val_loss: 0.5025 - val_acc: 0.9231\n",
      "Epoch 73/131\n",
      "10/10 [==============================] - 25s 3s/step - loss: 0.0017 - acc: 1.0000 - val_loss: 0.4510 - val_acc: 0.9385\n",
      "Epoch 74/131\n",
      "10/10 [==============================] - 25s 3s/step - loss: 0.0011 - acc: 1.0000 - val_loss: 0.5764 - val_acc: 0.9231\n",
      "Epoch 75/131\n",
      "10/10 [==============================] - 25s 3s/step - loss: 0.8572 - acc: 0.8542 - val_loss: 0.3975 - val_acc: 0.8769\n",
      "Epoch 76/131\n",
      "10/10 [==============================] - 25s 3s/step - loss: 0.0379 - acc: 0.9901 - val_loss: 0.3490 - val_acc: 0.9231\n",
      "Epoch 77/131\n",
      "10/10 [==============================] - 25s 3s/step - loss: 0.0060 - acc: 1.0000 - val_loss: 0.3741 - val_acc: 0.9231\n",
      "Epoch 78/131\n",
      "10/10 [==============================] - 25s 2s/step - loss: 0.0038 - acc: 1.0000 - val_loss: 0.4191 - val_acc: 0.9231\n",
      "Epoch 79/131\n",
      "10/10 [==============================] - 25s 3s/step - loss: 0.0026 - acc: 1.0000 - val_loss: 0.4562 - val_acc: 0.9231\n",
      "Epoch 80/131\n",
      "10/10 [==============================] - 25s 3s/step - loss: 0.0018 - acc: 1.0000 - val_loss: 0.4865 - val_acc: 0.9231\n",
      "Epoch 81/131\n",
      "10/10 [==============================] - 25s 3s/step - loss: 0.0013 - acc: 1.0000 - val_loss: 0.4390 - val_acc: 0.9385\n",
      "Epoch 82/131\n",
      "10/10 [==============================] - 25s 2s/step - loss: 0.0010 - acc: 1.0000 - val_loss: 0.4632 - val_acc: 0.9385\n",
      "Epoch 83/131\n",
      "10/10 [==============================] - 25s 2s/step - loss: 6.6656e-04 - acc: 1.0000 - val_loss: 0.4853 - val_acc: 0.9385\n",
      "Epoch 84/131\n",
      "10/10 [==============================] - 25s 3s/step - loss: 4.7989e-04 - acc: 1.0000 - val_loss: 0.5105 - val_acc: 0.9385\n",
      "Epoch 85/131\n",
      "10/10 [==============================] - 25s 3s/step - loss: 3.2327e-04 - acc: 1.0000 - val_loss: 0.5394 - val_acc: 0.9385\n",
      "Epoch 86/131\n",
      "10/10 [==============================] - 25s 3s/step - loss: 0.6701 - acc: 0.8969 - val_loss: 1.6164 - val_acc: 0.6923\n",
      "Epoch 87/131\n",
      "10/10 [==============================] - 25s 2s/step - loss: 0.1497 - acc: 0.9740 - val_loss: 0.3926 - val_acc: 0.9231\n",
      "Epoch 88/131\n",
      "10/10 [==============================] - 25s 2s/step - loss: 0.0059 - acc: 1.0000 - val_loss: 0.4293 - val_acc: 0.9231\n",
      "Epoch 89/131\n",
      "10/10 [==============================] - 25s 3s/step - loss: 0.0028 - acc: 1.0000 - val_loss: 0.4642 - val_acc: 0.9231\n",
      "Epoch 90/131\n",
      "10/10 [==============================] - 25s 3s/step - loss: 0.0018 - acc: 1.0000 - val_loss: 0.4967 - val_acc: 0.9231\n",
      "Epoch 91/131\n",
      "10/10 [==============================] - 25s 3s/step - loss: 0.0013 - acc: 1.0000 - val_loss: 0.5372 - val_acc: 0.9231\n",
      "Epoch 92/131\n",
      "10/10 [==============================] - 25s 3s/step - loss: 8.1510e-04 - acc: 1.0000 - val_loss: 0.5763 - val_acc: 0.9231\n",
      "Epoch 93/131\n",
      "10/10 [==============================] - 25s 3s/step - loss: 5.7165e-04 - acc: 1.0000 - val_loss: 0.6083 - val_acc: 0.9231\n",
      "Epoch 94/131\n",
      "10/10 [==============================] - 25s 3s/step - loss: 4.4210e-04 - acc: 1.0000 - val_loss: 0.6381 - val_acc: 0.9231\n",
      "Epoch 95/131\n",
      "10/10 [==============================] - 25s 3s/step - loss: 3.0383e-04 - acc: 1.0000 - val_loss: 0.6695 - val_acc: 0.9231\n",
      "Epoch 96/131\n",
      "10/10 [==============================] - 25s 3s/step - loss: 2.0150e-04 - acc: 1.0000 - val_loss: 0.7015 - val_acc: 0.9231\n",
      "Epoch 97/131\n",
      "10/10 [==============================] - 25s 2s/step - loss: 1.3924e-04 - acc: 1.0000 - val_loss: 0.7361 - val_acc: 0.9231\n",
      "Epoch 98/131\n",
      "10/10 [==============================] - 25s 3s/step - loss: 9.6276e-05 - acc: 1.0000 - val_loss: 0.6209 - val_acc: 0.9385\n",
      "Epoch 99/131\n",
      "10/10 [==============================] - 25s 3s/step - loss: 5.4909e-05 - acc: 1.0000 - val_loss: 0.6502 - val_acc: 0.9385\n",
      "Epoch 100/131\n",
      "10/10 [==============================] - 25s 3s/step - loss: 1.5844 - acc: 0.8038 - val_loss: 0.5251 - val_acc: 0.8923\n",
      "Epoch 101/131\n",
      "10/10 [==============================] - 25s 3s/step - loss: 0.0898 - acc: 0.9756 - val_loss: 0.3779 - val_acc: 0.9231\n",
      "Epoch 102/131\n",
      "10/10 [==============================] - 25s 3s/step - loss: 0.0056 - acc: 1.0000 - val_loss: 0.4093 - val_acc: 0.9231\n",
      "Epoch 103/131\n",
      "10/10 [==============================] - 25s 2s/step - loss: 0.0025 - acc: 1.0000 - val_loss: 0.4418 - val_acc: 0.9231\n",
      "Epoch 104/131\n",
      "10/10 [==============================] - 25s 3s/step - loss: 0.0015 - acc: 1.0000 - val_loss: 0.4819 - val_acc: 0.9231\n",
      "Epoch 105/131\n",
      "10/10 [==============================] - 25s 3s/step - loss: 0.0011 - acc: 1.0000 - val_loss: 0.5182 - val_acc: 0.9231\n",
      "Epoch 106/131\n",
      "10/10 [==============================] - 25s 3s/step - loss: 7.3522e-04 - acc: 1.0000 - val_loss: 0.4850 - val_acc: 0.9385\n",
      "Epoch 107/131\n",
      "10/10 [==============================] - 25s 3s/step - loss: 4.8031e-04 - acc: 1.0000 - val_loss: 0.5126 - val_acc: 0.9385\n",
      "Epoch 108/131\n",
      "10/10 [==============================] - 25s 3s/step - loss: 3.0767e-04 - acc: 1.0000 - val_loss: 0.5377 - val_acc: 0.9385\n",
      "Epoch 109/131\n",
      "10/10 [==============================] - 25s 3s/step - loss: 2.3037e-04 - acc: 1.0000 - val_loss: 0.6528 - val_acc: 0.9231\n",
      "Epoch 110/131\n",
      "10/10 [==============================] - 25s 2s/step - loss: 1.5235e-04 - acc: 1.0000 - val_loss: 0.6867 - val_acc: 0.9231\n",
      "Epoch 111/131\n",
      "10/10 [==============================] - 25s 3s/step - loss: 1.0217e-04 - acc: 1.0000 - val_loss: 0.7207 - val_acc: 0.9231\n",
      "Epoch 112/131\n",
      "10/10 [==============================] - 25s 3s/step - loss: 7.2037e-05 - acc: 1.0000 - val_loss: 0.8700 - val_acc: 0.9077\n",
      "Epoch 113/131\n",
      "10/10 [==============================] - 25s 3s/step - loss: 4.3784e-05 - acc: 1.0000 - val_loss: 0.9094 - val_acc: 0.9077\n",
      "Epoch 114/131\n",
      "10/10 [==============================] - 25s 3s/step - loss: 2.9636e-05 - acc: 1.0000 - val_loss: 0.9304 - val_acc: 0.9077\n",
      "Epoch 115/131\n",
      "10/10 [==============================] - 25s 3s/step - loss: 2.0309e-05 - acc: 1.0000 - val_loss: 1.1272 - val_acc: 0.8923\n",
      "Epoch 116/131\n",
      "10/10 [==============================] - 25s 2s/step - loss: 1.0363 - acc: 0.9031 - val_loss: 0.4541 - val_acc: 0.9385\n",
      "Epoch 117/131\n",
      "10/10 [==============================] - 25s 3s/step - loss: 0.0306 - acc: 0.9939 - val_loss: 0.4822 - val_acc: 0.9231\n",
      "Epoch 118/131\n",
      "10/10 [==============================] - 25s 3s/step - loss: 0.0013 - acc: 1.0000 - val_loss: 0.5687 - val_acc: 0.9077\n",
      "Epoch 119/131\n",
      "10/10 [==============================] - 25s 3s/step - loss: 8.1474e-04 - acc: 1.0000 - val_loss: 0.5295 - val_acc: 0.9231\n",
      "Epoch 120/131\n",
      "10/10 [==============================] - 25s 3s/step - loss: 6.4702e-04 - acc: 1.0000 - val_loss: 0.5608 - val_acc: 0.9231\n",
      "Epoch 121/131\n",
      "10/10 [==============================] - 26s 3s/step - loss: 4.8711e-04 - acc: 1.0000 - val_loss: 0.6886 - val_acc: 0.9077\n",
      "Epoch 122/131\n",
      "10/10 [==============================] - 25s 3s/step - loss: 3.9185e-04 - acc: 1.0000 - val_loss: 0.7281 - val_acc: 0.9077\n",
      "Epoch 123/131\n",
      "10/10 [==============================] - 25s 3s/step - loss: 2.7690e-04 - acc: 1.0000 - val_loss: 0.6634 - val_acc: 0.9231\n",
      "Epoch 124/131\n"
     ]
    },
    {
     "name": "stdout",
     "output_type": "stream",
     "text": [
      "10/10 [==============================] - 26s 3s/step - loss: 2.1304e-04 - acc: 1.0000 - val_loss: 0.5806 - val_acc: 0.9385\n",
      "Epoch 125/131\n",
      "10/10 [==============================] - 25s 3s/step - loss: 1.3231e-04 - acc: 1.0000 - val_loss: 0.6050 - val_acc: 0.9385\n",
      "Epoch 126/131\n",
      "10/10 [==============================] - 26s 3s/step - loss: 9.8922e-05 - acc: 1.0000 - val_loss: 0.6340 - val_acc: 0.9385\n",
      "Epoch 127/131\n",
      "10/10 [==============================] - 25s 3s/step - loss: 5.6010e-05 - acc: 1.0000 - val_loss: 0.5168 - val_acc: 0.9538\n",
      "Epoch 128/131\n",
      "10/10 [==============================] - 25s 3s/step - loss: 3.8112e-05 - acc: 1.0000 - val_loss: 0.6922 - val_acc: 0.9385\n",
      "Epoch 129/131\n",
      "10/10 [==============================] - 25s 3s/step - loss: 1.2644 - acc: 0.8435 - val_loss: 0.5532 - val_acc: 0.8769\n",
      "Epoch 130/131\n",
      "10/10 [==============================] - 26s 3s/step - loss: 0.0479 - acc: 0.9855 - val_loss: 0.4432 - val_acc: 0.9231\n",
      "Epoch 131/131\n",
      "10/10 [==============================] - 26s 3s/step - loss: 0.0033 - acc: 1.0000 - val_loss: 0.4490 - val_acc: 0.9231\n"
     ]
    }
   ],
   "source": [
    "hist = model_dario.fit(x = data_dg, y = label_dg, epochs=131, steps_per_epoch=10, validation_split=0.33, validation_steps=65)"
   ]
  },
  {
   "cell_type": "code",
   "execution_count": 20,
   "metadata": {},
   "outputs": [
    {
     "data": {
      "image/png": "[encoded data removed]",
      "text/plain": [
       "<Figure size 432x288 with 1 Axes>"
      ]
     },
     "metadata": {
      "needs_background": "light"
     },
     "output_type": "display_data"
    }
   ],
   "source": [
    "%matplotlib inline\n",
    "import matplotlib.pyplot as plt\n",
    "plt.plot(hist.history['acc'])\n",
    "plt.plot(hist.history['val_acc'])\n",
    "plt.title('model accuracy')\n",
    "plt.ylabel('accuracy')\n",
    "plt.xlabel('epoch')\n",
    "plt.legend(['train', 'test'], loc='upper left')\n",
    "plt.savefig('./model_accuracy_131Epoch',quality=100,)"
   ]
  },
  {
   "cell_type": "code",
   "execution_count": 21,
   "metadata": {},
   "outputs": [
    {
     "data": {
      "image/png": "[encoded data removed]",
      "text/plain": [
       "<Figure size 432x288 with 1 Axes>"
      ]
     },
     "metadata": {
      "needs_background": "light"
     },
     "output_type": "display_data"
    }
   ],
   "source": [
    "plt.plot(hist.history['loss'])\n",
    "plt.plot(hist.history['val_loss'])\n",
    "plt.title('model loss')\n",
    "plt.ylabel('loss')\n",
    "plt.xlabel('epoch')\n",
    "plt.legend(['train', 'test'], loc='upper left')\n",
    "plt.savefig('./model_loss_131Epoch')"
   ]
  },
  {
   "cell_type": "code",
   "execution_count": 22,
   "metadata": {},
   "outputs": [],
   "source": [
    "model_dario.save(\"model_dario.h5\")\n",
    "del model_dario"
   ]
  },
  {
   "cell_type": "code",
   "execution_count": 23,
   "metadata": {},
   "outputs": [],
   "source": [
    "model_dario_reloaded = load_model(\"model_dario.h5\")"
   ]
  },
  {
   "cell_type": "code",
   "execution_count": 24,
   "metadata": {},
   "outputs": [
    {
     "ename": "ValueError",
     "evalue": "Error when checking input: expected lstm_1_input to have 3 dimensions, but got array with shape (600, 7)",
     "output_type": "error",
     "traceback": [
      "\u001b[0;31m---------------------------------------------------------------------------\u001b[0m",
      "\u001b[0;31mValueError\u001b[0m                                Traceback (most recent call last)",
      "\u001b[0;32m<ipython-input-24-8e629f7e2d7f>\u001b[0m in \u001b[0;36m<module>\u001b[0;34m\u001b[0m\n\u001b[0;32m----> 1\u001b[0;31m \u001b[0mout_dario_reloaded\u001b[0m \u001b[0;34m=\u001b[0m \u001b[0mmodel_dario_reloaded\u001b[0m\u001b[0;34m.\u001b[0m\u001b[0mevaluate_generator\u001b[0m\u001b[0;34m(\u001b[0m\u001b[0mg_dario_test\u001b[0m\u001b[0;34m,\u001b[0m \u001b[0mverbose\u001b[0m\u001b[0;34m=\u001b[0m\u001b[0;36m1\u001b[0m\u001b[0;34m,\u001b[0m \u001b[0msteps\u001b[0m\u001b[0;34m=\u001b[0m\u001b[0;36m3\u001b[0m\u001b[0;34m)\u001b[0m\u001b[0;34m\u001b[0m\u001b[0;34m\u001b[0m\u001b[0m\n\u001b[0m\u001b[1;32m      2\u001b[0m \u001b[0;34m\u001b[0m\u001b[0m\n\u001b[1;32m      3\u001b[0m \u001b[0mout_dario_reloaded\u001b[0m\u001b[0;34m\u001b[0m\u001b[0;34m\u001b[0m\u001b[0m\n",
      "\u001b[0;32m/usr/local/lib/python3.6/dist-packages/keras/legacy/interfaces.py\u001b[0m in \u001b[0;36mwrapper\u001b[0;34m(*args, **kwargs)\u001b[0m\n\u001b[1;32m     89\u001b[0m                 warnings.warn('Update your `' + object_name + '` call to the ' +\n\u001b[1;32m     90\u001b[0m                               'Keras 2 API: ' + signature, stacklevel=2)\n\u001b[0;32m---> 91\u001b[0;31m             \u001b[0;32mreturn\u001b[0m \u001b[0mfunc\u001b[0m\u001b[0;34m(\u001b[0m\u001b[0;34m*\u001b[0m\u001b[0margs\u001b[0m\u001b[0;34m,\u001b[0m \u001b[0;34m**\u001b[0m\u001b[0mkwargs\u001b[0m\u001b[0;34m)\u001b[0m\u001b[0;34m\u001b[0m\u001b[0;34m\u001b[0m\u001b[0m\n\u001b[0m\u001b[1;32m     92\u001b[0m         \u001b[0mwrapper\u001b[0m\u001b[0;34m.\u001b[0m\u001b[0m_original_function\u001b[0m \u001b[0;34m=\u001b[0m \u001b[0mfunc\u001b[0m\u001b[0;34m\u001b[0m\u001b[0;34m\u001b[0m\u001b[0m\n\u001b[1;32m     93\u001b[0m         \u001b[0;32mreturn\u001b[0m \u001b[0mwrapper\u001b[0m\u001b[0;34m\u001b[0m\u001b[0;34m\u001b[0m\u001b[0m\n",
      "\u001b[0;32m/usr/local/lib/python3.6/dist-packages/keras/engine/training.py\u001b[0m in \u001b[0;36mevaluate_generator\u001b[0;34m(self, generator, steps, max_queue_size, workers, use_multiprocessing, verbose)\u001b[0m\n\u001b[1;32m   1470\u001b[0m             \u001b[0mworkers\u001b[0m\u001b[0;34m=\u001b[0m\u001b[0mworkers\u001b[0m\u001b[0;34m,\u001b[0m\u001b[0;34m\u001b[0m\u001b[0;34m\u001b[0m\u001b[0m\n\u001b[1;32m   1471\u001b[0m             \u001b[0muse_multiprocessing\u001b[0m\u001b[0;34m=\u001b[0m\u001b[0muse_multiprocessing\u001b[0m\u001b[0;34m,\u001b[0m\u001b[0;34m\u001b[0m\u001b[0;34m\u001b[0m\u001b[0m\n\u001b[0;32m-> 1472\u001b[0;31m             verbose=verbose)\n\u001b[0m\u001b[1;32m   1473\u001b[0m \u001b[0;34m\u001b[0m\u001b[0m\n\u001b[1;32m   1474\u001b[0m     \u001b[0;34m@\u001b[0m\u001b[0minterfaces\u001b[0m\u001b[0;34m.\u001b[0m\u001b[0mlegacy_generator_methods_support\u001b[0m\u001b[0;34m\u001b[0m\u001b[0;34m\u001b[0m\u001b[0m\n",
      "\u001b[0;32m/usr/local/lib/python3.6/dist-packages/keras/engine/training_generator.py\u001b[0m in \u001b[0;36mevaluate_generator\u001b[0;34m(model, generator, steps, max_queue_size, workers, use_multiprocessing, verbose)\u001b[0m\n\u001b[1;32m    344\u001b[0m                                  \u001b[0;34m'or (x, y). Found: '\u001b[0m \u001b[0;34m+\u001b[0m\u001b[0;34m\u001b[0m\u001b[0;34m\u001b[0m\u001b[0m\n\u001b[1;32m    345\u001b[0m                                  str(generator_output))\n\u001b[0;32m--> 346\u001b[0;31m             \u001b[0mouts\u001b[0m \u001b[0;34m=\u001b[0m \u001b[0mmodel\u001b[0m\u001b[0;34m.\u001b[0m\u001b[0mtest_on_batch\u001b[0m\u001b[0;34m(\u001b[0m\u001b[0mx\u001b[0m\u001b[0;34m,\u001b[0m \u001b[0my\u001b[0m\u001b[0;34m,\u001b[0m \u001b[0msample_weight\u001b[0m\u001b[0;34m=\u001b[0m\u001b[0msample_weight\u001b[0m\u001b[0;34m)\u001b[0m\u001b[0;34m\u001b[0m\u001b[0;34m\u001b[0m\u001b[0m\n\u001b[0m\u001b[1;32m    347\u001b[0m             \u001b[0mouts\u001b[0m \u001b[0;34m=\u001b[0m \u001b[0mto_list\u001b[0m\u001b[0;34m(\u001b[0m\u001b[0mouts\u001b[0m\u001b[0;34m)\u001b[0m\u001b[0;34m\u001b[0m\u001b[0;34m\u001b[0m\u001b[0m\n\u001b[1;32m    348\u001b[0m             \u001b[0mouts_per_batch\u001b[0m\u001b[0;34m.\u001b[0m\u001b[0mappend\u001b[0m\u001b[0;34m(\u001b[0m\u001b[0mouts\u001b[0m\u001b[0;34m)\u001b[0m\u001b[0;34m\u001b[0m\u001b[0;34m\u001b[0m\u001b[0m\n",
      "\u001b[0;32m/usr/local/lib/python3.6/dist-packages/keras/engine/training.py\u001b[0m in \u001b[0;36mtest_on_batch\u001b[0;34m(self, x, y, sample_weight)\u001b[0m\n\u001b[1;32m   1248\u001b[0m         x, y, sample_weights = self._standardize_user_data(\n\u001b[1;32m   1249\u001b[0m             \u001b[0mx\u001b[0m\u001b[0;34m,\u001b[0m \u001b[0my\u001b[0m\u001b[0;34m,\u001b[0m\u001b[0;34m\u001b[0m\u001b[0;34m\u001b[0m\u001b[0m\n\u001b[0;32m-> 1250\u001b[0;31m             sample_weight=sample_weight)\n\u001b[0m\u001b[1;32m   1251\u001b[0m         \u001b[0;32mif\u001b[0m \u001b[0mself\u001b[0m\u001b[0;34m.\u001b[0m\u001b[0m_uses_dynamic_learning_phase\u001b[0m\u001b[0;34m(\u001b[0m\u001b[0;34m)\u001b[0m\u001b[0;34m:\u001b[0m\u001b[0;34m\u001b[0m\u001b[0;34m\u001b[0m\u001b[0m\n\u001b[1;32m   1252\u001b[0m             \u001b[0mins\u001b[0m \u001b[0;34m=\u001b[0m \u001b[0mx\u001b[0m \u001b[0;34m+\u001b[0m \u001b[0my\u001b[0m \u001b[0;34m+\u001b[0m \u001b[0msample_weights\u001b[0m \u001b[0;34m+\u001b[0m \u001b[0;34m[\u001b[0m\u001b[0;36m0.\u001b[0m\u001b[0;34m]\u001b[0m\u001b[0;34m\u001b[0m\u001b[0;34m\u001b[0m\u001b[0m\n",
      "\u001b[0;32m/usr/local/lib/python3.6/dist-packages/keras/engine/training.py\u001b[0m in \u001b[0;36m_standardize_user_data\u001b[0;34m(self, x, y, sample_weight, class_weight, check_array_lengths, batch_size)\u001b[0m\n\u001b[1;32m    749\u001b[0m             \u001b[0mfeed_input_shapes\u001b[0m\u001b[0;34m,\u001b[0m\u001b[0;34m\u001b[0m\u001b[0;34m\u001b[0m\u001b[0m\n\u001b[1;32m    750\u001b[0m             \u001b[0mcheck_batch_axis\u001b[0m\u001b[0;34m=\u001b[0m\u001b[0;32mFalse\u001b[0m\u001b[0;34m,\u001b[0m  \u001b[0;31m# Don't enforce the batch size.\u001b[0m\u001b[0;34m\u001b[0m\u001b[0;34m\u001b[0m\u001b[0m\n\u001b[0;32m--> 751\u001b[0;31m             exception_prefix='input')\n\u001b[0m\u001b[1;32m    752\u001b[0m \u001b[0;34m\u001b[0m\u001b[0m\n\u001b[1;32m    753\u001b[0m         \u001b[0;32mif\u001b[0m \u001b[0my\u001b[0m \u001b[0;32mis\u001b[0m \u001b[0;32mnot\u001b[0m \u001b[0;32mNone\u001b[0m\u001b[0;34m:\u001b[0m\u001b[0;34m\u001b[0m\u001b[0;34m\u001b[0m\u001b[0m\n",
      "\u001b[0;32m/usr/local/lib/python3.6/dist-packages/keras/engine/training_utils.py\u001b[0m in \u001b[0;36mstandardize_input_data\u001b[0;34m(data, names, shapes, check_batch_axis, exception_prefix)\u001b[0m\n\u001b[1;32m    126\u001b[0m                         \u001b[0;34m': expected '\u001b[0m \u001b[0;34m+\u001b[0m \u001b[0mnames\u001b[0m\u001b[0;34m[\u001b[0m\u001b[0mi\u001b[0m\u001b[0;34m]\u001b[0m \u001b[0;34m+\u001b[0m \u001b[0;34m' to have '\u001b[0m \u001b[0;34m+\u001b[0m\u001b[0;34m\u001b[0m\u001b[0;34m\u001b[0m\u001b[0m\n\u001b[1;32m    127\u001b[0m                         \u001b[0mstr\u001b[0m\u001b[0;34m(\u001b[0m\u001b[0mlen\u001b[0m\u001b[0;34m(\u001b[0m\u001b[0mshape\u001b[0m\u001b[0;34m)\u001b[0m\u001b[0;34m)\u001b[0m \u001b[0;34m+\u001b[0m \u001b[0;34m' dimensions, but got array '\u001b[0m\u001b[0;34m\u001b[0m\u001b[0;34m\u001b[0m\u001b[0m\n\u001b[0;32m--> 128\u001b[0;31m                         'with shape ' + str(data_shape))\n\u001b[0m\u001b[1;32m    129\u001b[0m                 \u001b[0;32mif\u001b[0m \u001b[0;32mnot\u001b[0m \u001b[0mcheck_batch_axis\u001b[0m\u001b[0;34m:\u001b[0m\u001b[0;34m\u001b[0m\u001b[0;34m\u001b[0m\u001b[0m\n\u001b[1;32m    130\u001b[0m                     \u001b[0mdata_shape\u001b[0m \u001b[0;34m=\u001b[0m \u001b[0mdata_shape\u001b[0m\u001b[0;34m[\u001b[0m\u001b[0;36m1\u001b[0m\u001b[0;34m:\u001b[0m\u001b[0;34m]\u001b[0m\u001b[0;34m\u001b[0m\u001b[0;34m\u001b[0m\u001b[0m\n",
      "\u001b[0;31mValueError\u001b[0m: Error when checking input: expected lstm_1_input to have 3 dimensions, but got array with shape (600, 7)"
     ]
    }
   ],
   "source": [
    "out_dario_reloaded = model_dario_reloaded.evaluate_generator(g_dario_test, verbose=1, steps=3)\n",
    "\n",
    "out_dario_reloaded"
   ]
  }
 ],
 "metadata": {
  "kernelspec": {
   "display_name": "Python 3",
   "language": "python",
   "name": "python3"
  },
  "language_info": {
   "codemirror_mode": {
    "name": "ipython",
    "version": 3
   },
   "file_extension": ".py",
   "mimetype": "text/x-python",
   "name": "python",
   "nbconvert_exporter": "python",
   "pygments_lexer": "ipython3",
   "version": "3.6.8"
  }
 },
 "nbformat": 4,
 "nbformat_minor": 2
}
