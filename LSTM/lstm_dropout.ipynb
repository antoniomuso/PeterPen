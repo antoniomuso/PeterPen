{
 "cells": [
  {
   "cell_type": "code",
   "execution_count": 1,
   "metadata": {},
   "outputs": [
    {
     "name": "stderr",
     "output_type": "stream",
     "text": [
      "Using TensorFlow backend.\n"
     ]
    }
   ],
   "source": [
    "import pandas as pd\n",
    "import numpy as np\n",
    "import json\n",
    "import keras\n",
    "import random\n",
    "from keras.layers import Dense, LSTM, Dropout, Masking\n",
    "from keras.models import Sequential, load_model\n",
    "from keras.utils import plot_model\n",
    "from keras.wrappers.scikit_learn import KerasClassifier\n",
    "from sklearn.model_selection import cross_val_score\n",
    "from sklearn.datasets import make_classification\n",
    "import os"
   ]
  },
  {
   "cell_type": "code",
   "execution_count": 2,
   "metadata": {},
   "outputs": [],
   "source": [
    "with open('../dati/pad/lines_pad.json', 'r') as f:\n",
    "    data_lines = json.load(f)\n",
    "\n",
    "with open('../dati/pad/lines_2_pad.json', 'r') as f:\n",
    "    data_lines += json.load(f)\n",
    "\n",
    "for elem in range(len(data_lines)):\n",
    "    for arr in range(len(data_lines[elem])):\n",
    "        tmp = []\n",
    "        for f in range(7):\n",
    "            tmp.append(data_lines[elem][arr][f])\n",
    "        data_lines[elem][arr] = tmp"
   ]
  },
  {
   "cell_type": "code",
   "execution_count": 3,
   "metadata": {},
   "outputs": [],
   "source": [
    "with open('../dati/pad/circles_pad.json', 'r') as f:\n",
    "    data_circles = json.load(f)\n",
    "\n",
    "for elem in range(len(data_circles)):\n",
    "    for arr in range(len(data_circles[elem])):\n",
    "        tmp = []\n",
    "        for f in range(7):\n",
    "            tmp.append(data_circles[elem][arr][f])\n",
    "        data_circles[elem][arr] = tmp\n",
    "        "
   ]
  },
  {
   "cell_type": "code",
   "execution_count": 4,
   "metadata": {},
   "outputs": [],
   "source": [
    "with open('../dati/pad/lines_pad.json', 'r') as f:\n",
    "    data_lines = json.load(f)\n",
    "\n",
    "with open('../dati/pad/lines_2_pad.json', 'r') as f:\n",
    "    data_lines += json.load(f)\n",
    "    \n",
    "\n",
    "def generator(data, labels):\n",
    "    assert len(data) == len(labels)\n",
    "    while True:\n",
    "        for elem in range(len(data)):\n",
    "            #word_array = []\n",
    "            #for arr in range(len(data[elem])):\n",
    "            #    tmp = []\n",
    "            #    for f in range(7):\n",
    "            #        tmp.append(data[elem][arr][f])\n",
    "            #    word_array.append(tmp)\n",
    "            yield np.array(data[elem]), np.array(labels[elem])\n",
    "\n",
    "g_lines = generator(data_lines, [1] * len(data_lines))"
   ]
  },
  {
   "cell_type": "code",
   "execution_count": 5,
   "metadata": {},
   "outputs": [],
   "source": [
    "with open('../dati/pad/circles_pad.json', 'r') as f:\n",
    "    data_circles = json.load(f)\n",
    "    \n",
    "g_circles = generator(data_circles, [0] * len(data_circles))"
   ]
  },
  {
   "cell_type": "code",
   "execution_count": 6,
   "metadata": {},
   "outputs": [],
   "source": [
    "file_recog = 'Giulio_pad.json'\n",
    "file_path = '../dati/scrittura_di_computer/pad/'\n",
    "labelled_data_d, labelled_data_g = [], []\n",
    "\n",
    "for file in os.listdir(file_path):\n",
    "    if file_recog == file: continue\n",
    "    with open(os.path.join(file_path, file), 'r') as f:\n",
    "        data_g = json.load(f)\n",
    "    for i in range(len(data_g)):\n",
    "        labelled_data_g.append((data_g[i], 0))\n",
    "        \n",
    "        \n",
    "with open(os.path.join(file_path, file_recog), 'r') as f:\n",
    "    data_r = json.load(f)\n",
    "for i in range(len(data_r)):\n",
    "    labelled_data_d.append((data_r[i], 1))\n",
    "    \n",
    "def xy_data(labelled_data):\n",
    "    x_data, y_labels = [], []\n",
    "    for i in labelled_data:\n",
    "        x_data.append(i[0])\n",
    "        y_labels.append(i[1])\n",
    "        \n",
    "    return np.array(x_data), np.array(y_labels)\n",
    "\n",
    "labelled_data_dg = labelled_data_d * 8  + labelled_data_g  \n",
    "random.shuffle(labelled_data_dg)\n",
    "\n",
    "data_dg, label_dg = xy_data(labelled_data_dg)\n"
   ]
  },
  {
   "cell_type": "code",
   "execution_count": 7,
   "metadata": {},
   "outputs": [],
   "source": [
    "def create_model():\n",
    "    model = Sequential()\n",
    "    model.add(Masking(mask_value=0.0))\n",
    "    model.add(LSTM(input_shape=(1000, 7), units=64, activation=\"sigmoid\", return_sequences=True, recurrent_activation=\"hard_sigmoid\"))\n",
    "    model.add(LSTM(units=128, activation=\"sigmoid\", return_sequences=False, recurrent_activation=\"hard_sigmoid\"))\n",
    "    model.add(Dropout(0.5))\n",
    "    model.add(Dense(1, activation='sigmoid'))\n",
    "    model.compile(loss='binary_crossentropy', optimizer='rmsprop', metrics=['accuracy'])\n",
    "    return model"
   ]
  },
  {
   "cell_type": "code",
   "execution_count": 8,
   "metadata": {},
   "outputs": [],
   "source": [
    "#neural_network = KerasClassifier(build_fn=create_model, \n",
    "#                                 epochs=4,\n",
    "#                                 steps_per_epoch=140,\n",
    "#                                 validation_split=0.2,\n",
    "#                                 validation_steps=36,\n",
    "#                                 verbose=1)"
   ]
  },
  {
   "cell_type": "code",
   "execution_count": 9,
   "metadata": {},
   "outputs": [],
   "source": [
    "#plot_model(model_dario, show_shapes=True, to_file='lstm_dropout_model.png')"
   ]
  },
  {
   "cell_type": "code",
   "execution_count": 10,
   "metadata": {},
   "outputs": [],
   "source": [
    "#hist = model_dario.fit_generator(g_dario_impostors, epochs=5, steps_per_epoch=42)\n"
   ]
  },
  {
   "cell_type": "code",
   "execution_count": 11,
   "metadata": {
    "scrolled": true
   },
   "outputs": [
    {
     "name": "stdout",
     "output_type": "stream",
     "text": [
      "Train on 645 samples, validate on 318 samples\n",
      "Epoch 1/150\n",
      "645/645 [==============================] - 40s 63ms/step - loss: 0.5943 - acc: 0.7116 - val_loss: 0.5455 - val_acc: 0.7327\n",
      "Epoch 2/150\n",
      "645/645 [==============================] - 39s 61ms/step - loss: 0.5382 - acc: 0.7333 - val_loss: 0.5116 - val_acc: 0.7327\n",
      "Epoch 3/150\n",
      "645/645 [==============================] - 39s 61ms/step - loss: 0.4594 - acc: 0.7628 - val_loss: 0.3662 - val_acc: 0.9497\n",
      "Epoch 4/150\n",
      "645/645 [==============================] - 39s 61ms/step - loss: 0.3517 - acc: 0.8450 - val_loss: 0.4461 - val_acc: 0.7327\n",
      "Epoch 5/150\n",
      "645/645 [==============================] - 39s 61ms/step - loss: 0.2699 - acc: 0.8853 - val_loss: 0.2062 - val_acc: 0.9277\n",
      "Epoch 6/150\n",
      "645/645 [==============================] - 39s 61ms/step - loss: 0.2253 - acc: 0.9023 - val_loss: 0.2124 - val_acc: 0.8962\n",
      "Epoch 7/150\n",
      "645/645 [==============================] - 40s 61ms/step - loss: 0.2147 - acc: 0.9178 - val_loss: 0.2680 - val_acc: 0.8428\n",
      "Epoch 8/150\n",
      "645/645 [==============================] - 39s 61ms/step - loss: 0.1905 - acc: 0.9302 - val_loss: 0.1151 - val_acc: 0.9654\n",
      "Epoch 9/150\n",
      "645/645 [==============================] - 40s 61ms/step - loss: 0.1571 - acc: 0.9349 - val_loss: 0.1093 - val_acc: 0.9654\n",
      "Epoch 10/150\n",
      "645/645 [==============================] - 39s 61ms/step - loss: 0.1317 - acc: 0.9612 - val_loss: 0.1947 - val_acc: 0.9214\n",
      "Epoch 11/150\n",
      "645/645 [==============================] - 39s 61ms/step - loss: 0.1246 - acc: 0.9519 - val_loss: 0.1015 - val_acc: 0.9591\n",
      "Epoch 12/150\n",
      "645/645 [==============================] - 39s 61ms/step - loss: 0.1131 - acc: 0.9566 - val_loss: 0.0574 - val_acc: 0.9843\n",
      "Epoch 13/150\n",
      "645/645 [==============================] - 39s 61ms/step - loss: 0.1095 - acc: 0.9597 - val_loss: 0.0710 - val_acc: 0.9906\n",
      "Epoch 14/150\n",
      "645/645 [==============================] - 39s 61ms/step - loss: 0.1150 - acc: 0.9612 - val_loss: 0.1194 - val_acc: 0.9465\n",
      "Epoch 15/150\n",
      "645/645 [==============================] - 39s 61ms/step - loss: 0.1308 - acc: 0.9550 - val_loss: 0.0899 - val_acc: 0.9591\n",
      "Epoch 16/150\n",
      "645/645 [==============================] - 39s 61ms/step - loss: 0.0610 - acc: 0.9752 - val_loss: 0.2233 - val_acc: 0.8899\n",
      "Epoch 17/150\n",
      "645/645 [==============================] - 39s 61ms/step - loss: 0.1066 - acc: 0.9612 - val_loss: 0.0365 - val_acc: 0.9969\n",
      "Epoch 18/150\n",
      "645/645 [==============================] - 40s 61ms/step - loss: 0.0563 - acc: 0.9876 - val_loss: 0.0240 - val_acc: 0.9969\n",
      "Epoch 19/150\n",
      "645/645 [==============================] - 39s 61ms/step - loss: 0.0733 - acc: 0.9752 - val_loss: 0.1272 - val_acc: 0.9497\n",
      "Epoch 20/150\n",
      "645/645 [==============================] - 39s 61ms/step - loss: 0.1157 - acc: 0.9752 - val_loss: 0.0190 - val_acc: 1.0000\n",
      "Epoch 21/150\n",
      "645/645 [==============================] - 39s 61ms/step - loss: 0.0983 - acc: 0.9736 - val_loss: 0.0232 - val_acc: 1.0000\n",
      "Epoch 22/150\n",
      "645/645 [==============================] - 39s 61ms/step - loss: 0.1127 - acc: 0.9659 - val_loss: 0.0276 - val_acc: 0.9937\n",
      "Epoch 23/150\n",
      "645/645 [==============================] - 40s 61ms/step - loss: 0.0410 - acc: 0.9860 - val_loss: 0.0232 - val_acc: 0.9906\n",
      "Epoch 24/150\n",
      "645/645 [==============================] - 39s 61ms/step - loss: 0.1027 - acc: 0.9721 - val_loss: 0.0178 - val_acc: 0.9937\n",
      "Epoch 25/150\n",
      "645/645 [==============================] - 39s 61ms/step - loss: 0.0618 - acc: 0.9814 - val_loss: 0.0178 - val_acc: 0.9906\n",
      "Epoch 26/150\n",
      "645/645 [==============================] - 39s 61ms/step - loss: 0.0290 - acc: 0.9907 - val_loss: 0.0445 - val_acc: 0.9811\n",
      "Epoch 27/150\n",
      "645/645 [==============================] - 39s 61ms/step - loss: 0.0740 - acc: 0.9736 - val_loss: 0.0206 - val_acc: 0.9906\n",
      "Epoch 28/150\n",
      "645/645 [==============================] - 39s 61ms/step - loss: 0.0522 - acc: 0.9829 - val_loss: 0.0176 - val_acc: 0.9937\n",
      "Epoch 29/150\n",
      "645/645 [==============================] - 39s 61ms/step - loss: 0.0271 - acc: 0.9938 - val_loss: 0.0354 - val_acc: 0.9906\n",
      "Epoch 30/150\n",
      "645/645 [==============================] - 40s 62ms/step - loss: 0.0850 - acc: 0.9736 - val_loss: 0.0175 - val_acc: 0.9937\n",
      "Epoch 31/150\n",
      "645/645 [==============================] - 40s 62ms/step - loss: 0.0219 - acc: 0.9938 - val_loss: 0.0172 - val_acc: 0.9906\n",
      "Epoch 32/150\n",
      "645/645 [==============================] - 39s 61ms/step - loss: 0.0748 - acc: 0.9752 - val_loss: 0.0265 - val_acc: 0.9906\n",
      "Epoch 33/150\n",
      "645/645 [==============================] - 39s 61ms/step - loss: 0.0166 - acc: 0.9922 - val_loss: 0.0167 - val_acc: 0.9906\n",
      "Epoch 34/150\n",
      "645/645 [==============================] - 39s 61ms/step - loss: 0.0367 - acc: 0.9860 - val_loss: 0.0174 - val_acc: 0.9906\n",
      "Epoch 35/150\n",
      "645/645 [==============================] - 39s 61ms/step - loss: 0.0730 - acc: 0.9845 - val_loss: 0.0160 - val_acc: 1.0000\n",
      "Epoch 36/150\n",
      "645/645 [==============================] - 39s 61ms/step - loss: 0.0117 - acc: 0.9984 - val_loss: 0.0067 - val_acc: 1.0000\n",
      "Epoch 37/150\n",
      "645/645 [==============================] - 39s 61ms/step - loss: 0.0659 - acc: 0.9829 - val_loss: 0.0110 - val_acc: 0.9969\n",
      "Epoch 38/150\n",
      "645/645 [==============================] - 39s 61ms/step - loss: 0.0066 - acc: 1.0000 - val_loss: 0.0129 - val_acc: 0.9937\n",
      "Epoch 39/150\n",
      "645/645 [==============================] - 39s 61ms/step - loss: 0.0660 - acc: 0.9860 - val_loss: 0.0094 - val_acc: 0.9969\n",
      "Epoch 40/150\n",
      "645/645 [==============================] - 39s 61ms/step - loss: 0.0087 - acc: 0.9969 - val_loss: 0.0146 - val_acc: 0.9906\n",
      "Epoch 41/150\n",
      "645/645 [==============================] - 39s 61ms/step - loss: 0.1332 - acc: 0.9798 - val_loss: 0.0057 - val_acc: 1.0000\n",
      "Epoch 42/150\n",
      "645/645 [==============================] - 39s 61ms/step - loss: 0.0070 - acc: 1.0000 - val_loss: 0.0063 - val_acc: 1.0000\n",
      "Epoch 43/150\n",
      "645/645 [==============================] - 39s 61ms/step - loss: 0.0631 - acc: 0.9783 - val_loss: 0.0133 - val_acc: 0.9937\n",
      "Epoch 44/150\n",
      "645/645 [==============================] - 39s 61ms/step - loss: 0.0063 - acc: 0.9984 - val_loss: 0.0115 - val_acc: 0.9937\n",
      "Epoch 45/150\n",
      "645/645 [==============================] - 39s 61ms/step - loss: 0.0556 - acc: 0.9876 - val_loss: 0.0108 - val_acc: 0.9937\n",
      "Epoch 46/150\n",
      "645/645 [==============================] - 39s 61ms/step - loss: 0.0330 - acc: 0.9876 - val_loss: 0.0133 - val_acc: 0.9969\n",
      "Epoch 47/150\n",
      "645/645 [==============================] - 39s 61ms/step - loss: 0.0060 - acc: 1.0000 - val_loss: 0.0094 - val_acc: 0.9937\n",
      "Epoch 48/150\n",
      "645/645 [==============================] - 39s 61ms/step - loss: 0.0420 - acc: 0.9891 - val_loss: 0.0033 - val_acc: 1.0000\n",
      "Epoch 49/150\n",
      "645/645 [==============================] - 39s 61ms/step - loss: 0.0034 - acc: 1.0000 - val_loss: 0.0076 - val_acc: 0.9937\n",
      "Epoch 50/150\n",
      "645/645 [==============================] - 39s 61ms/step - loss: 0.0345 - acc: 0.9907 - val_loss: 0.0075 - val_acc: 0.9937\n",
      "Epoch 51/150\n",
      "645/645 [==============================] - 39s 61ms/step - loss: 0.0066 - acc: 0.9984 - val_loss: 0.0053 - val_acc: 1.0000\n",
      "Epoch 52/150\n",
      "645/645 [==============================] - 39s 61ms/step - loss: 0.0014 - acc: 1.0000 - val_loss: 0.0052 - val_acc: 1.0000\n",
      "Epoch 53/150\n",
      "645/645 [==============================] - 39s 61ms/step - loss: 0.0565 - acc: 0.9860 - val_loss: 0.0277 - val_acc: 0.9937\n",
      "Epoch 54/150\n",
      "645/645 [==============================] - 39s 61ms/step - loss: 0.0558 - acc: 0.9876 - val_loss: 0.0191 - val_acc: 0.9937\n",
      "Epoch 55/150\n",
      "645/645 [==============================] - 39s 61ms/step - loss: 0.0045 - acc: 0.9984 - val_loss: 0.0091 - val_acc: 0.9937\n",
      "Epoch 56/150\n",
      "645/645 [==============================] - 39s 61ms/step - loss: 0.0028 - acc: 1.0000 - val_loss: 0.0031 - val_acc: 1.0000\n",
      "Epoch 57/150\n",
      "645/645 [==============================] - 39s 61ms/step - loss: 0.0836 - acc: 0.9860 - val_loss: 0.0077 - val_acc: 0.9969\n",
      "Epoch 58/150\n",
      "645/645 [==============================] - 39s 61ms/step - loss: 0.0018 - acc: 1.0000 - val_loss: 0.0081 - val_acc: 0.9937\n",
      "Epoch 59/150\n",
      "645/645 [==============================] - 39s 61ms/step - loss: 0.0048 - acc: 0.9984 - val_loss: 0.0044 - val_acc: 1.0000\n",
      "Epoch 60/150\n",
      "645/645 [==============================] - 39s 61ms/step - loss: 0.0362 - acc: 0.9907 - val_loss: 0.0062 - val_acc: 0.9969\n"
     ]
    },
    {
     "name": "stdout",
     "output_type": "stream",
     "text": [
      "Epoch 61/150\n",
      "645/645 [==============================] - 39s 61ms/step - loss: 0.0024 - acc: 1.0000 - val_loss: 0.0043 - val_acc: 1.0000\n",
      "Epoch 62/150\n",
      "645/645 [==============================] - 39s 61ms/step - loss: 0.0013 - acc: 1.0000 - val_loss: 0.0045 - val_acc: 1.0000\n",
      "Epoch 63/150\n",
      "645/645 [==============================] - 39s 61ms/step - loss: 0.1302 - acc: 0.9845 - val_loss: 0.0045 - val_acc: 1.0000\n",
      "Epoch 64/150\n",
      "645/645 [==============================] - 39s 61ms/step - loss: 0.0017 - acc: 1.0000 - val_loss: 0.0034 - val_acc: 1.0000\n",
      "Epoch 65/150\n",
      "645/645 [==============================] - 39s 61ms/step - loss: 6.7216e-04 - acc: 1.0000 - val_loss: 0.0018 - val_acc: 1.0000\n",
      "Epoch 66/150\n",
      "645/645 [==============================] - 39s 61ms/step - loss: 6.5028e-04 - acc: 1.0000 - val_loss: 2.0029 - val_acc: 0.7327\n",
      "Epoch 67/150\n",
      "645/645 [==============================] - 39s 61ms/step - loss: 0.1150 - acc: 0.9829 - val_loss: 0.0024 - val_acc: 1.0000\n",
      "Epoch 68/150\n",
      "645/645 [==============================] - 39s 61ms/step - loss: 0.0010 - acc: 1.0000 - val_loss: 0.0037 - val_acc: 1.0000\n",
      "Epoch 69/150\n",
      "645/645 [==============================] - 39s 61ms/step - loss: 0.0589 - acc: 0.9860 - val_loss: 0.0020 - val_acc: 1.0000\n",
      "Epoch 70/150\n",
      "645/645 [==============================] - 39s 61ms/step - loss: 7.0468e-04 - acc: 1.0000 - val_loss: 0.0031 - val_acc: 1.0000\n",
      "Epoch 71/150\n",
      "645/645 [==============================] - 40s 61ms/step - loss: 3.7060e-04 - acc: 1.0000 - val_loss: 0.0036 - val_acc: 0.9969\n",
      "Epoch 72/150\n",
      "645/645 [==============================] - 39s 61ms/step - loss: 3.4003e-04 - acc: 1.0000 - val_loss: 0.0053 - val_acc: 0.9969\n",
      "Epoch 73/150\n",
      "645/645 [==============================] - 39s 61ms/step - loss: 0.1073 - acc: 0.9891 - val_loss: 0.0011 - val_acc: 1.0000\n",
      "Epoch 74/150\n",
      "645/645 [==============================] - 39s 61ms/step - loss: 4.3304e-04 - acc: 1.0000 - val_loss: 0.0042 - val_acc: 0.9969\n",
      "Epoch 75/150\n",
      "645/645 [==============================] - 39s 61ms/step - loss: 0.0687 - acc: 0.9829 - val_loss: 0.0018 - val_acc: 1.0000\n",
      "Epoch 76/150\n",
      "645/645 [==============================] - 39s 61ms/step - loss: 0.0011 - acc: 1.0000 - val_loss: 0.0013 - val_acc: 1.0000\n",
      "Epoch 77/150\n",
      "645/645 [==============================] - 39s 61ms/step - loss: 5.9026e-04 - acc: 1.0000 - val_loss: 0.0012 - val_acc: 1.0000\n",
      "Epoch 78/150\n",
      "645/645 [==============================] - 39s 61ms/step - loss: 0.0509 - acc: 0.9922 - val_loss: 0.0285 - val_acc: 0.9937\n",
      "Epoch 79/150\n",
      "645/645 [==============================] - 39s 61ms/step - loss: 0.0027 - acc: 1.0000 - val_loss: 0.0155 - val_acc: 0.9937\n",
      "Epoch 80/150\n",
      "645/645 [==============================] - 39s 61ms/step - loss: 0.0282 - acc: 0.9891 - val_loss: 0.0053 - val_acc: 0.9969\n",
      "Epoch 81/150\n",
      "645/645 [==============================] - 39s 61ms/step - loss: 9.5054e-04 - acc: 1.0000 - val_loss: 0.0034 - val_acc: 1.0000\n",
      "Epoch 82/150\n",
      "645/645 [==============================] - 40s 61ms/step - loss: 0.0112 - acc: 0.9938 - val_loss: 0.5334 - val_acc: 0.8679\n",
      "Epoch 83/150\n",
      "645/645 [==============================] - 39s 61ms/step - loss: 0.0141 - acc: 0.9953 - val_loss: 0.0082 - val_acc: 0.9937\n",
      "Epoch 84/150\n",
      "645/645 [==============================] - 39s 61ms/step - loss: 9.4146e-04 - acc: 1.0000 - val_loss: 0.0016 - val_acc: 1.0000\n",
      "Epoch 85/150\n",
      "645/645 [==============================] - 39s 61ms/step - loss: 0.0050 - acc: 0.9984 - val_loss: 0.0025 - val_acc: 1.0000\n",
      "Epoch 86/150\n",
      "645/645 [==============================] - 39s 61ms/step - loss: 0.0356 - acc: 0.9938 - val_loss: 0.0165 - val_acc: 0.9969\n",
      "Epoch 87/150\n",
      "645/645 [==============================] - 39s 61ms/step - loss: 0.0033 - acc: 0.9984 - val_loss: 0.0019 - val_acc: 1.0000\n",
      "Epoch 88/150\n",
      "645/645 [==============================] - 40s 62ms/step - loss: 2.6558e-04 - acc: 1.0000 - val_loss: 0.0024 - val_acc: 1.0000\n",
      "Epoch 89/150\n",
      "645/645 [==============================] - 40s 61ms/step - loss: 1.5437e-04 - acc: 1.0000 - val_loss: 0.0011 - val_acc: 1.0000\n",
      "Epoch 90/150\n",
      "645/645 [==============================] - 40s 61ms/step - loss: 1.2366e-04 - acc: 1.0000 - val_loss: 0.0060 - val_acc: 0.9969\n",
      "Epoch 91/150\n",
      "645/645 [==============================] - 40s 61ms/step - loss: 0.1869 - acc: 0.9860 - val_loss: 0.0039 - val_acc: 0.9969\n",
      "Epoch 92/150\n",
      "645/645 [==============================] - 40s 61ms/step - loss: 0.0894 - acc: 0.9783 - val_loss: 0.0122 - val_acc: 0.9937\n",
      "Epoch 93/150\n",
      "645/645 [==============================] - 40s 61ms/step - loss: 9.5060e-04 - acc: 1.0000 - val_loss: 0.0048 - val_acc: 0.9969\n",
      "Epoch 94/150\n",
      "645/645 [==============================] - 39s 61ms/step - loss: 5.2326e-04 - acc: 1.0000 - val_loss: 0.0014 - val_acc: 1.0000\n",
      "Epoch 95/150\n",
      "645/645 [==============================] - 40s 61ms/step - loss: 2.1012e-04 - acc: 1.0000 - val_loss: 7.6503e-04 - val_acc: 1.0000\n",
      "Epoch 96/150\n",
      "645/645 [==============================] - 39s 61ms/step - loss: 1.9361e-04 - acc: 1.0000 - val_loss: 0.0013 - val_acc: 1.0000\n",
      "Epoch 97/150\n",
      "645/645 [==============================] - 39s 61ms/step - loss: 0.0821 - acc: 0.9845 - val_loss: 0.0016 - val_acc: 1.0000\n",
      "Epoch 98/150\n",
      "645/645 [==============================] - 39s 61ms/step - loss: 5.6369e-04 - acc: 1.0000 - val_loss: 5.1659e-04 - val_acc: 1.0000\n",
      "Epoch 99/150\n",
      "645/645 [==============================] - 40s 61ms/step - loss: 2.3766e-04 - acc: 1.0000 - val_loss: 5.3513e-04 - val_acc: 1.0000\n",
      "Epoch 100/150\n",
      "645/645 [==============================] - 39s 61ms/step - loss: 1.4170e-04 - acc: 1.0000 - val_loss: 2.1860e-04 - val_acc: 1.0000\n",
      "Epoch 101/150\n",
      "645/645 [==============================] - 39s 61ms/step - loss: 0.0603 - acc: 0.9891 - val_loss: 0.0023 - val_acc: 1.0000\n",
      "Epoch 102/150\n",
      "645/645 [==============================] - 40s 61ms/step - loss: 5.3838e-04 - acc: 1.0000 - val_loss: 8.4933e-04 - val_acc: 1.0000\n",
      "Epoch 103/150\n",
      "645/645 [==============================] - 39s 61ms/step - loss: 2.5900e-04 - acc: 1.0000 - val_loss: 0.0012 - val_acc: 1.0000\n",
      "Epoch 104/150\n",
      "645/645 [==============================] - 39s 61ms/step - loss: 1.5520e-04 - acc: 1.0000 - val_loss: 0.0027 - val_acc: 1.0000\n",
      "Epoch 105/150\n",
      "645/645 [==============================] - 39s 61ms/step - loss: 0.1009 - acc: 0.9876 - val_loss: 1.9306e-04 - val_acc: 1.0000\n",
      "Epoch 106/150\n",
      "645/645 [==============================] - 40s 61ms/step - loss: 1.9558e-04 - acc: 1.0000 - val_loss: 2.4844e-04 - val_acc: 1.0000\n",
      "Epoch 107/150\n",
      "645/645 [==============================] - 39s 61ms/step - loss: 1.4889e-04 - acc: 1.0000 - val_loss: 4.8913e-04 - val_acc: 1.0000\n",
      "Epoch 108/150\n",
      "645/645 [==============================] - 39s 61ms/step - loss: 1.5794e-04 - acc: 1.0000 - val_loss: 8.8517e-04 - val_acc: 1.0000\n",
      "Epoch 109/150\n",
      "645/645 [==============================] - 39s 61ms/step - loss: 9.3272e-05 - acc: 1.0000 - val_loss: 6.1989e-04 - val_acc: 1.0000\n",
      "Epoch 110/150\n",
      "645/645 [==============================] - 39s 61ms/step - loss: 0.0825 - acc: 0.9860 - val_loss: 2.7087e-04 - val_acc: 1.0000\n",
      "Epoch 111/150\n",
      "645/645 [==============================] - 39s 61ms/step - loss: 1.4979e-04 - acc: 1.0000 - val_loss: 4.1894e-04 - val_acc: 1.0000\n",
      "Epoch 112/150\n",
      "645/645 [==============================] - 39s 61ms/step - loss: 1.2734e-04 - acc: 1.0000 - val_loss: 7.6397e-04 - val_acc: 1.0000\n",
      "Epoch 113/150\n",
      "645/645 [==============================] - 39s 61ms/step - loss: 1.9161e-04 - acc: 1.0000 - val_loss: 7.3991e-04 - val_acc: 1.0000\n",
      "Epoch 114/150\n",
      "645/645 [==============================] - 39s 61ms/step - loss: 5.1420e-05 - acc: 1.0000 - val_loss: 0.0015 - val_acc: 1.0000\n",
      "Epoch 115/150\n",
      "645/645 [==============================] - 39s 61ms/step - loss: 0.1173 - acc: 0.9814 - val_loss: 0.0028 - val_acc: 0.9969\n",
      "Epoch 116/150\n",
      "645/645 [==============================] - 39s 61ms/step - loss: 1.3323e-04 - acc: 1.0000 - val_loss: 0.0016 - val_acc: 1.0000\n",
      "Epoch 117/150\n",
      "645/645 [==============================] - 39s 61ms/step - loss: 9.9331e-05 - acc: 1.0000 - val_loss: 0.0019 - val_acc: 1.0000\n",
      "Epoch 118/150\n",
      "645/645 [==============================] - 39s 61ms/step - loss: 1.7462e-04 - acc: 1.0000 - val_loss: 1.4571e-04 - val_acc: 1.0000\n",
      "Epoch 119/150\n"
     ]
    },
    {
     "name": "stdout",
     "output_type": "stream",
     "text": [
      "645/645 [==============================] - 39s 61ms/step - loss: 5.0191e-05 - acc: 1.0000 - val_loss: 3.4373e-04 - val_acc: 1.0000\n",
      "Epoch 120/150\n",
      "645/645 [==============================] - 39s 61ms/step - loss: 0.0799 - acc: 0.9922 - val_loss: 0.0020 - val_acc: 1.0000\n",
      "Epoch 121/150\n",
      "645/645 [==============================] - 39s 60ms/step - loss: 1.6970e-04 - acc: 1.0000 - val_loss: 0.0017 - val_acc: 1.0000\n",
      "Epoch 122/150\n",
      "645/645 [==============================] - 39s 61ms/step - loss: 1.0203e-04 - acc: 1.0000 - val_loss: 1.3783e-04 - val_acc: 1.0000\n",
      "Epoch 123/150\n",
      "645/645 [==============================] - 39s 61ms/step - loss: 4.6382e-05 - acc: 1.0000 - val_loss: 0.0017 - val_acc: 1.0000\n",
      "Epoch 124/150\n",
      "645/645 [==============================] - 39s 61ms/step - loss: 2.5042e-05 - acc: 1.0000 - val_loss: 0.0072 - val_acc: 0.9969\n",
      "Epoch 125/150\n",
      "645/645 [==============================] - 39s 61ms/step - loss: 0.0422 - acc: 0.9922 - val_loss: 0.0044 - val_acc: 0.9969\n",
      "Epoch 126/150\n",
      "645/645 [==============================] - 39s 61ms/step - loss: 1.4985e-04 - acc: 1.0000 - val_loss: 0.0032 - val_acc: 0.9969\n",
      "Epoch 127/150\n",
      "645/645 [==============================] - 39s 61ms/step - loss: 9.8795e-05 - acc: 1.0000 - val_loss: 0.0014 - val_acc: 1.0000\n",
      "Epoch 128/150\n",
      "645/645 [==============================] - 39s 61ms/step - loss: 3.4838e-05 - acc: 1.0000 - val_loss: 0.0023 - val_acc: 0.9969\n",
      "Epoch 129/150\n",
      "645/645 [==============================] - 39s 61ms/step - loss: 6.0337e-05 - acc: 1.0000 - val_loss: 0.0018 - val_acc: 1.0000\n",
      "Epoch 130/150\n",
      "645/645 [==============================] - 39s 61ms/step - loss: 0.0939 - acc: 0.9891 - val_loss: 0.0020 - val_acc: 1.0000\n",
      "Epoch 131/150\n",
      "645/645 [==============================] - 39s 61ms/step - loss: 1.5657e-04 - acc: 1.0000 - val_loss: 0.0044 - val_acc: 0.9969\n",
      "Epoch 132/150\n",
      "645/645 [==============================] - 39s 61ms/step - loss: 0.0124 - acc: 0.9984 - val_loss: 0.1623 - val_acc: 0.9340\n",
      "Epoch 133/150\n",
      "645/645 [==============================] - 39s 61ms/step - loss: 0.0123 - acc: 0.9969 - val_loss: 0.0018 - val_acc: 1.0000\n",
      "Epoch 134/150\n",
      "645/645 [==============================] - 39s 61ms/step - loss: 3.2117e-04 - acc: 1.0000 - val_loss: 7.8716e-04 - val_acc: 1.0000\n",
      "Epoch 135/150\n",
      "645/645 [==============================] - 39s 61ms/step - loss: 1.9006e-04 - acc: 1.0000 - val_loss: 0.0251 - val_acc: 0.9906\n",
      "Epoch 136/150\n",
      "645/645 [==============================] - 39s 61ms/step - loss: 0.0685 - acc: 0.9907 - val_loss: 2.7534e-04 - val_acc: 1.0000\n",
      "Epoch 137/150\n",
      "645/645 [==============================] - 39s 61ms/step - loss: 6.8267e-05 - acc: 1.0000 - val_loss: 4.1820e-04 - val_acc: 1.0000\n",
      "Epoch 138/150\n",
      "645/645 [==============================] - 39s 61ms/step - loss: 3.6544e-05 - acc: 1.0000 - val_loss: 4.6511e-04 - val_acc: 1.0000\n",
      "Epoch 139/150\n",
      "645/645 [==============================] - 39s 61ms/step - loss: 3.8115e-05 - acc: 1.0000 - val_loss: 8.8915e-04 - val_acc: 1.0000\n",
      "Epoch 140/150\n",
      "645/645 [==============================] - 39s 61ms/step - loss: 0.0147 - acc: 0.9984 - val_loss: 0.0085 - val_acc: 0.9937\n",
      "Epoch 141/150\n",
      "645/645 [==============================] - 39s 61ms/step - loss: 1.7444e-04 - acc: 1.0000 - val_loss: 0.0023 - val_acc: 1.0000\n",
      "Epoch 142/150\n",
      "645/645 [==============================] - 39s 61ms/step - loss: 9.1392e-05 - acc: 1.0000 - val_loss: 6.0334e-04 - val_acc: 1.0000\n",
      "Epoch 143/150\n",
      "645/645 [==============================] - 39s 61ms/step - loss: 5.5983e-05 - acc: 1.0000 - val_loss: 0.0021 - val_acc: 1.0000\n",
      "Epoch 144/150\n",
      "645/645 [==============================] - 39s 61ms/step - loss: 0.0939 - acc: 0.9907 - val_loss: 2.7698e-04 - val_acc: 1.0000\n",
      "Epoch 145/150\n",
      "645/645 [==============================] - 40s 61ms/step - loss: 1.9462e-04 - acc: 1.0000 - val_loss: 1.5397e-04 - val_acc: 1.0000\n",
      "Epoch 146/150\n",
      "645/645 [==============================] - 40s 62ms/step - loss: 1.0442e-04 - acc: 1.0000 - val_loss: 1.8428e-04 - val_acc: 1.0000\n",
      "Epoch 147/150\n",
      "645/645 [==============================] - 39s 61ms/step - loss: 3.9535e-05 - acc: 1.0000 - val_loss: 1.3727e-04 - val_acc: 1.0000\n",
      "Epoch 148/150\n",
      "645/645 [==============================] - 40s 61ms/step - loss: 6.5606e-05 - acc: 1.0000 - val_loss: 0.0099 - val_acc: 0.9937\n",
      "Epoch 149/150\n",
      "645/645 [==============================] - 39s 61ms/step - loss: 0.0572 - acc: 0.9891 - val_loss: 0.0031 - val_acc: 0.9969\n",
      "Epoch 150/150\n",
      "645/645 [==============================] - 40s 62ms/step - loss: 8.3152e-05 - acc: 1.0000 - val_loss: 0.0019 - val_acc: 1.0000\n"
     ]
    }
   ],
   "source": [
    "model = create_model()\n",
    "cb = keras.callbacks.TensorBoard(log_dir='/usr/Graph', histogram_freq=0, batch_size=32, write_graph=True, write_grads=False, write_images=False, embeddings_freq=0, embeddings_layer_names=None, embeddings_metadata=None, embeddings_data=None, update_freq='epoch')\n",
    "\n",
    "hist = model.fit(x = data_dg, y = label_dg, epochs=150, batch_size=32, callbacks=[cb],validation_split=0.33)\n",
    "\n",
    "#out = cross_val_score(neural_network, data_dg, label_dg, cv=10,)"
   ]
  },
  {
   "cell_type": "code",
   "execution_count": 12,
   "metadata": {
    "scrolled": true
   },
   "outputs": [],
   "source": [
    "#out\n",
    "#!git config --global user.email \"antoniomusolino007@gmail.com\"\n",
    "#!git stash --include-untracked\n",
    "#!git add ../.\n",
    "#!git commit -m 'aggiunte ROC curve'\n",
    "#!git pull\n",
    "#!git push\n",
    "#print(out)\n",
    "#out.mean()"
   ]
  },
  {
   "cell_type": "code",
   "execution_count": 13,
   "metadata": {},
   "outputs": [
    {
     "data": {
      "image/png": "[encoded data removed]",
      "text/plain": [
       "<Figure size 432x288 with 1 Axes>"
      ]
     },
     "metadata": {
      "needs_background": "light"
     },
     "output_type": "display_data"
    }
   ],
   "source": [
    "%matplotlib inline\n",
    "import matplotlib.pyplot as plt\n",
    "\n",
    "def gen_mean (curve):\n",
    "    mean = [0]* len(curve)\n",
    "    mean[0] = curve[0]\n",
    "    for i in range(1,len(curve)):\n",
    "        mean[i] = ((mean[i-1] )*i + out[i])/(i+1)\n",
    "    return mean\n",
    "from scipy.ndimage.filters import gaussian_filter1d\n",
    "\n",
    "\n",
    "plt.plot(hist.history['acc'])\n",
    "plt.plot(hist.history['val_acc'])\n",
    "plt.title('Model_Accuracy')\n",
    "plt.ylabel('accuracy')\n",
    "plt.xlabel('epoch')\n",
    "plt.legend(['Learn', 'Test'], loc='lower right')\n",
    "plt.savefig('./150_epoch_accuracy_new_data_Manuel')"
   ]
  },
  {
   "cell_type": "code",
   "execution_count": 14,
   "metadata": {},
   "outputs": [
    {
     "data": {
      "image/png": "[encoded data removed]",
      "text/plain": [
       "<Figure size 432x288 with 1 Axes>"
      ]
     },
     "metadata": {
      "needs_background": "light"
     },
     "output_type": "display_data"
    }
   ],
   "source": [
    "%matplotlib inline\n",
    "import matplotlib.pyplot as plt\n",
    "plt.plot(hist.history['acc'])\n",
    "plt.plot(hist.history['val_acc'])\n",
    "plt.title('model accuracy')\n",
    "plt.ylabel('accuracy')\n",
    "plt.xlabel('epoch')\n",
    "plt.legend(['train', 'test'], loc='upper left')\n",
    "plt.savefig('./model_accuracy_40Epoch_scaled',quality=100,)"
   ]
  },
  {
   "cell_type": "code",
   "execution_count": 20,
   "metadata": {},
   "outputs": [
    {
     "data": {
      "image/png": "[encoded data removed]",
      "text/plain": [
       "<Figure size 432x288 with 1 Axes>"
      ]
     },
     "metadata": {
      "needs_background": "light"
     },
     "output_type": "display_data"
    }
   ],
   "source": [
    "plt.plot(hist.history['loss'])\n",
    "plt.plot(hist.history['val_loss'])\n",
    "plt.title('model loss')\n",
    "plt.ylabel('loss')\n",
    "plt.xlabel('epoch')\n",
    "plt.legend(['train', 'test'], loc='upper left')\n",
    "#model.save('model_giulio_good_performance_23.h5')\n",
    "#plt.savefig('./model_loss_40Epoch_scaled')"
   ]
  },
  {
   "cell_type": "code",
   "execution_count": 16,
   "metadata": {},
   "outputs": [],
   "source": [
    "model_manuel = load_model('model_manuel_good_performance.h5')\n",
    "model_giovanni = load_model('model_giovanni_good_performance.h5')\n",
    "model_dario_reloaded = load_model(\"model_dario_good_performance.h5\")\n",
    "model_antonio_reloaded = load_model('model_antonio_good_performance.h5')\n",
    "\n",
    "\n"
   ]
  },
  {
   "cell_type": "code",
   "execution_count": 17,
   "metadata": {
    "scrolled": true
   },
   "outputs": [
    {
     "name": "stdout",
     "output_type": "stream",
     "text": [
      "707/707 [==============================] - 12s 17ms/step\n",
      "32/32 [==============================] - 1s 16ms/step\n",
      "[1.3303322532554314, 0.8288543140028288]\n",
      "[12.733232498168945, 0.0]\n"
     ]
    }
   ],
   "source": [
    "x, y = xy_data(labelled_data_g)\n",
    "x1, y1, = xy_data(labelled_data_d)\n",
    "out_dario_reloaded = model_dario_reloaded.evaluate(x, y)\n",
    "out_dario_reloaded2 = model_dario_reloaded.evaluate(x1, y1)\n",
    "\n",
    "print(out_dario_reloaded)\n",
    "print(out_dario_reloaded2)"
   ]
  },
  {
   "cell_type": "code",
   "execution_count": 18,
   "metadata": {},
   "outputs": [
    {
     "name": "stdout",
     "output_type": "stream",
     "text": [
      "963/963 [==============================] - 16s 17ms/step\n"
     ]
    },
    {
     "data": {
      "text/plain": [
       "[2.0925363595611954, 0.6593977155343765]"
      ]
     },
     "execution_count": 18,
     "metadata": {},
     "output_type": "execute_result"
    }
   ],
   "source": [
    "from sklearn.metrics import roc_curve\n",
    "\n",
    "with open(os.path.join(file_path ,'Alessando_1_pad.json'), 'r') as f:\n",
    "    attack = json.load(f)\n",
    "\n",
    "attack = np.array(attack)\n",
    "\n",
    "\n",
    "\n",
    "model_manuel.evaluate(data_dg,label_dg)\n",
    "#fpr_keras, tpr_keras, thresholds_keras = roc_curve(label_dg, predict)\n",
    "#print(model_giovanni.evaluate(data_dg, label_dg))\n",
    "#print(model_manuel.evaluate(data_dg, label_dg))\n",
    "#print(model_antonio_reloaded.evaluate(data_dg, label_dg))\n",
    "#attack\n"
   ]
  },
  {
   "cell_type": "code",
   "execution_count": 19,
   "metadata": {},
   "outputs": [
    {
     "ename": "NameError",
     "evalue": "name 'fpr_keras' is not defined",
     "output_type": "error",
     "traceback": [
      "\u001b[0;31m---------------------------------------------------------------------------\u001b[0m",
      "\u001b[0;31mNameError\u001b[0m                                 Traceback (most recent call last)",
      "\u001b[0;32m<ipython-input-19-72fbf3f6c732>\u001b[0m in \u001b[0;36m<module>\u001b[0;34m\u001b[0m\n\u001b[1;32m      2\u001b[0m \u001b[0;32mimport\u001b[0m \u001b[0mmatplotlib\u001b[0m\u001b[0;34m.\u001b[0m\u001b[0mpyplot\u001b[0m \u001b[0;32mas\u001b[0m \u001b[0mplt\u001b[0m\u001b[0;34m\u001b[0m\u001b[0;34m\u001b[0m\u001b[0m\n\u001b[1;32m      3\u001b[0m \u001b[0;32mimport\u001b[0m \u001b[0msklearn\u001b[0m\u001b[0;34m.\u001b[0m\u001b[0mmetrics\u001b[0m \u001b[0;32mas\u001b[0m \u001b[0mmetrics\u001b[0m\u001b[0;34m\u001b[0m\u001b[0;34m\u001b[0m\u001b[0m\n\u001b[0;32m----> 4\u001b[0;31m \u001b[0mroc_auc\u001b[0m \u001b[0;34m=\u001b[0m \u001b[0mmetrics\u001b[0m\u001b[0;34m.\u001b[0m\u001b[0mauc\u001b[0m\u001b[0;34m(\u001b[0m\u001b[0mfpr_keras\u001b[0m\u001b[0;34m,\u001b[0m \u001b[0mtpr_keras\u001b[0m\u001b[0;34m)\u001b[0m\u001b[0;34m\u001b[0m\u001b[0;34m\u001b[0m\u001b[0m\n\u001b[0m\u001b[1;32m      5\u001b[0m \u001b[0;34m\u001b[0m\u001b[0m\n\u001b[1;32m      6\u001b[0m \u001b[0mplt\u001b[0m\u001b[0;34m.\u001b[0m\u001b[0mplot\u001b[0m\u001b[0;34m(\u001b[0m\u001b[0mfpr_keras\u001b[0m\u001b[0;34m,\u001b[0m\u001b[0mtpr_keras\u001b[0m\u001b[0;34m,\u001b[0m\u001b[0;34m'b'\u001b[0m\u001b[0;34m,\u001b[0m \u001b[0mlabel\u001b[0m \u001b[0;34m=\u001b[0m \u001b[0;34m'AUC = %0.2f'\u001b[0m \u001b[0;34m%\u001b[0m \u001b[0mroc_auc\u001b[0m\u001b[0;34m)\u001b[0m\u001b[0;34m\u001b[0m\u001b[0;34m\u001b[0m\u001b[0m\n",
      "\u001b[0;31mNameError\u001b[0m: name 'fpr_keras' is not defined"
     ]
    }
   ],
   "source": [
    "%matplotlib inline\n",
    "import matplotlib.pyplot as plt\n",
    "import sklearn.metrics as metrics\n",
    "roc_auc = metrics.auc(fpr_keras, tpr_keras)\n",
    "\n",
    "plt.plot(fpr_keras,tpr_keras,'b', label = 'AUC = %0.2f' % roc_auc)\n",
    "plt.title('ROC curve')\n",
    "plt.ylabel('tpr')\n",
    "plt.xlabel('fpr')\n",
    "plt.legend(['curve'], loc='lower right')\n",
    "#plt.savefig('ROC_curve_Manuel')"
   ]
  },
  {
   "cell_type": "code",
   "execution_count": null,
   "metadata": {},
   "outputs": [],
   "source": []
  }
 ],
 "metadata": {
  "kernelspec": {
   "display_name": "Python 3",
   "language": "python",
   "name": "python3"
  },
  "language_info": {
   "codemirror_mode": {
    "name": "ipython",
    "version": 3
   },
   "file_extension": ".py",
   "mimetype": "text/x-python",
   "name": "python",
   "nbconvert_exporter": "python",
   "pygments_lexer": "ipython3",
   "version": "3.6.8"
  }
 },
 "nbformat": 4,
 "nbformat_minor": 2
}
