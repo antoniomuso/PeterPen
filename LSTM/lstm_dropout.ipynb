{
 "cells": [
  {
   "cell_type": "code",
   "execution_count": 1,
   "metadata": {},
   "outputs": [
    {
     "name": "stderr",
     "output_type": "stream",
     "text": [
      "Using TensorFlow backend.\n"
     ]
    }
   ],
   "source": [
    "import pandas as pd\n",
    "import numpy as np\n",
    "import json\n",
    "import keras\n",
    "import random\n",
    "from keras.layers import Dense, LSTM, Dropout, Masking\n",
    "from keras.models import Sequential, load_model\n",
    "from keras.utils import plot_model\n",
    "from keras.wrappers.scikit_learn import KerasClassifier\n",
    "from sklearn.model_selection import cross_val_score\n",
    "from sklearn.datasets import make_classification\n",
    "import os"
   ]
  },
  {
   "cell_type": "code",
   "execution_count": 2,
   "metadata": {},
   "outputs": [],
   "source": [
    "with open('../dati/pad/lines_pad.json', 'r') as f:\n",
    "    data_lines = json.load(f)\n",
    "\n",
    "with open('../dati/pad/lines_2_pad.json', 'r') as f:\n",
    "    data_lines += json.load(f)\n",
    "\n",
    "for elem in range(len(data_lines)):\n",
    "    for arr in range(len(data_lines[elem])):\n",
    "        tmp = []\n",
    "        for f in range(7):\n",
    "            tmp.append(data_lines[elem][arr][f])\n",
    "        data_lines[elem][arr] = tmp"
   ]
  },
  {
   "cell_type": "code",
   "execution_count": 3,
   "metadata": {},
   "outputs": [],
   "source": [
    "with open('../dati/pad/circles_pad.json', 'r') as f:\n",
    "    data_circles = json.load(f)\n",
    "\n",
    "for elem in range(len(data_circles)):\n",
    "    for arr in range(len(data_circles[elem])):\n",
    "        tmp = []\n",
    "        for f in range(7):\n",
    "            tmp.append(data_circles[elem][arr][f])\n",
    "        data_circles[elem][arr] = tmp\n",
    "        "
   ]
  },
  {
   "cell_type": "code",
   "execution_count": 4,
   "metadata": {},
   "outputs": [],
   "source": [
    "with open('../dati/pad/lines_pad.json', 'r') as f:\n",
    "    data_lines = json.load(f)\n",
    "\n",
    "with open('../dati/pad/lines_2_pad.json', 'r') as f:\n",
    "    data_lines += json.load(f)\n",
    "    \n",
    "\n",
    "def generator(data, labels):\n",
    "    assert len(data) == len(labels)\n",
    "    while True:\n",
    "        for elem in range(len(data)):\n",
    "            #word_array = []\n",
    "            #for arr in range(len(data[elem])):\n",
    "            #    tmp = []\n",
    "            #    for f in range(7):\n",
    "            #        tmp.append(data[elem][arr][f])\n",
    "            #    word_array.append(tmp)\n",
    "            yield np.array(data[elem]), np.array(labels[elem])\n",
    "\n",
    "g_lines = generator(data_lines, [1] * len(data_lines))"
   ]
  },
  {
   "cell_type": "code",
   "execution_count": 5,
   "metadata": {},
   "outputs": [],
   "source": [
    "with open('../dati/pad/circles_pad.json', 'r') as f:\n",
    "    data_circles = json.load(f)\n",
    "    \n",
    "g_circles = generator(data_circles, [0] * len(data_circles))"
   ]
  },
  {
   "cell_type": "code",
   "execution_count": 6,
   "metadata": {},
   "outputs": [],
   "source": [
    "file_recog = 'Dario_pad.json'\n",
    "file_path = '../dati/scrittura_di_computer/pad/'\n",
    "labelled_data_d, labelled_data_g = [], []\n",
    "\n",
    "for file in os.listdir(file_path):\n",
    "    if file_recog == file: continue\n",
    "    with open(os.path.join(file_path, file), 'r') as f:\n",
    "        data_g = json.load(f)\n",
    "    for i in range(len(data_g)):\n",
    "        labelled_data_g.append((data_g[i], 0))\n",
    "        \n",
    "        \n",
    "with open(os.path.join(file_path, file_recog), 'r') as f:\n",
    "    data_r = json.load(f)\n",
    "for i in range(len(data_r)):\n",
    "    labelled_data_d.append((data_r[i], 1))\n",
    "    \n",
    "def xy_data(labelled_data):\n",
    "    x_data, y_labels = [], []\n",
    "    for i in labelled_data:\n",
    "        x_data.append(i[0])\n",
    "        y_labels.append(i[1])\n",
    "        \n",
    "    return np.array(x_data), np.array(y_labels)\n",
    "\n",
    "labelled_data_dg = labelled_data_d * 8 + labelled_data_g  \n",
    "random.shuffle(labelled_data_dg)\n",
    "\n",
    "data_dg, label_dg = xy_data(labelled_data_dg)\n"
   ]
  },
  {
   "cell_type": "code",
   "execution_count": 7,
   "metadata": {},
   "outputs": [],
   "source": [
    "def create_model():\n",
    "    model = Sequential()\n",
    "    model.add(Masking(mask_value=0.0))\n",
    "    model.add(LSTM(input_shape=(1000, 7), units=64, activation=\"sigmoid\", return_sequences=True, recurrent_activation=\"hard_sigmoid\"))\n",
    "    model.add(LSTM(units=128, activation=\"sigmoid\", return_sequences=False, recurrent_activation=\"hard_sigmoid\"))\n",
    "    model.add(Dropout(0.5))\n",
    "    model.add(Dense(1, activation='sigmoid'))\n",
    "    model.compile(loss='binary_crossentropy', optimizer='rmsprop', metrics=['accuracy'])\n",
    "    return model"
   ]
  },
  {
   "cell_type": "code",
   "execution_count": 8,
   "metadata": {},
   "outputs": [],
   "source": [
    "#neural_network = KerasClassifier(build_fn=create_model, \n",
    "#                                 epochs=4,\n",
    "#                                 steps_per_epoch=140,\n",
    "#                                 validation_split=0.2,\n",
    "#                                 validation_steps=36,\n",
    "#                                 verbose=1)"
   ]
  },
  {
   "cell_type": "code",
   "execution_count": 9,
   "metadata": {},
   "outputs": [],
   "source": [
    "#plot_model(model_dario, show_shapes=True, to_file='lstm_dropout_model.png')"
   ]
  },
  {
   "cell_type": "code",
   "execution_count": 10,
   "metadata": {},
   "outputs": [],
   "source": [
    "#hist = model_dario.fit_generator(g_dario_impostors, epochs=5, steps_per_epoch=42)\n"
   ]
  },
  {
   "cell_type": "code",
   "execution_count": 11,
   "metadata": {
    "scrolled": true
   },
   "outputs": [
    {
     "name": "stdout",
     "output_type": "stream",
     "text": [
      "Train on 413 samples, validate on 204 samples\n",
      "Epoch 1/40\n",
      "413/413 [==============================] - 15s 36ms/step - loss: 0.7349 - acc: 0.5061 - val_loss: 0.7818 - val_acc: 0.4755\n",
      "Epoch 2/40\n",
      "413/413 [==============================] - 14s 33ms/step - loss: 0.7138 - acc: 0.5424 - val_loss: 0.7049 - val_acc: 0.4755\n",
      "Epoch 3/40\n",
      "413/413 [==============================] - 14s 33ms/step - loss: 0.6979 - acc: 0.5448 - val_loss: 0.6762 - val_acc: 0.7353\n",
      "Epoch 4/40\n",
      "413/413 [==============================] - 14s 33ms/step - loss: 0.7103 - acc: 0.5036 - val_loss: 0.6694 - val_acc: 0.7157\n",
      "Epoch 5/40\n",
      "413/413 [==============================] - 14s 33ms/step - loss: 0.6848 - acc: 0.5496 - val_loss: 0.6678 - val_acc: 0.5588\n",
      "Epoch 6/40\n",
      "413/413 [==============================] - 14s 33ms/step - loss: 0.6674 - acc: 0.6126 - val_loss: 0.6516 - val_acc: 0.7108\n",
      "Epoch 7/40\n",
      "413/413 [==============================] - 14s 33ms/step - loss: 0.6564 - acc: 0.6053 - val_loss: 0.6290 - val_acc: 0.7794\n",
      "Epoch 8/40\n",
      "413/413 [==============================] - 14s 33ms/step - loss: 0.6347 - acc: 0.6344 - val_loss: 0.6025 - val_acc: 0.7304\n",
      "Epoch 9/40\n",
      "413/413 [==============================] - 14s 33ms/step - loss: 0.6163 - acc: 0.6828 - val_loss: 0.5899 - val_acc: 0.6471\n",
      "Epoch 10/40\n",
      "413/413 [==============================] - 14s 33ms/step - loss: 0.5712 - acc: 0.7094 - val_loss: 0.5275 - val_acc: 0.7941\n",
      "Epoch 11/40\n",
      "413/413 [==============================] - 14s 33ms/step - loss: 0.4896 - acc: 0.8063 - val_loss: 0.4493 - val_acc: 0.8529\n",
      "Epoch 12/40\n",
      "413/413 [==============================] - 13s 33ms/step - loss: 0.4914 - acc: 0.7893 - val_loss: 0.3715 - val_acc: 0.9559\n",
      "Epoch 13/40\n",
      "413/413 [==============================] - 14s 33ms/step - loss: 0.3855 - acc: 0.8523 - val_loss: 0.4249 - val_acc: 0.7549\n",
      "Epoch 14/40\n",
      "413/413 [==============================] - 14s 33ms/step - loss: 0.4510 - acc: 0.8160 - val_loss: 0.4426 - val_acc: 0.7696\n",
      "Epoch 15/40\n",
      "413/413 [==============================] - 13s 33ms/step - loss: 0.3170 - acc: 0.9056 - val_loss: 0.2924 - val_acc: 0.9167\n",
      "Epoch 16/40\n",
      "413/413 [==============================] - 14s 33ms/step - loss: 0.3172 - acc: 0.8910 - val_loss: 0.5830 - val_acc: 0.7059\n",
      "Epoch 17/40\n",
      "413/413 [==============================] - 14s 33ms/step - loss: 0.2812 - acc: 0.9080 - val_loss: 0.3228 - val_acc: 0.8725\n",
      "Epoch 18/40\n",
      "413/413 [==============================] - 13s 33ms/step - loss: 0.3480 - acc: 0.8596 - val_loss: 0.1834 - val_acc: 0.9657\n",
      "Epoch 19/40\n",
      "413/413 [==============================] - 14s 33ms/step - loss: 0.2808 - acc: 0.8959 - val_loss: 0.1806 - val_acc: 0.9853\n",
      "Epoch 20/40\n",
      "413/413 [==============================] - 14s 33ms/step - loss: 0.2692 - acc: 0.8935 - val_loss: 0.2661 - val_acc: 0.9069\n",
      "Epoch 21/40\n",
      "413/413 [==============================] - 14s 33ms/step - loss: 0.1897 - acc: 0.9322 - val_loss: 0.2139 - val_acc: 0.9216\n",
      "Epoch 22/40\n",
      "413/413 [==============================] - 14s 33ms/step - loss: 0.3604 - acc: 0.8499 - val_loss: 0.1415 - val_acc: 0.9951\n",
      "Epoch 23/40\n",
      "413/413 [==============================] - 13s 33ms/step - loss: 0.1286 - acc: 0.9685 - val_loss: 0.1062 - val_acc: 0.9951\n",
      "Epoch 24/40\n",
      "413/413 [==============================] - 14s 33ms/step - loss: 0.2992 - acc: 0.8765 - val_loss: 0.2624 - val_acc: 0.8922\n",
      "Epoch 25/40\n",
      "413/413 [==============================] - 14s 33ms/step - loss: 0.1578 - acc: 0.9492 - val_loss: 0.1360 - val_acc: 0.9363\n",
      "Epoch 26/40\n",
      "413/413 [==============================] - 14s 33ms/step - loss: 0.2893 - acc: 0.8886 - val_loss: 0.2329 - val_acc: 0.8873\n",
      "Epoch 27/40\n",
      "413/413 [==============================] - 14s 33ms/step - loss: 0.1840 - acc: 0.9201 - val_loss: 0.1866 - val_acc: 0.9265\n",
      "Epoch 28/40\n",
      "413/413 [==============================] - 14s 33ms/step - loss: 0.1096 - acc: 0.9758 - val_loss: 0.0743 - val_acc: 0.9902\n",
      "Epoch 29/40\n",
      "413/413 [==============================] - 14s 33ms/step - loss: 0.3110 - acc: 0.8765 - val_loss: 0.1008 - val_acc: 0.9951\n",
      "Epoch 30/40\n",
      "413/413 [==============================] - 14s 33ms/step - loss: 0.0870 - acc: 0.9855 - val_loss: 0.1400 - val_acc: 0.9461\n",
      "Epoch 31/40\n",
      "413/413 [==============================] - 13s 33ms/step - loss: 0.2739 - acc: 0.8910 - val_loss: 0.1591 - val_acc: 0.9363\n",
      "Epoch 32/40\n",
      "413/413 [==============================] - 14s 33ms/step - loss: 0.1066 - acc: 0.9734 - val_loss: 0.0888 - val_acc: 0.9657\n",
      "Epoch 33/40\n",
      "413/413 [==============================] - 14s 33ms/step - loss: 0.1755 - acc: 0.9322 - val_loss: 0.2130 - val_acc: 0.9216\n",
      "Epoch 34/40\n",
      "413/413 [==============================] - 14s 33ms/step - loss: 0.1236 - acc: 0.9588 - val_loss: 0.0668 - val_acc: 1.0000\n",
      "Epoch 35/40\n",
      "413/413 [==============================] - 14s 33ms/step - loss: 0.2141 - acc: 0.9201 - val_loss: 0.0823 - val_acc: 0.9951\n",
      "Epoch 36/40\n",
      "413/413 [==============================] - 14s 33ms/step - loss: 0.0654 - acc: 0.9855 - val_loss: 0.0513 - val_acc: 0.9902\n",
      "Epoch 37/40\n",
      "413/413 [==============================] - 14s 33ms/step - loss: 0.2955 - acc: 0.9080 - val_loss: 0.0941 - val_acc: 0.9853\n",
      "Epoch 38/40\n",
      "413/413 [==============================] - 14s 33ms/step - loss: 0.0693 - acc: 0.9903 - val_loss: 0.0722 - val_acc: 0.9853\n",
      "Epoch 39/40\n",
      "413/413 [==============================] - 14s 33ms/step - loss: 0.0781 - acc: 0.9806 - val_loss: 1.5627 - val_acc: 0.5392\n",
      "Epoch 40/40\n",
      "413/413 [==============================] - 14s 33ms/step - loss: 0.2816 - acc: 0.9177 - val_loss: 0.0540 - val_acc: 0.9951\n"
     ]
    }
   ],
   "source": [
    "model_dario = create_model()\n",
    "hist = model_dario.fit(x = data_dg, y = label_dg, epochs=40, batch_size=128, validation_split=0.33)\n",
    "\n",
    "#out = cross_val_score(neural_network, data_dg, label_dg, cv=10,)"
   ]
  },
  {
   "cell_type": "code",
   "execution_count": 14,
   "metadata": {
    "scrolled": true
   },
   "outputs": [
    {
     "name": "stdout",
     "output_type": "stream",
     "text": [
      "[master de46f63] aggiunto nuovo codice\n",
      " 1 file changed, 65 insertions(+), 12 deletions(-)\n",
      "warning: push.default is unset; its implicit value has changed in\n",
      "Git 2.0 from 'matching' to 'simple'. To squelch this message\n",
      "and maintain the traditional behavior, use:\n",
      "\n",
      "  git config --global push.default matching\n",
      "\n",
      "To squelch this message and adopt the new behavior now, use:\n",
      "\n",
      "  git config --global push.default simple\n",
      "\n",
      "When push.default is set to 'matching', git will push local branches\n",
      "to the remote branches that already exist with the same name.\n",
      "\n",
      "Since Git 2.0, Git defaults to the more conservative 'simple'\n",
      "behavior, which only pushes the current branch to the corresponding\n",
      "remote branch that 'git pull' uses to update the current branch.\n",
      "\n",
      "See 'git help config' and search for 'push.default' for further information.\n",
      "(the 'simple' mode was introduced in Git 1.7.11. Use the similar mode\n",
      "'current' instead of 'simple' if you sometimes use older versions of Git)\n",
      "\n",
      "Counting objects: 4, done.\n",
      "Delta compression using up to 12 threads.\n",
      "Compressing objects: 100% (4/4), done.\n",
      "Writing objects: 100% (4/4), 1.69 KiB | 0 bytes/s, done.\n",
      "Total 4 (delta 3), reused 0 (delta 0)\n",
      "remote: Resolving deltas: 100% (3/3), completed with 3 local objects.\u001b[K\n",
      "To https://8f6b6a81214b3855aab1a65e7a093fe44104bc0e@github.com/antoniomuso/PeterPen.git\n",
      "   40736f3..de46f63  master -> master\n"
     ]
    }
   ],
   "source": [
    "#out\n",
    "#!git config --global user.email \"antoniomusolino007@gmail.com\"\n",
    "!git add ../.\n",
    "!git commit -m 'aggiunto nuovo codice'\n",
    "!git push \n",
    "#print(out)\n",
    "#out.mean()"
   ]
  },
  {
   "cell_type": "code",
   "execution_count": 13,
   "metadata": {},
   "outputs": [
    {
     "ename": "NameError",
     "evalue": "name 'out' is not defined",
     "output_type": "error",
     "traceback": [
      "\u001b[0;31m---------------------------------------------------------------------------\u001b[0m",
      "\u001b[0;31mNameError\u001b[0m                                 Traceback (most recent call last)",
      "\u001b[0;32m<ipython-input-13-624502c1625c>\u001b[0m in \u001b[0;36m<module>\u001b[0;34m\u001b[0m\n\u001b[1;32m      1\u001b[0m \u001b[0mmean\u001b[0m \u001b[0;34m=\u001b[0m \u001b[0;34m[\u001b[0m\u001b[0;36m0\u001b[0m\u001b[0;34m]\u001b[0m\u001b[0;34m*\u001b[0m\u001b[0;36m10\u001b[0m\u001b[0;34m\u001b[0m\u001b[0;34m\u001b[0m\u001b[0m\n\u001b[0;32m----> 2\u001b[0;31m \u001b[0mmean\u001b[0m\u001b[0;34m[\u001b[0m\u001b[0;36m0\u001b[0m\u001b[0;34m]\u001b[0m \u001b[0;34m=\u001b[0m \u001b[0mout\u001b[0m\u001b[0;34m[\u001b[0m\u001b[0;36m0\u001b[0m\u001b[0;34m]\u001b[0m\u001b[0;34m\u001b[0m\u001b[0;34m\u001b[0m\u001b[0m\n\u001b[0m\u001b[1;32m      3\u001b[0m \u001b[0;32mfor\u001b[0m \u001b[0mi\u001b[0m \u001b[0;32min\u001b[0m \u001b[0mrange\u001b[0m\u001b[0;34m(\u001b[0m\u001b[0;36m1\u001b[0m\u001b[0;34m,\u001b[0m\u001b[0mlen\u001b[0m\u001b[0;34m(\u001b[0m\u001b[0mout\u001b[0m\u001b[0;34m)\u001b[0m\u001b[0;34m)\u001b[0m\u001b[0;34m:\u001b[0m\u001b[0;34m\u001b[0m\u001b[0;34m\u001b[0m\u001b[0m\n\u001b[1;32m      4\u001b[0m     \u001b[0mmean\u001b[0m\u001b[0;34m[\u001b[0m\u001b[0mi\u001b[0m\u001b[0;34m]\u001b[0m \u001b[0;34m=\u001b[0m \u001b[0;34m(\u001b[0m\u001b[0;34m(\u001b[0m\u001b[0mmean\u001b[0m\u001b[0;34m[\u001b[0m\u001b[0mi\u001b[0m\u001b[0;34m-\u001b[0m\u001b[0;36m1\u001b[0m\u001b[0;34m]\u001b[0m \u001b[0;34m)\u001b[0m\u001b[0;34m*\u001b[0m\u001b[0mi\u001b[0m \u001b[0;34m+\u001b[0m \u001b[0mout\u001b[0m\u001b[0;34m[\u001b[0m\u001b[0mi\u001b[0m\u001b[0;34m]\u001b[0m\u001b[0;34m)\u001b[0m\u001b[0;34m/\u001b[0m\u001b[0;34m(\u001b[0m\u001b[0mi\u001b[0m\u001b[0;34m+\u001b[0m\u001b[0;36m1\u001b[0m\u001b[0;34m)\u001b[0m\u001b[0;34m\u001b[0m\u001b[0;34m\u001b[0m\u001b[0m\n\u001b[1;32m      5\u001b[0m \u001b[0;34m\u001b[0m\u001b[0m\n",
      "\u001b[0;31mNameError\u001b[0m: name 'out' is not defined"
     ]
    }
   ],
   "source": [
    "mean = [0]*10\n",
    "mean[0] = out[0]\n",
    "for i in range(1,len(out)):\n",
    "    mean[i] = ((mean[i-1] )*i + out[i])/(i+1)\n",
    "\n",
    "plt.plot(out)\n",
    "plt.plot(mean)\n",
    "plt.title('K folder accuracy')\n",
    "plt.ylabel('accuracy')\n",
    "plt.xlabel('K-Folder')\n",
    "plt.legend(['Real', 'Mean'], loc='lower right')\n",
    "plt.savefig('./K-folder-performance')"
   ]
  },
  {
   "cell_type": "code",
   "execution_count": null,
   "metadata": {},
   "outputs": [],
   "source": [
    "%matplotlib inline\n",
    "import matplotlib.pyplot as plt\n",
    "plt.plot(hist.history['acc'])\n",
    "plt.plot(hist.history['val_acc'])\n",
    "plt.title('model accuracy')\n",
    "plt.ylabel('accuracy')\n",
    "plt.xlabel('epoch')\n",
    "plt.legend(['train', 'test'], loc='upper left')\n",
    "plt.savefig('./model_accuracy_40Epoch_scaled',quality=100,)"
   ]
  },
  {
   "cell_type": "code",
   "execution_count": null,
   "metadata": {},
   "outputs": [],
   "source": [
    "plt.plot(hist.history['loss'])\n",
    "plt.plot(hist.history['val_loss'])\n",
    "plt.title('model loss')\n",
    "plt.ylabel('loss')\n",
    "plt.xlabel('epoch')\n",
    "plt.legend(['train', 'test'], loc='upper left')\n",
    "#plt.savefig('./model_loss_40Epoch_scaled')"
   ]
  },
  {
   "cell_type": "code",
   "execution_count": null,
   "metadata": {},
   "outputs": [],
   "source": [
    "model_dario.save(\"model_dario.h5\")\n",
    "del model_dario"
   ]
  },
  {
   "cell_type": "code",
   "execution_count": null,
   "metadata": {},
   "outputs": [],
   "source": [
    "model_dario_reloaded = load_model(\"model_dario.h5\")"
   ]
  },
  {
   "cell_type": "code",
   "execution_count": null,
   "metadata": {},
   "outputs": [],
   "source": [
    "out_dario_reloaded = model_dario_reloaded.evaluate_generator(g_dario_test, verbose=1, steps=3)\n",
    "\n",
    "out_dario_reloaded"
   ]
  }
 ],
 "metadata": {
  "kernelspec": {
   "display_name": "Python 3",
   "language": "python",
   "name": "python3"
  },
  "language_info": {
   "codemirror_mode": {
    "name": "ipython",
    "version": 3
   },
   "file_extension": ".py",
   "mimetype": "text/x-python",
   "name": "python",
   "nbconvert_exporter": "python",
   "pygments_lexer": "ipython3",
   "version": "3.6.8"
  }
 },
 "nbformat": 4,
 "nbformat_minor": 2
}
