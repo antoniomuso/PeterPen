{
 "cells": [
  {
   "cell_type": "code",
   "execution_count": 1,
   "metadata": {},
   "outputs": [
    {
     "name": "stderr",
     "output_type": "stream",
     "text": [
      "Using TensorFlow backend.\n"
     ]
    }
   ],
   "source": [
    "import pandas as pd\n",
    "import numpy as np\n",
    "import json\n",
    "import keras\n",
    "import random\n",
    "from keras.layers import Dense, LSTM, Dropout, Masking\n",
    "from keras.models import Sequential, load_model\n",
    "from keras.utils import plot_model\n",
    "from keras.wrappers.scikit_learn import KerasClassifier\n",
    "from sklearn.model_selection import cross_val_score\n",
    "from sklearn.datasets import make_classification\n",
    "import os"
   ]
  },
  {
   "cell_type": "code",
   "execution_count": 2,
   "metadata": {},
   "outputs": [],
   "source": [
    "with open('../dati/pad/lines_pad.json', 'r') as f:\n",
    "    data_lines = json.load(f)\n",
    "\n",
    "with open('../dati/pad/lines_2_pad.json', 'r') as f:\n",
    "    data_lines += json.load(f)\n",
    "\n",
    "for elem in range(len(data_lines)):\n",
    "    for arr in range(len(data_lines[elem])):\n",
    "        tmp = []\n",
    "        for f in range(7):\n",
    "            tmp.append(data_lines[elem][arr][f])\n",
    "        data_lines[elem][arr] = tmp"
   ]
  },
  {
   "cell_type": "code",
   "execution_count": 3,
   "metadata": {},
   "outputs": [],
   "source": [
    "with open('../dati/pad/circles_pad.json', 'r') as f:\n",
    "    data_circles = json.load(f)\n",
    "\n",
    "for elem in range(len(data_circles)):\n",
    "    for arr in range(len(data_circles[elem])):\n",
    "        tmp = []\n",
    "        for f in range(7):\n",
    "            tmp.append(data_circles[elem][arr][f])\n",
    "        data_circles[elem][arr] = tmp\n",
    "        "
   ]
  },
  {
   "cell_type": "code",
   "execution_count": 4,
   "metadata": {},
   "outputs": [],
   "source": [
    "with open('../dati/pad/lines_pad.json', 'r') as f:\n",
    "    data_lines = json.load(f)\n",
    "\n",
    "with open('../dati/pad/lines_2_pad.json', 'r') as f:\n",
    "    data_lines += json.load(f)\n",
    "    \n",
    "\n",
    "def generator(data, labels):\n",
    "    assert len(data) == len(labels)\n",
    "    while True:\n",
    "        for elem in range(len(data)):\n",
    "            #word_array = []\n",
    "            #for arr in range(len(data[elem])):\n",
    "            #    tmp = []\n",
    "            #    for f in range(7):\n",
    "            #        tmp.append(data[elem][arr][f])\n",
    "            #    word_array.append(tmp)\n",
    "            yield np.array(data[elem]), np.array(labels[elem])\n",
    "\n",
    "g_lines = generator(data_lines, [1] * len(data_lines))"
   ]
  },
  {
   "cell_type": "code",
   "execution_count": 5,
   "metadata": {},
   "outputs": [],
   "source": [
    "with open('../dati/pad/circles_pad.json', 'r') as f:\n",
    "    data_circles = json.load(f)\n",
    "    \n",
    "g_circles = generator(data_circles, [0] * len(data_circles))"
   ]
  },
  {
   "cell_type": "code",
   "execution_count": 6,
   "metadata": {},
   "outputs": [],
   "source": [
    "file_recog = 'Antonio_pad.json'\n",
    "file_path = '../dati/scrittura_di_computer/pad/'\n",
    "labelled_data_d, labelled_data_g = [], []\n",
    "\n",
    "for file in os.listdir(file_path):\n",
    "    if file_recog == file: continue\n",
    "    with open(os.path.join(file_path, file), 'r') as f:\n",
    "        data_g = json.load(f)\n",
    "    for i in range(len(data_g)):\n",
    "        labelled_data_g.append((data_g[i], 0))\n",
    "        \n",
    "        \n",
    "with open(os.path.join(file_path, file_recog), 'r') as f:\n",
    "    data_r = json.load(f)\n",
    "for i in range(len(data_r)):\n",
    "    labelled_data_d.append((data_r[i], 1))\n",
    "    \n",
    "def xy_data(labelled_data):\n",
    "    x_data, y_labels = [], []\n",
    "    for i in labelled_data:\n",
    "        x_data.append(i[0])\n",
    "        y_labels.append(i[1])\n",
    "        \n",
    "    return np.array(x_data), np.array(y_labels)\n",
    "\n",
    "labelled_data_dg = labelled_data_d * 8 + labelled_data_g  \n",
    "random.shuffle(labelled_data_dg)\n",
    "\n",
    "data_dg, label_dg = xy_data(labelled_data_dg)\n"
   ]
  },
  {
   "cell_type": "code",
   "execution_count": 7,
   "metadata": {},
   "outputs": [],
   "source": [
    "def create_model():\n",
    "    model = Sequential()\n",
    "    model.add(Masking(mask_value=0.0))\n",
    "    model.add(LSTM(input_shape=(1000, 7), units=64, activation=\"sigmoid\", return_sequences=True, recurrent_activation=\"hard_sigmoid\"))\n",
    "    model.add(LSTM(units=128, activation=\"sigmoid\", return_sequences=False, recurrent_activation=\"hard_sigmoid\"))\n",
    "    model.add(Dropout(0.5))\n",
    "    model.add(Dense(1, activation='sigmoid'))\n",
    "    model.compile(loss='binary_crossentropy', optimizer='rmsprop', metrics=['accuracy'])\n",
    "    return model"
   ]
  },
  {
   "cell_type": "code",
   "execution_count": 8,
   "metadata": {},
   "outputs": [],
   "source": [
    "#neural_network = KerasClassifier(build_fn=create_model, \n",
    "#                                 epochs=4,\n",
    "#                                 steps_per_epoch=140,\n",
    "#                                 validation_split=0.2,\n",
    "#                                 validation_steps=36,\n",
    "#                                 verbose=1)"
   ]
  },
  {
   "cell_type": "code",
   "execution_count": 9,
   "metadata": {},
   "outputs": [],
   "source": [
    "#plot_model(model_dario, show_shapes=True, to_file='lstm_dropout_model.png')"
   ]
  },
  {
   "cell_type": "code",
   "execution_count": 10,
   "metadata": {},
   "outputs": [],
   "source": [
    "#hist = model_dario.fit_generator(g_dario_impostors, epochs=5, steps_per_epoch=42)\n"
   ]
  },
  {
   "cell_type": "code",
   "execution_count": 11,
   "metadata": {
    "scrolled": true
   },
   "outputs": [
    {
     "name": "stdout",
     "output_type": "stream",
     "text": [
      "Train on 389 samples, validate on 193 samples\n",
      "Epoch 1/150\n",
      "389/389 [==============================] - 27s 69ms/step - loss: 0.7336 - acc: 0.5039 - val_loss: 0.6549 - val_acc: 0.5855\n",
      "Epoch 2/150\n",
      "389/389 [==============================] - 25s 65ms/step - loss: 0.6831 - acc: 0.5758 - val_loss: 0.6372 - val_acc: 0.7461\n",
      "Epoch 3/150\n",
      "389/389 [==============================] - 25s 64ms/step - loss: 0.6533 - acc: 0.6170 - val_loss: 0.6130 - val_acc: 0.5959\n",
      "Epoch 4/150\n",
      "389/389 [==============================] - 25s 64ms/step - loss: 0.6495 - acc: 0.6170 - val_loss: 0.7495 - val_acc: 0.4145\n",
      "Epoch 5/150\n",
      "389/389 [==============================] - 25s 63ms/step - loss: 0.6073 - acc: 0.6992 - val_loss: 0.5615 - val_acc: 0.8031\n",
      "Epoch 6/150\n",
      "389/389 [==============================] - 25s 63ms/step - loss: 0.6070 - acc: 0.6864 - val_loss: 0.6573 - val_acc: 0.5855\n",
      "Epoch 7/150\n",
      "389/389 [==============================] - 25s 63ms/step - loss: 0.5523 - acc: 0.7224 - val_loss: 0.5648 - val_acc: 0.5855\n",
      "Epoch 8/150\n",
      "389/389 [==============================] - 25s 64ms/step - loss: 0.5166 - acc: 0.7532 - val_loss: 0.5017 - val_acc: 0.7720\n",
      "Epoch 9/150\n",
      "389/389 [==============================] - 25s 64ms/step - loss: 0.4742 - acc: 0.7866 - val_loss: 0.3931 - val_acc: 0.8549\n",
      "Epoch 10/150\n",
      "389/389 [==============================] - 25s 63ms/step - loss: 0.4115 - acc: 0.8432 - val_loss: 0.3951 - val_acc: 0.8497\n",
      "Epoch 11/150\n",
      "389/389 [==============================] - 25s 64ms/step - loss: 0.3862 - acc: 0.8380 - val_loss: 0.3151 - val_acc: 0.8601\n",
      "Epoch 12/150\n",
      "389/389 [==============================] - 25s 64ms/step - loss: 0.3041 - acc: 0.8689 - val_loss: 0.4867 - val_acc: 0.7047\n",
      "Epoch 13/150\n",
      "389/389 [==============================] - 25s 64ms/step - loss: 0.3259 - acc: 0.8715 - val_loss: 0.3527 - val_acc: 0.8446\n",
      "Epoch 14/150\n",
      "389/389 [==============================] - 25s 63ms/step - loss: 0.3077 - acc: 0.8560 - val_loss: 0.2642 - val_acc: 0.9067\n",
      "Epoch 15/150\n",
      "389/389 [==============================] - 25s 63ms/step - loss: 0.2300 - acc: 0.9152 - val_loss: 0.2395 - val_acc: 0.9171\n",
      "Epoch 16/150\n",
      "389/389 [==============================] - 25s 63ms/step - loss: 0.2354 - acc: 0.9126 - val_loss: 1.3670 - val_acc: 0.5855\n",
      "Epoch 17/150\n",
      "389/389 [==============================] - 25s 63ms/step - loss: 0.3044 - acc: 0.8972 - val_loss: 0.5706 - val_acc: 0.7358\n",
      "Epoch 18/150\n",
      "389/389 [==============================] - 25s 64ms/step - loss: 0.2330 - acc: 0.9100 - val_loss: 0.1814 - val_acc: 0.9482\n",
      "Epoch 19/150\n",
      "389/389 [==============================] - 25s 63ms/step - loss: 0.1715 - acc: 0.9409 - val_loss: 0.5207 - val_acc: 0.7617\n",
      "Epoch 20/150\n",
      "389/389 [==============================] - 25s 63ms/step - loss: 0.1928 - acc: 0.9306 - val_loss: 1.9942 - val_acc: 0.4145\n",
      "Epoch 21/150\n",
      "389/389 [==============================] - 25s 63ms/step - loss: 0.2456 - acc: 0.9280 - val_loss: 0.2019 - val_acc: 0.9430\n",
      "Epoch 22/150\n",
      "389/389 [==============================] - 25s 63ms/step - loss: 0.2643 - acc: 0.8920 - val_loss: 0.2272 - val_acc: 0.8964\n",
      "Epoch 23/150\n",
      "389/389 [==============================] - 25s 64ms/step - loss: 0.1152 - acc: 0.9743 - val_loss: 0.3319 - val_acc: 0.8549\n",
      "Epoch 24/150\n",
      "389/389 [==============================] - 25s 63ms/step - loss: 0.1768 - acc: 0.9357 - val_loss: 0.0960 - val_acc: 0.9534\n",
      "Epoch 25/150\n",
      "389/389 [==============================] - 25s 64ms/step - loss: 0.0492 - acc: 0.9949 - val_loss: 0.1588 - val_acc: 0.9430\n",
      "Epoch 26/150\n",
      "389/389 [==============================] - 25s 63ms/step - loss: 0.3233 - acc: 0.9023 - val_loss: 0.0733 - val_acc: 0.9793\n",
      "Epoch 27/150\n",
      "389/389 [==============================] - 25s 63ms/step - loss: 0.0537 - acc: 0.9923 - val_loss: 0.0954 - val_acc: 0.9689\n",
      "Epoch 28/150\n",
      "389/389 [==============================] - 25s 63ms/step - loss: 0.2127 - acc: 0.9229 - val_loss: 0.1726 - val_acc: 0.9275\n",
      "Epoch 29/150\n",
      "389/389 [==============================] - 25s 63ms/step - loss: 0.1612 - acc: 0.9280 - val_loss: 0.1155 - val_acc: 0.9637\n",
      "Epoch 30/150\n",
      "389/389 [==============================] - 25s 63ms/step - loss: 0.0500 - acc: 0.9949 - val_loss: 0.0593 - val_acc: 0.9793\n",
      "Epoch 31/150\n",
      "389/389 [==============================] - 25s 63ms/step - loss: 0.1682 - acc: 0.9409 - val_loss: 0.0592 - val_acc: 0.9845\n",
      "Epoch 32/150\n",
      "389/389 [==============================] - 25s 63ms/step - loss: 0.2358 - acc: 0.9075 - val_loss: 0.0943 - val_acc: 0.9637\n",
      "Epoch 33/150\n",
      "389/389 [==============================] - 25s 63ms/step - loss: 0.0455 - acc: 0.9923 - val_loss: 0.0525 - val_acc: 0.9793\n",
      "Epoch 34/150\n",
      "389/389 [==============================] - 25s 63ms/step - loss: 0.0224 - acc: 1.0000 - val_loss: 0.0346 - val_acc: 0.9896\n",
      "Epoch 35/150\n",
      "389/389 [==============================] - 25s 63ms/step - loss: 0.2154 - acc: 0.9563 - val_loss: 0.0660 - val_acc: 0.9741\n",
      "Epoch 36/150\n",
      "389/389 [==============================] - 25s 63ms/step - loss: 0.2238 - acc: 0.9229 - val_loss: 0.0841 - val_acc: 0.9689\n",
      "Epoch 37/150\n",
      "389/389 [==============================] - 25s 64ms/step - loss: 0.0275 - acc: 0.9974 - val_loss: 0.0522 - val_acc: 0.9793\n",
      "Epoch 38/150\n",
      "389/389 [==============================] - 25s 63ms/step - loss: 0.2591 - acc: 0.9152 - val_loss: 0.1284 - val_acc: 0.9378\n",
      "Epoch 39/150\n",
      "389/389 [==============================] - 25s 63ms/step - loss: 0.0302 - acc: 0.9974 - val_loss: 0.0637 - val_acc: 0.9793\n",
      "Epoch 40/150\n",
      "389/389 [==============================] - 25s 63ms/step - loss: 0.0297 - acc: 0.9923 - val_loss: 2.3394 - val_acc: 0.4456\n",
      "Epoch 41/150\n",
      "389/389 [==============================] - 25s 63ms/step - loss: 0.2004 - acc: 0.9589 - val_loss: 0.0524 - val_acc: 0.9793\n",
      "Epoch 42/150\n",
      "389/389 [==============================] - 25s 64ms/step - loss: 0.0145 - acc: 1.0000 - val_loss: 0.0430 - val_acc: 0.9793\n",
      "Epoch 43/150\n",
      "389/389 [==============================] - 25s 64ms/step - loss: 0.2393 - acc: 0.9434 - val_loss: 0.0471 - val_acc: 0.9793\n",
      "Epoch 44/150\n",
      "389/389 [==============================] - 25s 63ms/step - loss: 0.0190 - acc: 1.0000 - val_loss: 0.0420 - val_acc: 0.9793\n",
      "Epoch 45/150\n",
      "389/389 [==============================] - 25s 63ms/step - loss: 0.0102 - acc: 0.9974 - val_loss: 0.1442 - val_acc: 0.9585\n",
      "Epoch 46/150\n",
      "389/389 [==============================] - 25s 63ms/step - loss: 0.2630 - acc: 0.9409 - val_loss: 0.0902 - val_acc: 0.9637\n",
      "Epoch 47/150\n",
      "389/389 [==============================] - 25s 63ms/step - loss: 0.0186 - acc: 0.9974 - val_loss: 1.9227 - val_acc: 0.4767\n",
      "Epoch 48/150\n",
      "389/389 [==============================] - 25s 63ms/step - loss: 0.1118 - acc: 0.9614 - val_loss: 0.0439 - val_acc: 0.9793\n",
      "Epoch 49/150\n",
      "389/389 [==============================] - 25s 63ms/step - loss: 0.0096 - acc: 1.0000 - val_loss: 0.0149 - val_acc: 1.0000\n",
      "Epoch 50/150\n",
      "389/389 [==============================] - 25s 63ms/step - loss: 0.2078 - acc: 0.9409 - val_loss: 0.0339 - val_acc: 0.9896\n",
      "Epoch 51/150\n",
      "389/389 [==============================] - 25s 63ms/step - loss: 0.0100 - acc: 1.0000 - val_loss: 0.0208 - val_acc: 1.0000\n",
      "Epoch 52/150\n",
      "389/389 [==============================] - 24s 63ms/step - loss: 0.3282 - acc: 0.9332 - val_loss: 0.0291 - val_acc: 0.9948\n",
      "Epoch 53/150\n",
      "389/389 [==============================] - 25s 63ms/step - loss: 0.0105 - acc: 1.0000 - val_loss: 0.0372 - val_acc: 0.9845\n",
      "Epoch 54/150\n",
      "389/389 [==============================] - 25s 63ms/step - loss: 0.0092 - acc: 1.0000 - val_loss: 0.0409 - val_acc: 0.9741\n",
      "Epoch 55/150\n",
      "389/389 [==============================] - 25s 63ms/step - loss: 0.1590 - acc: 0.9383 - val_loss: 0.0730 - val_acc: 0.9689\n",
      "Epoch 56/150\n",
      "389/389 [==============================] - 25s 63ms/step - loss: 0.0084 - acc: 1.0000 - val_loss: 0.0532 - val_acc: 0.9741\n",
      "Epoch 57/150\n",
      "389/389 [==============================] - 25s 63ms/step - loss: 0.0067 - acc: 1.0000 - val_loss: 0.0130 - val_acc: 1.0000\n",
      "Epoch 58/150\n",
      "389/389 [==============================] - 25s 63ms/step - loss: 0.0028 - acc: 1.0000 - val_loss: 0.0235 - val_acc: 0.9896\n",
      "Epoch 59/150\n",
      "389/389 [==============================] - 25s 63ms/step - loss: 0.3216 - acc: 0.9177 - val_loss: 0.0848 - val_acc: 0.9689\n",
      "Epoch 60/150\n",
      "389/389 [==============================] - 25s 63ms/step - loss: 0.0080 - acc: 0.9974 - val_loss: 0.0125 - val_acc: 1.0000\n"
     ]
    },
    {
     "name": "stdout",
     "output_type": "stream",
     "text": [
      "Epoch 61/150\n",
      "389/389 [==============================] - 25s 63ms/step - loss: 0.0052 - acc: 1.0000 - val_loss: 0.0120 - val_acc: 1.0000\n",
      "Epoch 62/150\n",
      "389/389 [==============================] - 25s 63ms/step - loss: 0.0024 - acc: 1.0000 - val_loss: 0.0077 - val_acc: 1.0000\n",
      "Epoch 63/150\n",
      "389/389 [==============================] - 25s 64ms/step - loss: 0.0031 - acc: 1.0000 - val_loss: 3.1934 - val_acc: 0.5855\n",
      "Epoch 64/150\n",
      "389/389 [==============================] - 25s 63ms/step - loss: 0.3668 - acc: 0.9486 - val_loss: 0.0209 - val_acc: 0.9896\n",
      "Epoch 65/150\n",
      "389/389 [==============================] - 24s 63ms/step - loss: 0.0040 - acc: 1.0000 - val_loss: 0.7887 - val_acc: 0.6684\n",
      "Epoch 66/150\n",
      "389/389 [==============================] - 25s 64ms/step - loss: 0.2534 - acc: 0.9434 - val_loss: 0.0262 - val_acc: 0.9896\n",
      "Epoch 67/150\n",
      "389/389 [==============================] - 25s 64ms/step - loss: 0.0046 - acc: 1.0000 - val_loss: 0.0231 - val_acc: 0.9896\n",
      "Epoch 68/150\n",
      "389/389 [==============================] - 25s 63ms/step - loss: 0.0034 - acc: 1.0000 - val_loss: 0.0403 - val_acc: 0.9845\n",
      "Epoch 69/150\n",
      "389/389 [==============================] - 25s 63ms/step - loss: 0.2510 - acc: 0.9434 - val_loss: 0.0246 - val_acc: 0.9948\n",
      "Epoch 70/150\n",
      "389/389 [==============================] - 25s 64ms/step - loss: 0.0055 - acc: 1.0000 - val_loss: 0.0346 - val_acc: 0.9845\n",
      "Epoch 71/150\n",
      "389/389 [==============================] - 25s 65ms/step - loss: 0.0049 - acc: 1.0000 - val_loss: 0.0151 - val_acc: 0.9948\n",
      "Epoch 72/150\n",
      "389/389 [==============================] - 25s 65ms/step - loss: 0.2189 - acc: 0.9254 - val_loss: 0.0530 - val_acc: 0.9793\n",
      "Epoch 73/150\n",
      "389/389 [==============================] - 25s 64ms/step - loss: 0.0133 - acc: 0.9974 - val_loss: 0.0562 - val_acc: 0.9793\n",
      "Epoch 74/150\n",
      "389/389 [==============================] - 25s 64ms/step - loss: 0.0067 - acc: 1.0000 - val_loss: 0.0309 - val_acc: 0.9845\n",
      "Epoch 75/150\n",
      "389/389 [==============================] - 25s 63ms/step - loss: 0.0027 - acc: 1.0000 - val_loss: 0.0269 - val_acc: 0.9793\n",
      "Epoch 76/150\n",
      "389/389 [==============================] - 25s 64ms/step - loss: 0.0022 - acc: 1.0000 - val_loss: 0.0058 - val_acc: 1.0000\n",
      "Epoch 77/150\n",
      "389/389 [==============================] - 25s 63ms/step - loss: 0.2129 - acc: 0.9640 - val_loss: 0.0464 - val_acc: 0.9845\n",
      "Epoch 78/150\n",
      "389/389 [==============================] - 25s 64ms/step - loss: 0.0034 - acc: 1.0000 - val_loss: 0.0140 - val_acc: 0.9948\n",
      "Epoch 79/150\n",
      "389/389 [==============================] - 25s 64ms/step - loss: 0.0015 - acc: 1.0000 - val_loss: 0.0105 - val_acc: 0.9948\n",
      "Epoch 80/150\n",
      "389/389 [==============================] - 25s 63ms/step - loss: 9.4940e-04 - acc: 1.0000 - val_loss: 0.0037 - val_acc: 1.0000\n",
      "Epoch 81/150\n",
      "389/389 [==============================] - 25s 63ms/step - loss: 5.7354e-04 - acc: 1.0000 - val_loss: 0.0031 - val_acc: 1.0000\n",
      "Epoch 82/150\n",
      "389/389 [==============================] - 25s 63ms/step - loss: 0.5710 - acc: 0.9100 - val_loss: 0.0568 - val_acc: 0.9793\n",
      "Epoch 83/150\n",
      "389/389 [==============================] - 25s 64ms/step - loss: 0.0036 - acc: 1.0000 - val_loss: 0.0171 - val_acc: 0.9948\n",
      "Epoch 84/150\n",
      "389/389 [==============================] - 25s 64ms/step - loss: 0.0020 - acc: 1.0000 - val_loss: 0.0072 - val_acc: 1.0000\n",
      "Epoch 85/150\n",
      "389/389 [==============================] - 25s 63ms/step - loss: 0.0012 - acc: 1.0000 - val_loss: 0.0067 - val_acc: 1.0000\n",
      "Epoch 86/150\n",
      "389/389 [==============================] - 25s 64ms/step - loss: 0.0010 - acc: 1.0000 - val_loss: 0.0045 - val_acc: 1.0000\n",
      "Epoch 87/150\n",
      "389/389 [==============================] - 25s 64ms/step - loss: 8.1685e-04 - acc: 1.0000 - val_loss: 0.0080 - val_acc: 1.0000\n",
      "Epoch 88/150\n",
      "389/389 [==============================] - 25s 63ms/step - loss: 0.4773 - acc: 0.9203 - val_loss: 0.0871 - val_acc: 0.9741\n",
      "Epoch 89/150\n",
      "389/389 [==============================] - 25s 64ms/step - loss: 0.0060 - acc: 0.9974 - val_loss: 0.0194 - val_acc: 0.9948\n",
      "Epoch 90/150\n",
      "389/389 [==============================] - 25s 64ms/step - loss: 0.0045 - acc: 1.0000 - val_loss: 0.0159 - val_acc: 0.9948\n",
      "Epoch 91/150\n",
      "389/389 [==============================] - 25s 64ms/step - loss: 0.0019 - acc: 1.0000 - val_loss: 0.0161 - val_acc: 0.9896\n",
      "Epoch 92/150\n",
      "389/389 [==============================] - 25s 65ms/step - loss: 0.0015 - acc: 1.0000 - val_loss: 0.0117 - val_acc: 1.0000\n",
      "Epoch 93/150\n",
      "389/389 [==============================] - 25s 63ms/step - loss: 7.3933e-04 - acc: 1.0000 - val_loss: 0.0036 - val_acc: 1.0000\n",
      "Epoch 94/150\n",
      "389/389 [==============================] - 25s 63ms/step - loss: 4.0555e-04 - acc: 1.0000 - val_loss: 0.1200 - val_acc: 0.9689\n",
      "Epoch 95/150\n",
      "389/389 [==============================] - 25s 63ms/step - loss: 0.0184 - acc: 0.9974 - val_loss: 0.2085 - val_acc: 0.9430\n",
      "Epoch 96/150\n",
      "389/389 [==============================] - 25s 63ms/step - loss: 0.2753 - acc: 0.9357 - val_loss: 0.0282 - val_acc: 0.9896\n",
      "Epoch 97/150\n",
      "389/389 [==============================] - 26s 66ms/step - loss: 0.0028 - acc: 1.0000 - val_loss: 0.0214 - val_acc: 0.9948\n",
      "Epoch 98/150\n",
      "389/389 [==============================] - 25s 64ms/step - loss: 0.0019 - acc: 1.0000 - val_loss: 0.0139 - val_acc: 0.9948\n",
      "Epoch 99/150\n",
      "389/389 [==============================] - 25s 64ms/step - loss: 0.0016 - acc: 1.0000 - val_loss: 0.0126 - val_acc: 0.9948\n",
      "Epoch 100/150\n",
      "389/389 [==============================] - 25s 63ms/step - loss: 7.7511e-04 - acc: 1.0000 - val_loss: 0.0159 - val_acc: 0.9948\n",
      "Epoch 101/150\n",
      "389/389 [==============================] - 24s 63ms/step - loss: 6.3107e-04 - acc: 1.0000 - val_loss: 0.0015 - val_acc: 1.0000\n",
      "Epoch 102/150\n",
      "389/389 [==============================] - 25s 65ms/step - loss: 3.3061e-04 - acc: 1.0000 - val_loss: 7.2432e-04 - val_acc: 1.0000\n",
      "Epoch 103/150\n",
      "389/389 [==============================] - 25s 65ms/step - loss: 2.1847e-04 - acc: 1.0000 - val_loss: 4.2324e-04 - val_acc: 1.0000\n",
      "Epoch 104/150\n",
      "389/389 [==============================] - 25s 65ms/step - loss: 1.6245e-04 - acc: 1.0000 - val_loss: 1.6978e-04 - val_acc: 1.0000\n",
      "Epoch 105/150\n",
      "389/389 [==============================] - 25s 65ms/step - loss: 0.6151 - acc: 0.8997 - val_loss: 0.0031 - val_acc: 1.0000\n",
      "Epoch 106/150\n",
      "389/389 [==============================] - 25s 65ms/step - loss: 0.0012 - acc: 1.0000 - val_loss: 0.0030 - val_acc: 1.0000\n",
      "Epoch 107/150\n",
      "389/389 [==============================] - 25s 65ms/step - loss: 8.9902e-04 - acc: 1.0000 - val_loss: 0.0036 - val_acc: 1.0000\n",
      "Epoch 108/150\n",
      "389/389 [==============================] - 25s 64ms/step - loss: 6.6672e-04 - acc: 1.0000 - val_loss: 0.0038 - val_acc: 1.0000\n",
      "Epoch 109/150\n",
      "389/389 [==============================] - 25s 64ms/step - loss: 9.6660e-04 - acc: 1.0000 - val_loss: 0.2142 - val_acc: 0.9275\n",
      "Epoch 110/150\n",
      "389/389 [==============================] - 25s 63ms/step - loss: 0.3282 - acc: 0.9537 - val_loss: 0.0265 - val_acc: 0.9896\n",
      "Epoch 111/150\n",
      "389/389 [==============================] - 25s 64ms/step - loss: 0.0015 - acc: 1.0000 - val_loss: 0.0096 - val_acc: 0.9948\n",
      "Epoch 112/150\n",
      "389/389 [==============================] - 25s 64ms/step - loss: 8.4338e-04 - acc: 1.0000 - val_loss: 0.0042 - val_acc: 1.0000\n",
      "Epoch 113/150\n",
      "389/389 [==============================] - 25s 63ms/step - loss: 5.0200e-04 - acc: 1.0000 - val_loss: 0.0026 - val_acc: 1.0000\n",
      "Epoch 114/150\n",
      "389/389 [==============================] - 25s 64ms/step - loss: 3.8365e-04 - acc: 1.0000 - val_loss: 0.0030 - val_acc: 1.0000\n",
      "Epoch 115/150\n",
      "389/389 [==============================] - 25s 65ms/step - loss: 3.0445e-04 - acc: 1.0000 - val_loss: 0.0448 - val_acc: 0.9793\n",
      "Epoch 116/150\n",
      "389/389 [==============================] - 25s 65ms/step - loss: 0.3476 - acc: 0.9177 - val_loss: 0.3062 - val_acc: 0.9067\n",
      "Epoch 117/150\n",
      "389/389 [==============================] - 25s 65ms/step - loss: 0.0099 - acc: 0.9974 - val_loss: 0.0708 - val_acc: 0.9741\n",
      "Epoch 118/150\n",
      "389/389 [==============================] - 26s 66ms/step - loss: 0.0029 - acc: 1.0000 - val_loss: 0.0300 - val_acc: 0.9845\n",
      "Epoch 119/150\n",
      "389/389 [==============================] - 26s 66ms/step - loss: 0.0011 - acc: 1.0000 - val_loss: 0.0061 - val_acc: 1.0000\n",
      "Epoch 120/150\n"
     ]
    },
    {
     "name": "stdout",
     "output_type": "stream",
     "text": [
      "389/389 [==============================] - 26s 66ms/step - loss: 8.8643e-04 - acc: 1.0000 - val_loss: 0.0139 - val_acc: 0.9896\n",
      "Epoch 121/150\n",
      "389/389 [==============================] - 26s 66ms/step - loss: 5.3845e-04 - acc: 1.0000 - val_loss: 0.0121 - val_acc: 0.9948\n",
      "Epoch 122/150\n",
      "389/389 [==============================] - 26s 66ms/step - loss: 3.9173e-04 - acc: 1.0000 - val_loss: 0.0047 - val_acc: 1.0000\n",
      "Epoch 123/150\n",
      "389/389 [==============================] - 25s 65ms/step - loss: 2.2686e-04 - acc: 1.0000 - val_loss: 0.0033 - val_acc: 1.0000\n",
      "Epoch 124/150\n",
      "389/389 [==============================] - 26s 66ms/step - loss: 1.5517e-04 - acc: 1.0000 - val_loss: 7.8219e-04 - val_acc: 1.0000\n",
      "Epoch 125/150\n",
      "389/389 [==============================] - 26s 66ms/step - loss: 1.1143e-04 - acc: 1.0000 - val_loss: 1.2409e-04 - val_acc: 1.0000\n",
      "Epoch 126/150\n",
      "389/389 [==============================] - 25s 65ms/step - loss: 5.6964e-05 - acc: 1.0000 - val_loss: 1.1698e-04 - val_acc: 1.0000\n",
      "Epoch 127/150\n",
      "389/389 [==============================] - 25s 64ms/step - loss: 0.0418 - acc: 0.9949 - val_loss: 0.9630 - val_acc: 0.7927\n",
      "Epoch 128/150\n",
      "389/389 [==============================] - 25s 63ms/step - loss: 0.0182 - acc: 0.9974 - val_loss: 0.0021 - val_acc: 1.0000\n",
      "Epoch 129/150\n",
      "389/389 [==============================] - 25s 64ms/step - loss: 1.8483e-04 - acc: 1.0000 - val_loss: 0.0025 - val_acc: 1.0000\n",
      "Epoch 130/150\n",
      "389/389 [==============================] - 25s 64ms/step - loss: 1.1533e-04 - acc: 1.0000 - val_loss: 0.0018 - val_acc: 1.0000\n",
      "Epoch 131/150\n",
      "389/389 [==============================] - 25s 64ms/step - loss: 1.3301e-04 - acc: 1.0000 - val_loss: 0.0019 - val_acc: 1.0000\n",
      "Epoch 132/150\n",
      "389/389 [==============================] - 25s 63ms/step - loss: 1.2381e-04 - acc: 1.0000 - val_loss: 0.0011 - val_acc: 1.0000\n",
      "Epoch 133/150\n",
      "389/389 [==============================] - 25s 64ms/step - loss: 8.4343e-05 - acc: 1.0000 - val_loss: 0.0016 - val_acc: 1.0000\n",
      "Epoch 134/150\n",
      "389/389 [==============================] - 25s 64ms/step - loss: 5.8600e-05 - acc: 1.0000 - val_loss: 0.0012 - val_acc: 1.0000\n",
      "Epoch 135/150\n",
      "389/389 [==============================] - 25s 64ms/step - loss: 5.2113e-05 - acc: 1.0000 - val_loss: 0.0271 - val_acc: 0.9948\n",
      "Epoch 136/150\n",
      "389/389 [==============================] - 25s 64ms/step - loss: 4.4733e-05 - acc: 1.0000 - val_loss: 1.9631e-05 - val_acc: 1.0000\n",
      "Epoch 137/150\n",
      "389/389 [==============================] - 25s 64ms/step - loss: 2.1045e-05 - acc: 1.0000 - val_loss: 1.7808e-04 - val_acc: 1.0000\n",
      "Epoch 138/150\n",
      "389/389 [==============================] - 25s 65ms/step - loss: 0.0320 - acc: 0.9897 - val_loss: 6.4175 - val_acc: 0.4197\n",
      "Epoch 139/150\n",
      "389/389 [==============================] - 25s 64ms/step - loss: 0.8925 - acc: 0.9075 - val_loss: 0.0783 - val_acc: 0.9741\n",
      "Epoch 140/150\n",
      "389/389 [==============================] - 25s 65ms/step - loss: 0.0024 - acc: 1.0000 - val_loss: 0.0201 - val_acc: 0.9896\n",
      "Epoch 141/150\n",
      "389/389 [==============================] - 25s 65ms/step - loss: 7.5743e-04 - acc: 1.0000 - val_loss: 0.0224 - val_acc: 0.9896\n",
      "Epoch 142/150\n",
      "389/389 [==============================] - 25s 65ms/step - loss: 3.2129e-04 - acc: 1.0000 - val_loss: 0.0143 - val_acc: 0.9896\n",
      "Epoch 143/150\n",
      "389/389 [==============================] - 25s 65ms/step - loss: 2.5894e-04 - acc: 1.0000 - val_loss: 0.0233 - val_acc: 0.9896\n",
      "Epoch 144/150\n",
      "389/389 [==============================] - 25s 64ms/step - loss: 2.0116e-04 - acc: 1.0000 - val_loss: 0.0138 - val_acc: 0.9896\n",
      "Epoch 145/150\n",
      "389/389 [==============================] - 25s 64ms/step - loss: 1.3087e-04 - acc: 1.0000 - val_loss: 0.0085 - val_acc: 0.9948\n",
      "Epoch 146/150\n",
      "389/389 [==============================] - 25s 64ms/step - loss: 8.5519e-05 - acc: 1.0000 - val_loss: 0.0020 - val_acc: 1.0000\n",
      "Epoch 147/150\n",
      "389/389 [==============================] - 25s 63ms/step - loss: 0.5692 - acc: 0.9486 - val_loss: 0.0637 - val_acc: 0.9793\n",
      "Epoch 148/150\n",
      "389/389 [==============================] - 25s 63ms/step - loss: 6.2219e-04 - acc: 1.0000 - val_loss: 0.0047 - val_acc: 1.0000\n",
      "Epoch 149/150\n",
      "389/389 [==============================] - 25s 64ms/step - loss: 1.3387e-04 - acc: 1.0000 - val_loss: 0.0024 - val_acc: 1.0000\n",
      "Epoch 150/150\n",
      "389/389 [==============================] - 25s 63ms/step - loss: 2.6301e-04 - acc: 1.0000 - val_loss: 0.0012 - val_acc: 1.0000\n"
     ]
    }
   ],
   "source": [
    "model = create_model()\n",
    "cb = keras.callbacks.TensorBoard(log_dir='/usr/Graph', histogram_freq=0, batch_size=32, write_graph=True, write_grads=False, write_images=False, embeddings_freq=0, embeddings_layer_names=None, embeddings_metadata=None, embeddings_data=None, update_freq='epoch')\n",
    "\n",
    "hist = model.fit(x = data_dg, y = label_dg, epochs=150, batch_size=32, callbacks=[cb],validation_split=0.33)\n",
    "\n",
    "#out = cross_val_score(neural_network, data_dg, label_dg, cv=10,)"
   ]
  },
  {
   "cell_type": "code",
   "execution_count": 39,
   "metadata": {
    "scrolled": true
   },
   "outputs": [
    {
     "name": "stdout",
     "output_type": "stream",
     "text": [
      "Saved working directory and index state WIP on master: 71b71a4 Upload inizio relazione\r\n",
      "HEAD is now at 71b71a4 Upload inizio relazione\r\n"
     ]
    }
   ],
   "source": [
    "#out\n",
    "#!git config --global user.email \"antoniomusolino007@gmail.com\"\n",
    "!git stash --include-untracked\n",
    "#!git add ../.\n",
    "#!git commit -m 'Aggiunto nuovo codice e salvato modello di Dario ottimale'\n",
    "#!git push \n",
    "#print(out)\n",
    "#out.mean()"
   ]
  },
  {
   "cell_type": "code",
   "execution_count": 13,
   "metadata": {},
   "outputs": [
    {
     "data": {
      "image/png": "[encoded data removed]",
      "text/plain": [
       "<Figure size 432x288 with 1 Axes>"
      ]
     },
     "metadata": {
      "needs_background": "light"
     },
     "output_type": "display_data"
    }
   ],
   "source": [
    "%matplotlib inline\n",
    "import matplotlib.pyplot as plt\n",
    "\n",
    "def gen_mean (curve):\n",
    "    mean = [0]* len(curve)\n",
    "    mean[0] = curve[0]\n",
    "    for i in range(1,len(curve)):\n",
    "        mean[i] = ((mean[i-1] )*i + out[i])/(i+1)\n",
    "    return mean\n",
    "from scipy.ndimage.filters import gaussian_filter1d\n",
    "\n",
    "\n",
    "plt.plot(hist.history['acc'])\n",
    "plt.plot(hist.history['val_acc'])\n",
    "plt.title('Model_Accuracy')\n",
    "plt.ylabel('accuracy')\n",
    "plt.xlabel('epoch')\n",
    "plt.legend(['Learn', 'Test'], loc='lower right')\n",
    "plt.savefig('./150_epoch_accuracy_new_data_antonio')"
   ]
  },
  {
   "cell_type": "code",
   "execution_count": 14,
   "metadata": {},
   "outputs": [
    {
     "data": {
      "image/png": "[encoded data removed]",
      "text/plain": [
       "<Figure size 432x288 with 1 Axes>"
      ]
     },
     "metadata": {
      "needs_background": "light"
     },
     "output_type": "display_data"
    }
   ],
   "source": [
    "%matplotlib inline\n",
    "import matplotlib.pyplot as plt\n",
    "plt.plot(hist.history['acc'])\n",
    "plt.plot(hist.history['val_acc'])\n",
    "plt.title('model accuracy')\n",
    "plt.ylabel('accuracy')\n",
    "plt.xlabel('epoch')\n",
    "plt.legend(['train', 'test'], loc='upper left')\n",
    "plt.savefig('./model_accuracy_40Epoch_scaled',quality=100,)"
   ]
  },
  {
   "cell_type": "code",
   "execution_count": 15,
   "metadata": {},
   "outputs": [
    {
     "data": {
      "text/plain": [
       "<matplotlib.legend.Legend at 0x7f350002fa58>"
      ]
     },
     "execution_count": 15,
     "metadata": {},
     "output_type": "execute_result"
    },
    {
     "data": {
      "image/png": "[encoded data removed]",
      "text/plain": [
       "<Figure size 432x288 with 1 Axes>"
      ]
     },
     "metadata": {
      "needs_background": "light"
     },
     "output_type": "display_data"
    }
   ],
   "source": [
    "plt.plot(hist.history['loss'])\n",
    "plt.plot(hist.history['val_loss'])\n",
    "plt.title('model loss')\n",
    "plt.ylabel('loss')\n",
    "plt.xlabel('epoch')\n",
    "plt.legend(['train', 'test'], loc='upper left')\n",
    "#plt.savefig('./model_loss_40Epoch_scaled')"
   ]
  },
  {
   "cell_type": "code",
   "execution_count": 28,
   "metadata": {},
   "outputs": [],
   "source": [
    "#model_dario_reloaded = load_model(\"model_dario_good_performance.h5\")\n",
    "#model_antonio_reloaded = load_model('model_antonio_good_performance.h5')\n"
   ]
  },
  {
   "cell_type": "code",
   "execution_count": 42,
   "metadata": {
    "scrolled": true
   },
   "outputs": [
    {
     "name": "stdout",
     "output_type": "stream",
     "text": [
      "302/302 [==============================] - 6s 20ms/step\n",
      "35/35 [==============================] - 1s 28ms/step\n",
      "[0.0007902320327072166, 1.0]\n",
      "[6.17785091890255e-05, 1.0]\n"
     ]
    }
   ],
   "source": [
    "x, y = xy_data(labelled_data_g)\n",
    "x1, y1, = xy_data(labelled_data_d)\n",
    "out_dario_reloaded = model_dario_reloaded.evaluate(x, y)\n",
    "out_dario_reloaded2 = model_dario_reloaded.evaluate(x1, y1)\n",
    "\n",
    "print(out_dario_reloaded)\n",
    "print(out_dario_reloaded2)"
   ]
  },
  {
   "cell_type": "code",
   "execution_count": 24,
   "metadata": {},
   "outputs": [
    {
     "name": "stdout",
     "output_type": "stream",
     "text": [
      "49/49 [==============================] - 1s 20ms/step\n"
     ]
    },
    {
     "data": {
      "text/plain": [
       "[2.606671415025853e-06, 1.0]"
      ]
     },
     "execution_count": 24,
     "metadata": {},
     "output_type": "execute_result"
    }
   ],
   "source": [
    "\n",
    "with open('../dati/dati_con_penna/concatenati/pad/antonio_1_concat_antonio_2_pad.json', 'r') as f:\n",
    "    attack = json.load(f)\n",
    "\n",
    "attack = np.array(attack)\n",
    "#print(attack.shape)\n",
    "model_dario_reloaded.evaluate(attack, np.zeros(attack.shape[0]))\n",
    "#attack"
   ]
  },
  {
   "cell_type": "code",
   "execution_count": null,
   "metadata": {},
   "outputs": [],
   "source": []
  }
 ],
 "metadata": {
  "kernelspec": {
   "display_name": "Python 3",
   "language": "python",
   "name": "python3"
  },
  "language_info": {
   "codemirror_mode": {
    "name": "ipython",
    "version": 3
   },
   "file_extension": ".py",
   "mimetype": "text/x-python",
   "name": "python",
   "nbconvert_exporter": "python",
   "pygments_lexer": "ipython3",
   "version": "3.6.8"
  }
 },
 "nbformat": 4,
 "nbformat_minor": 2
}
